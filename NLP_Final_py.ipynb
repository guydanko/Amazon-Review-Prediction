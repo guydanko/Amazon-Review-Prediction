{
  "nbformat": 4,
  "nbformat_minor": 0,
  "metadata": {
    "accelerator": "GPU",
    "colab": {
      "name": "NLP_Final.py",
      "provenance": [],
      "collapsed_sections": [],
      "toc_visible": true
    },
    "kernelspec": {
      "display_name": "Python 3",
      "name": "python3"
    }
  },
  "cells": [
    {
      "cell_type": "markdown",
      "metadata": {
        "id": "M3GZIQ-hsFQZ"
      },
      "source": [
        "# Initial Setup"
      ]
    },
    {
      "cell_type": "code",
      "metadata": {
        "colab": {
          "base_uri": "https://localhost:8080/"
        },
        "id": "OjggjbCyEeFL",
        "outputId": "a46cc5de-9eed-48ac-e766-a8ed2bc7974a"
      },
      "source": [
        "from google.colab import drive\n",
        "drive.mount('/content/drive')"
      ],
      "execution_count": 1,
      "outputs": [
        {
          "output_type": "stream",
          "text": [
            "Mounted at /content/drive\n"
          ],
          "name": "stdout"
        }
      ]
    },
    {
      "cell_type": "markdown",
      "metadata": {
        "id": "xWG4J6ctsMYW"
      },
      "source": [
        "Install pytorch"
      ]
    },
    {
      "cell_type": "code",
      "metadata": {
        "id": "ERPBL6xYEfhP"
      },
      "source": [
        "!pip3 install torch==1.2.0+cu92 torchvision==0.4.0+cu92 -f https://download.pytorch.org/whl/torch_stable.html"
      ],
      "execution_count": null,
      "outputs": []
    },
    {
      "cell_type": "markdown",
      "metadata": {
        "id": "wRJ74vPF7iMt"
      },
      "source": [
        "#Cleaning and Shuffling the Data"
      ]
    },
    {
      "cell_type": "code",
      "metadata": {
        "colab": {
          "base_uri": "https://localhost:8080/"
        },
        "id": "9a5o-2ZqJIUx",
        "outputId": "b64d54f1-8175-4f0b-8476-4565d21f5560"
      },
      "source": [
        "import json\n",
        "\n",
        "DATA_PATH = '/content/drive/MyDrive/Colab Notebooks/Movies_and_TV.json'\n",
        "\n",
        "def create_balanced_data(data_path=DATA_PATH, num_samples_from_each_category = 400000):\n",
        "    count_data = {1: 0, 2: 0, 3: 0, 4: 0, 5: 0}\n",
        "    f_read = open(data_path, \"r\")\n",
        "    f_write = open(\"/content/drive/MyDrive/Colab Notebooks/Movies_and_TV_Balanced_400k_Not_Clean.json\", 'w')\n",
        "    for line in f_read:\n",
        "        review_json = json.loads(line)\n",
        "        if 'reviewText' in review_json:\n",
        "            if count_data[int(review_json['overall'])] >= num_samples_from_each_category:\n",
        "                continue\n",
        "            else:\n",
        "                count_data[int(review_json['overall'])] += 1\n",
        "                review_dict = {'reviewText': review_json['reviewText'], 'overall': review_json['overall']}\n",
        "                reviews_as_dicts.append(review_dict)\n",
        "                review_json = json.dumps(review_dict)\n",
        "                f_write.write(review_json + \"\\n\")\n",
        "    print(count_data)\n",
        "    f_read.close()\n",
        "    f_write.close()\n",
        "\n",
        "create_balanced_data()\n",
        "\n",
        "DATA_PATH = \"/content/drive/MyDrive/Colab Notebooks/Movies_and_TV_Balanced_400k_Not_Clean.json\""
      ],
      "execution_count": null,
      "outputs": [
        {
          "output_type": "stream",
          "text": [
            "{1: 400000, 2: 400000, 3: 400000, 4: 400000, 5: 400000}\n"
          ],
          "name": "stdout"
        }
      ]
    },
    {
      "cell_type": "markdown",
      "metadata": {
        "id": "hL3FeT7VsPQ7"
      },
      "source": [
        "#Loading The Data"
      ]
    },
    {
      "cell_type": "markdown",
      "metadata": {
        "id": "x6NFAjEhuiHm"
      },
      "source": [
        "#Clean The Data\n"
      ]
    },
    {
      "cell_type": "code",
      "metadata": {
        "colab": {
          "base_uri": "https://localhost:8080/"
        },
        "id": "TRhyzYrMFrax",
        "outputId": "1abc6596-e076-4ee3-90cf-335f0b2e0377"
      },
      "source": [
        "import json\n",
        "import nltk\n",
        "import html\n",
        "from nltk.corpus import stopwords\n",
        "from nltk.tokenize import word_tokenize\n",
        "import re\n",
        "from nltk.corpus import stopwords\n",
        "from tqdm import tqdm\n",
        "\n",
        "nltk.download('stopwords')\n",
        "nltk.download('punkt')\n",
        "\n",
        "stopwords = set(stopwords.words('english'))\n",
        "\n",
        "def clean_review(review):\n",
        "  review_text = html.unescape(review)\n",
        "  review_text = re.sub(r\"<.*?>\", ' ', review_text)\n",
        "  review_text = re.sub(r\"\\&\\#[0-9]+\\;\", '', review_text)\n",
        "  review_text = re.sub(r\"[`'\\\"-/,.!?()><=]\", \" \", review_text)\n",
        "  review_text = review_text.lower()\n",
        "  review_text = word_tokenize(review_text)\n",
        "  tokens_without_sw = [word for word in review_text if not word in stopwords]\n",
        "  text_clean = \"\"\n",
        "  for word in tokens_without_sw:\n",
        "      text_clean += word + \" \"\n",
        "  return text_clean[:-1]"
      ],
      "execution_count": null,
      "outputs": [
        {
          "output_type": "stream",
          "text": [
            "[nltk_data] Downloading package stopwords to /root/nltk_data...\n",
            "[nltk_data]   Unzipping corpora/stopwords.zip.\n",
            "[nltk_data] Downloading package punkt to /root/nltk_data...\n",
            "[nltk_data]   Unzipping tokenizers/punkt.zip.\n"
          ],
          "name": "stdout"
        }
      ]
    },
    {
      "cell_type": "code",
      "metadata": {
        "colab": {
          "base_uri": "https://localhost:8080/"
        },
        "id": "VxXzq9ZEnwSx",
        "outputId": "cfeebab1-f26f-445d-d1c1-9589828656aa"
      },
      "source": [
        "import json\n",
        "\n",
        "DATA_PATH = \"/content/drive/MyDrive/Colab Notebooks/Movies_and_TV_Balanced_400k_Not_Clean.json\"\n",
        "\n",
        "def create_balanced_data(data_path=DATA_PATH, num_samples_from_each_category = 400000):\n",
        "    count_data = {1: 0, 2: 0, 3: 0, 4: 0, 5: 0}\n",
        "    f_read = open(data_path, \"r\")\n",
        "    f_write = open(\"/content/drive/MyDrive/Colab Notebooks/Movies_and_TV_Balanced_400k_Clean.json\", 'w')\n",
        "    # data = []\n",
        "    for line in f_read:\n",
        "        review_json = json.loads(line)\n",
        "        if 'reviewText' in review_json:\n",
        "            if count_data[int(review_json['overall'])] >= num_samples_from_each_category:\n",
        "                continue\n",
        "            else:\n",
        "                count_data[int(review_json['overall'])] += 1\n",
        "                review_dict = {'reviewText': clean_review(review_json['reviewText']), 'overall': review_json['overall']}\n",
        "                review_json = json.dumps(review_dict)\n",
        "                f_write.write(review_json + \"\\n\")\n",
        "    print(count_data)\n",
        "    f_read.close()\n",
        "    f_write.close()\n",
        "\n",
        "create_balanced_data()\n"
      ],
      "execution_count": null,
      "outputs": [
        {
          "output_type": "stream",
          "text": [
            "{1: 400000, 2: 400000, 3: 400000, 4: 400000, 5: 400000}\n"
          ],
          "name": "stdout"
        }
      ]
    },
    {
      "cell_type": "code",
      "metadata": {
        "colab": {
          "base_uri": "https://localhost:8080/"
        },
        "id": "di2wZx2q3eTf",
        "outputId": "e8a3145b-1fc1-4012-8671-4305bf663905"
      },
      "source": [
        "import json\n",
        "import nltk\n",
        "import html\n",
        "from nltk.corpus import stopwords\n",
        "from nltk.tokenize import word_tokenize\n",
        "import re\n",
        "from nltk.corpus import stopwords\n",
        "from tqdm import tqdm\n",
        "\n",
        "nltk.download('stopwords')\n",
        "nltk.download('punkt')\n",
        "\n",
        "stopwords = set(stopwords.words('english'))\n",
        "\n",
        "def clean_review(review):\n",
        "  review_text = html.unescape(review)\n",
        "  review_text = re.sub(r\"<.*?>\", ' ', review_text)\n",
        "  review_text = re.sub(r\"\\&\\#[0-9]+\\;\", '', review_text)\n",
        "  review_text = re.sub(r\"[`'\\\"-/,.!?()><=]\", \" \", review_text)\n",
        "  review_text = review_text.lower()\n",
        "  review_text = word_tokenize(review_text)\n",
        "  return ' '.join(review_text)"
      ],
      "execution_count": null,
      "outputs": [
        {
          "output_type": "stream",
          "text": [
            "[nltk_data] Downloading package stopwords to /root/nltk_data...\n",
            "[nltk_data]   Package stopwords is already up-to-date!\n",
            "[nltk_data] Downloading package punkt to /root/nltk_data...\n",
            "[nltk_data]   Package punkt is already up-to-date!\n"
          ],
          "name": "stdout"
        }
      ]
    },
    {
      "cell_type": "code",
      "metadata": {
        "colab": {
          "base_uri": "https://localhost:8080/"
        },
        "id": "hP0SjDLP3bfc",
        "outputId": "7d99b9f9-3145-485e-879a-0c94155f261d"
      },
      "source": [
        "import json\n",
        "\n",
        "DATA_PATH = \"/content/drive/MyDrive/Colab Notebooks/Movies_and_TV_Balanced_400k_Not_Clean.json\"\n",
        "\n",
        "def create_balanced_data(data_path=DATA_PATH, num_samples_from_each_category = 400000):\n",
        "    count_data = {1: 0, 2: 0, 3: 0, 4: 0, 5: 0}\n",
        "    f_read = open(data_path, \"r\")\n",
        "    f_write = open(\"/content/drive/MyDrive/Colab Notebooks/Movies_and_TV_Balanced_400k_Clean_With_Stops.json\", 'w')\n",
        "    # data = []\n",
        "    for line in f_read:\n",
        "        review_json = json.loads(line)\n",
        "        if 'reviewText' in review_json:\n",
        "            if count_data[int(review_json['overall'])] >= num_samples_from_each_category:\n",
        "                continue\n",
        "            else:\n",
        "                count_data[int(review_json['overall'])] += 1\n",
        "                review_dict = {'reviewText': clean_review(review_json['reviewText']), 'overall': review_json['overall']}\n",
        "                review_json = json.dumps(review_dict)\n",
        "                f_write.write(review_json + \"\\n\")\n",
        "    print(count_data)\n",
        "    f_read.close()\n",
        "    f_write.close()\n",
        "\n",
        "create_balanced_data()"
      ],
      "execution_count": null,
      "outputs": [
        {
          "output_type": "stream",
          "text": [
            "{1: 400000, 2: 400000, 3: 400000, 4: 400000, 5: 400000}\n"
          ],
          "name": "stdout"
        }
      ]
    },
    {
      "cell_type": "markdown",
      "metadata": {
        "id": "UIppummzrRra"
      },
      "source": [
        "#Spliting to Train and Test"
      ]
    },
    {
      "cell_type": "code",
      "metadata": {
        "id": "HMY9GE61p5BB"
      },
      "source": [
        "from sklearn.model_selection import train_test_split\n",
        "\n",
        "DATA_PATH = \"/content/drive/MyDrive/Colab Notebooks/Movies_and_TV_Balanced_400k_Clean.json\"\n",
        "DATA_PATH_TRAIN = \"/content/drive/MyDrive/Colab Notebooks/Movies_and_TV_Balanced_400k_Clean_Train.json\"\n",
        "DATA_PATH_TEST = \"/content/drive/MyDrive/Colab Notebooks/Movies_and_TV_Balanced_400k_Clean_Test.json\"\n",
        "\n",
        "\n",
        "def create_balanced_data(data_path=DATA_PATH, num_samples_from_each_category=400000):\n",
        "    count_data = {1: 0, 2: 0, 3: 0, 4: 0, 5: 0}\n",
        "    f_read = open(data_path, \"r\")\n",
        "    X = []\n",
        "    Y = []\n",
        "    for line in f_read:\n",
        "        review_json = json.loads(line)\n",
        "        if 'reviewText' in review_json:\n",
        "            if count_data[int(review_json['overall'])] >= num_samples_from_each_category:\n",
        "                continue\n",
        "            else:\n",
        "                count_data[int(review_json['overall'])] += 1\n",
        "                review_dict = {'reviewText': review_json['reviewText'], 'overall': review_json['overall']}\n",
        "                Y.append(int(review_json['overall']))\n",
        "                review_json = json.dumps(review_dict)\n",
        "                X.append(review_json)\n",
        "\n",
        "    X_train, X_test, Y_train, Y_test = train_test_split(X, Y, test_size=0.2)\n",
        "    f_read.close()\n",
        "\n",
        "    f_write = open(DATA_PATH_TRAIN, 'w')\n",
        "    for x in X_train:\n",
        "        f_write.write(x + '\\n')\n",
        "    f_write.close()\n",
        "\n",
        "    f_write = open(DATA_PATH_TEST, 'w')\n",
        "    for x in X_test:\n",
        "        f_write.write(x  + '\\n')\n",
        "    f_write.close()\n",
        "\n",
        "create_balanced_data()"
      ],
      "execution_count": null,
      "outputs": []
    },
    {
      "cell_type": "code",
      "metadata": {
        "id": "dldXSOePnCww"
      },
      "source": [
        "from sklearn.model_selection import train_test_split\n",
        "\n",
        "DATA_PATH = \"/content/drive/MyDrive/Colab Notebooks/Movies_and_TV_Balanced_400k_Clean_With_Stops.json\"\n",
        "DATA_PATH_TRAIN = \"/content/drive/MyDrive/Colab Notebooks/Movies_and_TV_Balanced_400k_Clean_With_Stops_Train.json\"\n",
        "DATA_PATH_TEST = \"/content/drive/MyDrive/Colab Notebooks/Movies_and_TV_Balanced_400k_Clean_With_Stops_Test.json\"\n",
        "\n",
        "\n",
        "def create_balanced_data(data_path=DATA_PATH, num_samples_from_each_category=400000):\n",
        "    count_data = {1: 0, 2: 0, 3: 0, 4: 0, 5: 0}\n",
        "    f_read = open(data_path, \"r\")\n",
        "    X = []\n",
        "    Y = []\n",
        "    for line in f_read:\n",
        "        review_json = json.loads(line)\n",
        "        if 'reviewText' in review_json:\n",
        "            if count_data[int(review_json['overall'])] >= num_samples_from_each_category:\n",
        "                continue\n",
        "            else:\n",
        "                count_data[int(review_json['overall'])] += 1\n",
        "                review_dict = {'reviewText': review_json['reviewText'], 'overall': review_json['overall']}\n",
        "                Y.append(int(review_json['overall']))\n",
        "                review_json = json.dumps(review_dict)\n",
        "                X.append(review_json)\n",
        "\n",
        "    X_train, X_test, Y_train, Y_test = train_test_split(X, Y, test_size=0.2)\n",
        "    f_read.close()\n",
        "\n",
        "    f_write = open(DATA_PATH_TRAIN, 'w')\n",
        "    for x in X_train:\n",
        "        f_write.write(x + '\\n')\n",
        "    f_write.close()\n",
        "\n",
        "    f_write = open(DATA_PATH_TEST, 'w')\n",
        "    for x in X_test:\n",
        "        f_write.write(x  + '\\n')\n",
        "    f_write.close()\n",
        "\n",
        "create_balanced_data()"
      ],
      "execution_count": null,
      "outputs": []
    },
    {
      "cell_type": "markdown",
      "metadata": {
        "id": "VXCDxLQsxwOV"
      },
      "source": [
        "#Load Data After Cleanup"
      ]
    },
    {
      "cell_type": "markdown",
      "metadata": {
        "id": "32hTCPY04DvM"
      },
      "source": [
        "We now use a function that will take our data and split it into training and test data. We will create a vocabulary (word2idx) which consists of a mapping from every word to its corresponding index, and convert every review to a tokenized form. For example, \"Hi Tal\" -> [5,17]. The vocab will be created by the training data and then we will start working with a few objects:\n",
        "\n",
        "X_train, X_test: Sentences for training and test data\n",
        "\n",
        "Y_train, Y_test: Labels of value 0-4 depending on the rating of the review (rating 5 becomes 4 and 1 becomes 0)\n",
        "\n",
        "We also create 2 dictionaries:\n",
        "\n",
        "word2idx: A mapping from word to corresponding index in the vocab\n",
        "\n",
        "idx2word: A mapping from index to the corresponding word"
      ]
    },
    {
      "cell_type": "code",
      "metadata": {
        "colab": {
          "base_uri": "https://localhost:8080/"
        },
        "id": "ObNaC-P1EitJ",
        "outputId": "dfcdff1f-2637-4747-9709-e97c37007199"
      },
      "source": [
        "import json\n",
        "\n",
        "DATA_PATH_TRAIN = \"/content/drive/MyDrive/Colab Notebooks/Movies_and_TV_Balanced_400k_Clean_Train.json\"\n",
        "DATA_PATH_TEST = \"/content/drive/MyDrive/Colab Notebooks/Movies_and_TV_Balanced_400k_Clean_Test.json\"\n",
        "\n",
        "def get_corpus_and_labels(data_path):\n",
        "    f_read = open(data_path, \"r\")\n",
        "    corpus = []\n",
        "    labels = []\n",
        "    for line in f_read:\n",
        "        review_json = json.loads(line)\n",
        "        if \"reviewText\" in review_json:\n",
        "          corpus.append(review_json[\"reviewText\"])\n",
        "          labels.append(int(review_json['overall'])-1)\n",
        "    f_read.close()\n",
        "    return corpus, labels\n",
        "\n",
        "X_train, Y_train = get_corpus_and_labels(DATA_PATH_TRAIN)\n",
        "X_test, Y_test = get_corpus_and_labels(DATA_PATH_TEST)\n",
        "\n",
        "print(\"Example of a training sample: \", X_train[1])\n",
        "print(\"With label: \", Y_train[1]+1)"
      ],
      "execution_count": 2,
      "outputs": [
        {
          "output_type": "stream",
          "text": [
            "Example of a training sample:  perhaps greatest achievement cinematic art since chaplin city lights welles citizen kane one : clearly visible zippers monster costumes nonsensical plot heavy handed messaging terrible music cute kid want slap come one expecting 1954 japanese original even shin godzilla really good want camp sludgy buckets briefly serious transfer actually nice clear matters language menu work player docked disc star brought options movie playing could change language japanese add subtitles would except see worked part fun things like terrible dubbing speak japanese see might want japanese fair enough anyway seventies godzilla absurd prime godzilla movies good movies one know getting however hoot\n",
            "With label:  4\n"
          ],
          "name": "stdout"
        }
      ]
    },
    {
      "cell_type": "markdown",
      "metadata": {
        "id": "0Ri6Iv3qniEY"
      },
      "source": [
        "#**BOW and N-GRAMS**"
      ]
    },
    {
      "cell_type": "markdown",
      "metadata": {
        "id": "wB7IRCVp4KFk"
      },
      "source": [
        "We now create the vocabulary and some additional information that will help us later:\n",
        "\n",
        "unigram_counter - will hold a count of the appearance of each word in the training data\n",
        "\n",
        "bigram_counter - will hold a count of the appearance of each couple of words in the training data\n",
        "\n",
        "trigram_counter - will hold a count of the appearance of each triplets in the training data"
      ]
    },
    {
      "cell_type": "code",
      "metadata": {
        "colab": {
          "base_uri": "https://localhost:8080/"
        },
        "id": "WMCVWLHDIxMz",
        "outputId": "d096f6d8-2d6e-4911-f778-37cdfcda59d5"
      },
      "source": [
        "import nltk\n",
        "from nltk.tokenize import word_tokenize\n",
        "from collections import Counter\n",
        "from tqdm import tqdm\n",
        "\n",
        "nltk.download('punkt')\n",
        "\n",
        "unigram_counter = Counter()\n",
        "bigram_counter = Counter()\n",
        "trigram_counter = Counter()\n",
        "\n",
        "def remove_threshold(counter, threshold=3):\n",
        "  for word in counter.copy().keys():\n",
        "    if counter[word] < threshold:\n",
        "      counter.pop(word)\n",
        "\n",
        "def build_vocab_counters(reviews):\n",
        "  for review_no, review in enumerate(tqdm(reviews)):\n",
        "    if review_no == int(0.5*len(reviews)):\n",
        "        remove_threshold(bigram_counter)\n",
        "        remove_threshold(trigram_counter)\n",
        "    tokenized_review = word_tokenize(review)\n",
        "    for i in range(len(tokenized_review)):\n",
        "      word = tokenized_review[i]\n",
        "      unigram_counter[word] = unigram_counter.get(word,0) + 1\n",
        "      if i <= len(tokenized_review) - 2:\n",
        "        bi_gram = (tokenized_review[i], tokenized_review[i+1])\n",
        "        bigram_counter[bi_gram] = bigram_counter.get(bi_gram,0) + 1\n",
        "      if i <= len(tokenized_review) - 3:\n",
        "        tri_gram = (tokenized_review[i], tokenized_review[i+1], tokenized_review[i+2])\n",
        "        trigram_counter[tri_gram] = trigram_counter.get(tri_gram,0) + 1\n",
        "\n",
        "build_vocab_counters(X_train)"
      ],
      "execution_count": 3,
      "outputs": [
        {
          "output_type": "stream",
          "text": [
            "[nltk_data] Downloading package punkt to /root/nltk_data...\n",
            "[nltk_data]   Unzipping tokenizers/punkt.zip.\n"
          ],
          "name": "stdout"
        },
        {
          "output_type": "stream",
          "text": [
            "100%|██████████| 1600000/1600000 [09:41<00:00, 2751.56it/s]\n"
          ],
          "name": "stderr"
        }
      ]
    },
    {
      "cell_type": "markdown",
      "metadata": {
        "id": "AMmPYXoQ4STN"
      },
      "source": [
        "We would like to understand the dimensions of a BOW model on this vocabulary. We do not want it to be too large (for sparsity reasons). We can see that the original length of the vocab is almost 1,000,000! So we will show how many of these words are rare"
      ]
    },
    {
      "cell_type": "code",
      "metadata": {
        "colab": {
          "base_uri": "https://localhost:8080/"
        },
        "id": "COOFWuoMI3rn",
        "outputId": "c01e1979-401f-4e1a-d476-a5116b58e7ef"
      },
      "source": [
        "print(\"Length of uni vocabulary: \", len(unigram_counter))\n",
        "print(\"Length of bi vocabulary: \", len(bigram_counter))\n",
        "print(\"Length of tri vocabulary: \", len(trigram_counter))"
      ],
      "execution_count": null,
      "outputs": [
        {
          "output_type": "stream",
          "text": [
            "Length of uni vocabulary:  390155\n",
            "Length of bi vocabulary:  11652560\n",
            "Length of tri vocabulary:  27401821\n"
          ],
          "name": "stdout"
        }
      ]
    },
    {
      "cell_type": "markdown",
      "metadata": {
        "id": "61PiQyyPW52_"
      },
      "source": [
        "Creating the vocabulary and removing rare words"
      ]
    },
    {
      "cell_type": "code",
      "metadata": {
        "id": "I31UvfM_WvzK"
      },
      "source": [
        "def create_new_vocab(uni_counter, bi_counter= {}, tri_counter = {}, threshold = 0):\n",
        "  vocab = []\n",
        "  bi_gram_threshold = threshold**2\n",
        "  tri_gram_threshold = threshold**3\n",
        "  for word in uni_counter:\n",
        "    if uni_counter[word] > threshold:\n",
        "      vocab.append(word)\n",
        "  for bi in bi_counter:\n",
        "    if bi_counter[bi] > bi_gram_threshold:\n",
        "      vocab.append(bi[0] + \" \" + bi[1])\n",
        "  for tri in tri_counter:\n",
        "    if tri_counter[tri] > tri_gram_threshold:\n",
        "      vocab.append(tri[0] + \" \" + tri[1] + \" \" + tri[2])\n",
        "  print(f'Size of combined vocab before threshold: {len(uni_counter) + len(bi_counter) + len(tri_counter)}')\n",
        "  print(f'Size of combined vocab after threshold: {len(vocab)}')\n",
        "  return vocab"
      ],
      "execution_count": 4,
      "outputs": []
    },
    {
      "cell_type": "markdown",
      "metadata": {
        "id": "KxXssv8G7AbH"
      },
      "source": [
        "## Training and Evaluation"
      ]
    },
    {
      "cell_type": "markdown",
      "metadata": {
        "id": "ewWAnDXN7FbN"
      },
      "source": [
        "We will use some training and evaluation functions to compare the different models we will be using.\n",
        "\n",
        "Training, we will go over the data in batches and will transform each batch to BOW form"
      ]
    },
    {
      "cell_type": "code",
      "metadata": {
        "id": "6P9HMhYxic5o"
      },
      "source": [
        "import torch\n",
        "from sklearn.metrics import confusion_matrix, ConfusionMatrixDisplay\n",
        "from sklearn.metrics import f1_score\n",
        "import matplotlib.pyplot as plt\n",
        "from tqdm import tqdm\n",
        "import numpy as np\n",
        "\n",
        "LEARNING_RATE = 0.001\n",
        "NUM_EPOCHS = 2\n",
        "BATCH_SIZE = 256\n",
        "\n",
        "def get_accuracy(output, target, batch_size):\n",
        "    corrects = (torch.max(output, 1)[1].view(target.size()).data == target.data).sum()\n",
        "    accuracy = 100.0 * corrects/batch_size\n",
        "    return accuracy.item()\n",
        "\n",
        "\n",
        "def get_next_batch(X, Y, batch_size, index, vect):\n",
        "  review_batch = X[index*batch_size : index*batch_size + batch_size]\n",
        "  label_batch = Y[index*batch_size : index*batch_size + batch_size]\n",
        "  X_transformed = vectorizer.fit_transform(review_batch)\n",
        "  X_batch = torch.as_tensor(X_transformed.toarray(),dtype = torch.float32 ).cuda()\n",
        "  Y_batch = torch.as_tensor(label_batch, dtype=torch.int64).cuda()\n",
        "  return X_batch, Y_batch\n",
        "\n",
        "\n",
        "def evaluate(X, Y, mod, vect, get_batch_func, is_test, batch_size = BATCH_SIZE):\n",
        "  with torch.no_grad():\n",
        "    accuracy = 0\n",
        "    predictions = np.zeros(int(len(X)/batch_size) * batch_size)\n",
        "    labels = Y[:int(len(X)/batch_size) * batch_size]\n",
        "    if is_test:\n",
        "      for i in tqdm(range(int(len(X)/batch_size))):\n",
        "        input, targets = get_batch_func(X, Y, batch_size, i, vect)\n",
        "        out = mod(input)\n",
        "        accuracy += get_accuracy(out, targets, batch_size)\n",
        "        preds = torch.argmax(out, dim = 1)\n",
        "        for pred_index in range(batch_size):\n",
        "          predictions[pred_index + (i*batch_size)] = preds[pred_index]\n",
        "\n",
        "      f1_micro = f1_score(labels,predictions, average='micro')\n",
        "      f1_macro = f1_score(labels,predictions, average='macro')\n",
        "      f1_weighted = f1_score(labels,predictions, average='weighted')\n",
        "      accuracy = accuracy/int(len(X)/batch_size)\n",
        "      cm = confusion_matrix(labels, predictions, normalize='true')\n",
        "     \n",
        "      plt.show()\n",
        "      return accuracy, f1_macro, f1_micro, f1_weighted, cm\n",
        "    \n",
        "    else:\n",
        "      for i in tqdm(range(int(len(X)/batch_size))):\n",
        "        input, targets = get_batch_func(X, Y, batch_size, i, vect)\n",
        "        out = mod(input)\n",
        "        accuracy += get_accuracy(out, targets, batch_size)\n",
        "\n",
        "      accuracy = accuracy/int(len(X)/batch_size)\n",
        "      return accuracy\n",
        "\n",
        "\n",
        "def train(mod, get_batch_func, vect, num_epochs = NUM_EPOCHS, batch_size = BATCH_SIZE):\n",
        "\n",
        "  for epoch in range(num_epochs):\n",
        "      train_running_loss = 0.0\n",
        "      train_acc = 0.0\n",
        "      test_acc = 0.0\n",
        "\n",
        "      mod = mod.train()\n",
        "\n",
        "      print()\n",
        "      print(\"Epoch no: \", epoch+1)\n",
        "      print()\n",
        "\n",
        "      print(\"Training the model...\")\n",
        "      print()\n",
        "\n",
        "      for i in tqdm(range(int(len(X_train)/batch_size))):\n",
        "          input, targets = get_batch_func(X_train, Y_train, batch_size, i, vect)\n",
        "          out = mod(input)\n",
        "          loss = criterion(out, targets)\n",
        "          optimizer.zero_grad()\n",
        "          loss.backward()\n",
        "\n",
        "          optimizer.step()\n",
        "\n",
        "          train_running_loss += loss.detach().item()\n",
        "\n",
        "      mod = mod.eval()\n",
        "      \n",
        "      print()\n",
        "      print(\"Evaluating the model on the training set...\")\n",
        "      print()\n",
        "\n",
        "      train_acc = evaluate(X_train, Y_train, mod, vect,  get_batch_func,  False,  batch_size)\n",
        "\n",
        "      print(\"Evaluating the model on the test set...\")\n",
        "      print()\n",
        "\n",
        "      test_acc, f1_macro, f1_micro, f1_weighted, cm = evaluate(X_test, Y_test, mod, vect,  get_batch_func, True, batch_size)\n",
        "      \n",
        "      print()\n",
        "      print('Epoch: %d | Loss: %.4f | Train Accuracy: %.2f | Test Accuracy: %.2f | F1 Macro score: %.2f | F1 Micro score: %.2f | F1 Weighted score: %.2f' \\\n",
        "            %(epoch+1, train_running_loss / int(len(X_train)/batch_size), train_acc, test_acc, f1_macro, f1_micro, f1_weighted))\n",
        "      print()\n",
        "      \n",
        "  disp = ConfusionMatrixDisplay(confusion_matrix=cm, display_labels=[1,2,3,4,5])\n",
        "  disp.plot()"
      ],
      "execution_count": null,
      "outputs": []
    },
    {
      "cell_type": "markdown",
      "metadata": {
        "id": "pVIflS3H7PsC"
      },
      "source": [
        "## Implementation of neural network"
      ]
    },
    {
      "cell_type": "markdown",
      "metadata": {
        "id": "JIxxsVU17StD"
      },
      "source": [
        "Here we build a simple neural network for predicting review ratings"
      ]
    },
    {
      "cell_type": "code",
      "metadata": {
        "id": "HXw_Zd8linAZ"
      },
      "source": [
        "import torch\n",
        "import torch.nn as nn\n",
        "import torch.nn.functional as F\n",
        "\n",
        "\n",
        "class BOWNet(nn.Module):\n",
        "  def __init__(self, input_size):\n",
        "    super(BOWNet, self).__init__()\n",
        "    self.layer1 = nn.Linear(input_size, 512)\n",
        "    self.layer2 = nn.Linear(512,256)\n",
        "    self.dropout = nn.Dropout(p=0.2)\n",
        "    self.layer3 = nn.Linear(256,128)\n",
        "    self.layer4 = nn.Linear(128,64)\n",
        "    self.layer5 = nn.Linear(64,5)\n",
        "    \n",
        "  def forward(self, input):\n",
        "    output = torch.relu(self.layer1(input))\n",
        "    output = self.dropout(output)\n",
        "    output = torch.relu(self.layer2(output))\n",
        "    output = torch.relu(self.layer3(output))\n",
        "    output = self.dropout(output)\n",
        "    output = torch.relu(self.layer4(output))\n",
        "    output = self.layer5(output)\n",
        "    return output"
      ],
      "execution_count": 5,
      "outputs": []
    },
    {
      "cell_type": "markdown",
      "metadata": {
        "id": "MdHcUMEsbdGH"
      },
      "source": [
        "### 1st model - uni-grams"
      ]
    },
    {
      "cell_type": "markdown",
      "metadata": {
        "id": "4Fe6Pdt5bn1K"
      },
      "source": [
        "We repeat the same process as before, but this time we reduce rare words, so the length of our vocabluary is significantly smaller"
      ]
    },
    {
      "cell_type": "code",
      "metadata": {
        "colab": {
          "base_uri": "https://localhost:8080/"
        },
        "id": "ut3kf9s7UIwE",
        "outputId": "b6108aae-ad1c-4668-82c9-10fd3d71dd52"
      },
      "source": [
        "vocab_unigram = create_new_vocab(unigram_counter,threshold=10)\n",
        "print(len(vocab_unigram))"
      ],
      "execution_count": 6,
      "outputs": [
        {
          "output_type": "stream",
          "text": [
            "Size of combined vocab before threshold: 390155\n",
            "Size of combined vocab after threshold: 74522\n",
            "74522\n"
          ],
          "name": "stdout"
        }
      ]
    },
    {
      "cell_type": "code",
      "metadata": {
        "id": "jUxzbOQyb2NJ"
      },
      "source": [
        "from sklearn.feature_extraction.text import CountVectorizer\n",
        "\n",
        "vectorizer = CountVectorizer(vocabulary = vocab_unigram)"
      ],
      "execution_count": 7,
      "outputs": []
    },
    {
      "cell_type": "markdown",
      "metadata": {
        "id": "rWEEBy_qwErN"
      },
      "source": [
        "Save the model to this path"
      ]
    },
    {
      "cell_type": "code",
      "metadata": {
        "id": "oud5vI02v1wu"
      },
      "source": [
        "PATH = '/content/drive/MyDrive/Colab Notebooks/BOWNet_Unigram_new'"
      ],
      "execution_count": null,
      "outputs": []
    },
    {
      "cell_type": "code",
      "metadata": {
        "colab": {
          "base_uri": "https://localhost:8080/",
          "height": 825
        },
        "id": "Y-3WQbo3X77k",
        "outputId": "f8705007-0887-4097-fb84-c53c45407e2e"
      },
      "source": [
        "INPUT_SIZE = len(vocab_unigram)\n",
        "\n",
        "device = torch.device(\"cuda:0\")\n",
        "criterion = nn.CrossEntropyLoss()\n",
        "model = BOWNet(INPUT_SIZE)\n",
        "model = model.to(device)\n",
        "optimizer = torch.optim.Adam(model.parameters(), lr=LEARNING_RATE)\n",
        "train(model, get_next_batch, vectorizer)\n",
        "torch.save(model.state_dict(), PATH)"
      ],
      "execution_count": null,
      "outputs": [
        {
          "output_type": "stream",
          "text": [
            "\r  0%|          | 0/6250 [00:00<?, ?it/s]"
          ],
          "name": "stderr"
        },
        {
          "output_type": "stream",
          "text": [
            "\n",
            "Epoch no:  1\n",
            "\n",
            "Training the model...\n",
            "\n"
          ],
          "name": "stdout"
        },
        {
          "output_type": "stream",
          "text": [
            "100%|██████████| 6250/6250 [14:52<00:00,  7.01it/s]\n",
            "  0%|          | 1/6250 [00:00<14:04,  7.40it/s]"
          ],
          "name": "stderr"
        },
        {
          "output_type": "stream",
          "text": [
            "\n",
            "Evaluating the model on the training set...\n",
            "\n"
          ],
          "name": "stdout"
        },
        {
          "output_type": "stream",
          "text": [
            "100%|██████████| 6250/6250 [13:44<00:00,  7.58it/s]\n",
            "  0%|          | 1/1562 [00:00<03:34,  7.29it/s]"
          ],
          "name": "stderr"
        },
        {
          "output_type": "stream",
          "text": [
            "Evaluating the model on the test set...\n",
            "\n"
          ],
          "name": "stdout"
        },
        {
          "output_type": "stream",
          "text": [
            "100%|██████████| 1562/1562 [03:31<00:00,  7.39it/s]\n",
            "  0%|          | 1/6250 [00:00<14:33,  7.15it/s]"
          ],
          "name": "stderr"
        },
        {
          "output_type": "stream",
          "text": [
            "\n",
            "Epoch: 1 | Loss: 1.0515 | Train Accuracy: 63.02 | Test Accuracy: 57.19 | F1 Macro score: 0.57 | F1 Micro score: 0.57 | F1 Weighted score: 0.57\n",
            "\n",
            "\n",
            "Epoch no:  2\n",
            "\n",
            "Training the model...\n",
            "\n"
          ],
          "name": "stdout"
        },
        {
          "output_type": "stream",
          "text": [
            "100%|██████████| 6250/6250 [14:47<00:00,  7.04it/s]\n",
            "  0%|          | 1/6250 [00:00<13:38,  7.64it/s]"
          ],
          "name": "stderr"
        },
        {
          "output_type": "stream",
          "text": [
            "\n",
            "Evaluating the model on the training set...\n",
            "\n"
          ],
          "name": "stdout"
        },
        {
          "output_type": "stream",
          "text": [
            "100%|██████████| 6250/6250 [13:42<00:00,  7.60it/s]\n",
            "  0%|          | 1/1562 [00:00<03:31,  7.40it/s]"
          ],
          "name": "stderr"
        },
        {
          "output_type": "stream",
          "text": [
            "Evaluating the model on the test set...\n",
            "\n"
          ],
          "name": "stdout"
        },
        {
          "output_type": "stream",
          "text": [
            "100%|██████████| 1562/1562 [03:31<00:00,  7.39it/s]\n"
          ],
          "name": "stderr"
        },
        {
          "output_type": "stream",
          "text": [
            "\n",
            "Epoch: 2 | Loss: 0.8980 | Train Accuracy: 70.68 | Test Accuracy: 57.54 | F1 Macro score: 0.57 | F1 Micro score: 0.58 | F1 Weighted score: 0.57\n",
            "\n"
          ],
          "name": "stdout"
        },
        {
          "output_type": "display_data",
          "data": {
            "image/png": "[encoded data removed]",
            "text/plain": [
              "<Figure size 432x288 with 2 Axes>"
            ]
          },
          "metadata": {
            "tags": [],
            "needs_background": "light"
          }
        }
      ]
    },
    {
      "cell_type": "markdown",
      "metadata": {
        "id": "0eZcC3AxeAkw"
      },
      "source": [
        "### 2nd model - two-grams"
      ]
    },
    {
      "cell_type": "markdown",
      "metadata": {
        "id": "-86Ua2lZeMV6"
      },
      "source": [
        "We use the same techniques to create a CountVectorizer on the training corpus, but this time we use n- grams (specifically 2 grams) to capture more meaning from the text"
      ]
    },
    {
      "cell_type": "code",
      "metadata": {
        "colab": {
          "base_uri": "https://localhost:8080/"
        },
        "id": "PVR4Z3uEWRbI",
        "outputId": "f906b35e-a067-48bb-d4ec-cc359a9aa334"
      },
      "source": [
        "vocab_bigram = create_new_vocab(unigram_counter, bigram_counter, threshold=10)"
      ],
      "execution_count": 12,
      "outputs": [
        {
          "output_type": "stream",
          "text": [
            "Size of combined vocab before threshold: 12042715\n",
            "Size of combined vocab after threshold: 133354\n"
          ],
          "name": "stdout"
        }
      ]
    },
    {
      "cell_type": "code",
      "metadata": {
        "colab": {
          "base_uri": "https://localhost:8080/"
        },
        "id": "CS6AqFbDWMkE",
        "outputId": "4386332e-7dcd-44eb-fa27-667100b0430f"
      },
      "source": [
        "print(\"Vocabulary length: \", len(vocab_bigram))"
      ],
      "execution_count": null,
      "outputs": [
        {
          "output_type": "stream",
          "text": [
            "Vocabulary length:  133354\n"
          ],
          "name": "stdout"
        }
      ]
    },
    {
      "cell_type": "code",
      "metadata": {
        "id": "-RHfwfn4ebqz"
      },
      "source": [
        "from sklearn.feature_extraction.text import CountVectorizer\n",
        "\n",
        "vectorizer = CountVectorizer(ngram_range=(1,2), vocabulary=vocab_bigram)"
      ],
      "execution_count": 13,
      "outputs": []
    },
    {
      "cell_type": "code",
      "metadata": {
        "id": "X9LHv4XJwZ_4"
      },
      "source": [
        "PATH = '/content/drive/MyDrive/Colab Notebooks/BOWNetBI_new'"
      ],
      "execution_count": null,
      "outputs": []
    },
    {
      "cell_type": "code",
      "metadata": {
        "colab": {
          "base_uri": "https://localhost:8080/",
          "height": 834
        },
        "id": "wsxXHjugdn5A",
        "outputId": "4c72c755-01d4-4542-c2ba-1a76a6179136"
      },
      "source": [
        "INPUT_SIZE = len(vocab_bigram)\n",
        "\n",
        "device = torch.device(\"cuda:0\")\n",
        "criterion = nn.CrossEntropyLoss()\n",
        "model = BOWNet(INPUT_SIZE)\n",
        "model = model.to(device)\n",
        "optimizer = torch.optim.Adam(model.parameters(), lr=LEARNING_RATE)\n",
        "train(model, get_next_batch, vectorizer)\n",
        "torch.save(model.state_dict(), PATH)"
      ],
      "execution_count": null,
      "outputs": [
        {
          "output_type": "stream",
          "text": [
            "\r  0%|          | 0/6250 [00:00<?, ?it/s]"
          ],
          "name": "stderr"
        },
        {
          "output_type": "stream",
          "text": [
            "\n",
            "Epoch no:  1\n",
            "\n",
            "Training the model...\n",
            "\n"
          ],
          "name": "stdout"
        },
        {
          "output_type": "stream",
          "text": [
            "100%|██████████| 6250/6250 [25:21<00:00,  4.11it/s]\n",
            "  0%|          | 0/6250 [00:00<?, ?it/s]"
          ],
          "name": "stderr"
        },
        {
          "output_type": "stream",
          "text": [
            "\n",
            "Evaluating the model on the training set...\n",
            "\n"
          ],
          "name": "stdout"
        },
        {
          "output_type": "stream",
          "text": [
            "100%|██████████| 6250/6250 [23:32<00:00,  4.43it/s]\n",
            "  0%|          | 0/1562 [00:00<?, ?it/s]"
          ],
          "name": "stderr"
        },
        {
          "output_type": "stream",
          "text": [
            "Evaluating the model on the test set...\n",
            "\n"
          ],
          "name": "stdout"
        },
        {
          "output_type": "stream",
          "text": [
            "100%|██████████| 1562/1562 [05:59<00:00,  4.35it/s]\n",
            "  0%|          | 0/6250 [00:00<?, ?it/s]"
          ],
          "name": "stderr"
        },
        {
          "output_type": "stream",
          "text": [
            "\n",
            "Epoch: 1 | Loss: 1.0179 | Train Accuracy: 66.99 | Test Accuracy: 58.98 | F1 Macro score: 0.58 | F1 Micro score: 0.59 | F1 Weighted score: 0.58\n",
            "\n",
            "\n",
            "Epoch no:  2\n",
            "\n",
            "Training the model...\n",
            "\n"
          ],
          "name": "stdout"
        },
        {
          "output_type": "stream",
          "text": [
            "100%|██████████| 6250/6250 [25:22<00:00,  4.11it/s]\n",
            "  0%|          | 0/6250 [00:00<?, ?it/s]"
          ],
          "name": "stderr"
        },
        {
          "output_type": "stream",
          "text": [
            "\n",
            "Evaluating the model on the training set...\n",
            "\n"
          ],
          "name": "stdout"
        },
        {
          "output_type": "stream",
          "text": [
            "100%|██████████| 6250/6250 [23:27<00:00,  4.44it/s]\n",
            "  0%|          | 0/1562 [00:00<?, ?it/s]"
          ],
          "name": "stderr"
        },
        {
          "output_type": "stream",
          "text": [
            "Evaluating the model on the test set...\n",
            "\n"
          ],
          "name": "stdout"
        },
        {
          "output_type": "stream",
          "text": [
            "100%|██████████| 1562/1562 [05:57<00:00,  4.37it/s]\n"
          ],
          "name": "stderr"
        },
        {
          "output_type": "stream",
          "text": [
            "\n",
            "Epoch: 2 | Loss: 0.8009 | Train Accuracy: 76.75 | Test Accuracy: 58.94 | F1 Macro score: 0.59 | F1 Micro score: 0.59 | F1 Weighted score: 0.59\n",
            "\n"
          ],
          "name": "stdout"
        },
        {
          "output_type": "display_data",
          "data": {
            "image/png": "[encoded data removed]",
            "text/plain": [
              "<Figure size 432x288 with 2 Axes>"
            ]
          },
          "metadata": {
            "tags": [],
            "needs_background": "light"
          }
        }
      ]
    },
    {
      "cell_type": "markdown",
      "metadata": {
        "id": "md8ql_evfix4"
      },
      "source": [
        "### 3rd Model - tri-grams"
      ]
    },
    {
      "cell_type": "code",
      "metadata": {
        "id": "TgLDZGTafm7j"
      },
      "source": [
        "vocab_trigram = create_new_vocab(unigram_counter, bigram_counter, trigram_counter, threshold=10)"
      ],
      "execution_count": null,
      "outputs": []
    },
    {
      "cell_type": "code",
      "metadata": {
        "id": "exABz1X1fywy"
      },
      "source": [
        "from sklearn.feature_extraction.text import CountVectorizer\n",
        "\n",
        "vectorizer = CountVectorizer(ngram_range=(1,3), vocabulary=vocab_trigram)"
      ],
      "execution_count": null,
      "outputs": []
    },
    {
      "cell_type": "code",
      "metadata": {
        "id": "H5dO6ge6fvB_"
      },
      "source": [
        "INPUT_SIZE = len(vocab_trigram)\n",
        "\n",
        "device = torch.device(\"cuda:0\")\n",
        "criterion = nn.CrossEntropyLoss()\n",
        "model = BOWNet(INPUT_SIZE)\n",
        "model = model.to(device)\n",
        "optimizer = torch.optim.Adam(model.parameters(), lr=LEARNING_RATE)\n",
        "train(model, get_next_batch, vectorizer)\n",
        "torch.save(model.state_dict(), '/content/drive/MyDrive/Colab Notebooks/BOWNetTRI')"
      ],
      "execution_count": null,
      "outputs": []
    },
    {
      "cell_type": "markdown",
      "metadata": {
        "id": "PCTVb5gL2ojO"
      },
      "source": [
        "#**WORD2VEC**"
      ]
    },
    {
      "cell_type": "markdown",
      "metadata": {
        "id": "VFurmJsr5xGH"
      },
      "source": [
        "##Loading pretrained W2V representention"
      ]
    },
    {
      "cell_type": "code",
      "metadata": {
        "id": "Ap6st-_S5xqi",
        "colab": {
          "base_uri": "https://localhost:8080/"
        },
        "outputId": "714705bd-33bd-477d-def2-de6a2ff15d4c"
      },
      "source": [
        "from gensim.models import KeyedVectors\n",
        "import gensim.downloader\n",
        "\n",
        "w2v_model = gensim.downloader.load('glove-twitter-200')"
      ],
      "execution_count": null,
      "outputs": [
        {
          "output_type": "stream",
          "text": [
            "[===============================================---] 94.6% 717.5/758.5MB downloaded\n"
          ],
          "name": "stdout"
        }
      ]
    },
    {
      "cell_type": "markdown",
      "metadata": {
        "id": "LR4KcJ6R1P9l"
      },
      "source": [
        "##Vocabulary and Weights for the Embedding Layer"
      ]
    },
    {
      "cell_type": "code",
      "metadata": {
        "id": "7GwhGjLUnioS"
      },
      "source": [
        "import torch\n",
        "word2index = {} # 0 is reserved for unknown mappings\n",
        "index2word = {}\n",
        "count_vocab_size = 0\n",
        "for i, (word, vocab_obj) in enumerate(w2v_model.vocab.items()):\n",
        "  count_vocab_size += 1\n",
        "\n",
        "weights = torch.zeros(count_vocab_size + 1, 200)\n",
        "\n",
        "for i, (word, vocab_obj) in enumerate(w2v_model.vocab.items()):\n",
        "  word2index[word] = i + 1\n",
        "  index2word[i + 1] = word\n",
        "  weights[i + 1] = torch.tensor(w2v_model[word])\n",
        "\n"
      ],
      "execution_count": null,
      "outputs": []
    },
    {
      "cell_type": "markdown",
      "metadata": {
        "id": "0eN2ZUCONknx"
      },
      "source": [
        "##Loading Clean and Balanced Data\n"
      ]
    },
    {
      "cell_type": "code",
      "metadata": {
        "colab": {
          "base_uri": "https://localhost:8080/"
        },
        "id": "GrTw4OE9NXcZ",
        "outputId": "94b3cef4-a465-4873-f9a5-8e68fda30d00"
      },
      "source": [
        "from gensim.models import KeyedVectors\n",
        "import numpy as np\n",
        "import json\n",
        "from tqdm import tqdm\n",
        "import os\n",
        "from sklearn.model_selection import train_test_split\n",
        "from sklearn.feature_extraction.text import CountVectorizer\n",
        "from sklearn.utils import shuffle\n",
        "import torch\n",
        "import pickle\n",
        "import html\n",
        "import nltk\n",
        "from nltk.corpus import stopwords\n",
        "from nltk.tokenize import word_tokenize\n",
        "import re\n",
        "from nltk.corpus import stopwords\n",
        "from collections import Counter\n",
        "\n",
        "device = torch.device(\"cuda:0\")\n",
        "nltk.download('stopwords')\n",
        "nltk.download('punkt')\n",
        "\n",
        "MAX_REVIEW_LENGTH = 200\n",
        "DATA_PATH_TRAIN = \"/content/drive/MyDrive/Colab Notebooks/Movies_and_TV_Balanced_400k_Clean_With_Stops_Train.json\"\n",
        "DATA_PATH_TEST = \"/content/drive/MyDrive/Colab Notebooks/Movies_and_TV_Balanced_400k_Clean_With_Stops_Test.json\"\n",
        "\n",
        "ratings_count = {1:0, 2:0, 3:0, 4:0, 5:0}\n",
        "\n",
        "\n",
        "review_length_to_count = Counter()\n",
        "\n",
        "\n",
        "def load_data(data_path):\n",
        "    f_read = open(data_path, \"r\")\n",
        "    X = []\n",
        "    Y = []\n",
        "    for i, line in enumerate(tqdm(f_read)):\n",
        "        review_json = json.loads(line)\n",
        "        if 'reviewText' in review_json:\n",
        "            review_text_cleaned = review_json['reviewText'].split()\n",
        "            indexed_review = [0 for i in range(MAX_REVIEW_LENGTH)]\n",
        "            if len(review_text_cleaned) > 0:\n",
        "              if len(review_text_cleaned) < 500:\n",
        "                review_length_to_count[len(review_text_cleaned)] = review_length_to_count.get(len(review_text_cleaned),0) + 1\n",
        "              for i in range(min(len(review_text_cleaned),MAX_REVIEW_LENGTH)):\n",
        "                if review_text_cleaned[i] in w2v_model:\n",
        "                  indexed_review[MAX_REVIEW_LENGTH - min(len(review_text_cleaned),MAX_REVIEW_LENGTH) + i] = word2index[review_text_cleaned[i]]\n",
        "                else:\n",
        "                  indexed_review[MAX_REVIEW_LENGTH - min(len(review_text_cleaned),MAX_REVIEW_LENGTH) + i] = word2index['unk']\n",
        "              X.append(indexed_review)\n",
        "              Y.append(int(review_json['overall']) - 1)\n",
        "              ratings_count[int(review_json['overall'])] += 1\n",
        "    return torch.tensor(X, dtype=torch.long).to(device), torch.tensor(Y, dtype=torch.int64).to(device)\n",
        "  \n",
        "X_train, Y_train = load_data(DATA_PATH_TRAIN)\n",
        "X_test, Y_test = load_data(DATA_PATH_TEST)\n",
        "print(\"Example of a training sample: \", X_train[1])\n",
        "print(\"With label: \", Y_train[1]+1)"
      ],
      "execution_count": null,
      "outputs": [
        {
          "output_type": "stream",
          "text": [
            "[nltk_data] Downloading package stopwords to /root/nltk_data...\n",
            "[nltk_data]   Package stopwords is already up-to-date!\n",
            "[nltk_data] Downloading package punkt to /root/nltk_data...\n"
          ],
          "name": "stdout"
        },
        {
          "output_type": "stream",
          "text": [
            "3388it [00:00, 16735.39it/s]"
          ],
          "name": "stderr"
        },
        {
          "output_type": "stream",
          "text": [
            "[nltk_data]   Package punkt is already up-to-date!\n"
          ],
          "name": "stdout"
        },
        {
          "output_type": "stream",
          "text": [
            "1600000it [01:48, 14683.14it/s]\n",
            "400000it [00:25, 15907.73it/s]\n"
          ],
          "name": "stderr"
        },
        {
          "output_type": "stream",
          "text": [
            "Example of a training sample:  tensor([     0,      0,      0,      0,      0,      0,      0,      0,      0,\n",
            "             0,      0,      0,      0,      0,      0,      0,      0,      0,\n",
            "             0,      0,      0,      0,      0,      0,      0,      0,      0,\n",
            "             0,      0,      0,      0,      0,      0,      0,      0,      0,\n",
            "             0,      0,      0,      0,      0,      0,      0,      0,      0,\n",
            "             0,      0,      0,      0,      0,      0,      0,      0,      0,\n",
            "             0,      0,      0,      0,      0,      0,      0,      0,      0,\n",
            "             0,      0,      0,      0,      0,      0,      0,      0,      0,\n",
            "             0,      0,      0,      0,      0,      0,      0,      0,      0,\n",
            "             0,      0,      0,      0,      0,      0,     11,     65,    249,\n",
            "            12,    831,     40, 580731,  18158,    138,    321,    766, 120090,\n",
            "          5092,     71,     75,     34,    216,    250,    591,     47,     34,\n",
            "            11,    572,    783,     34,    808,     34,    154,   1013,     14,\n",
            "           247,     27,    250,    321,     71,  10507,     38,  10642,   4832,\n",
            "        837728,     14,    689,     33,   1984, 134423,     67,    210,     14,\n",
            "          3170,     33,   4340,   1778,     27,     60,     87,     94,    212,\n",
            "            47,    230,     56,    555,   9909,  15435,     16,    298,   1597,\n",
            "            12,  95241,     40,  10637,    138,    696,    895,     75,     16,\n",
            "           144,     14,   4384,     40,     54,   1252,   6214,    786,   1654,\n",
            "           153,     14,    625,     11,    622,     34,     94,     12,   2007,\n",
            "         25052,   1252,     47,     14,  17472,     14,  56130,    378,   6057,\n",
            "            80,   8802,     87,    110,    408,    215,   3051,     22,    146,\n",
            "           118,   1249], device='cuda:0')\n",
            "With label:  tensor(2, device='cuda:0')\n"
          ],
          "name": "stdout"
        }
      ]
    },
    {
      "cell_type": "code",
      "metadata": {
        "colab": {
          "base_uri": "https://localhost:8080/",
          "height": 265
        },
        "id": "A3HiuxIH1N-a",
        "outputId": "081ac32b-bb1d-441d-8fe5-832e0f1be406"
      },
      "source": [
        "import matplotlib.pyplot as plt\n",
        "\n",
        "plt.bar(list(review_length_to_count.keys()), review_length_to_count.values(), color='b')\n",
        "plt.show()\n"
      ],
      "execution_count": null,
      "outputs": [
        {
          "output_type": "display_data",
          "data": {
            "image/png": "[encoded data removed]",
            "text/plain": [
              "<Figure size 432x288 with 1 Axes>"
            ]
          },
          "metadata": {
            "tags": [],
            "needs_background": "light"
          }
        }
      ]
    },
    {
      "cell_type": "markdown",
      "metadata": {
        "id": "sdvVW-sC4H8Q"
      },
      "source": [
        "##Configure Data Loader"
      ]
    },
    {
      "cell_type": "code",
      "metadata": {
        "id": "dnoJqpeaEqR9"
      },
      "source": [
        "from torch.utils.data import DataLoader\n",
        "from torch.utils.data import TensorDataset\n",
        "\n",
        "BATCH_SIZE = 128\n",
        "\n",
        "train_dataset = TensorDataset(X_train, Y_train)\n",
        "train_loader = DataLoader(train_dataset, batch_size=BATCH_SIZE, collate_fn=None)\n",
        "\n",
        "test_dataset = TensorDataset(X_test, Y_test)\n",
        "test_loader = DataLoader(test_dataset, batch_size=BATCH_SIZE, collate_fn=None)"
      ],
      "execution_count": null,
      "outputs": []
    },
    {
      "cell_type": "markdown",
      "metadata": {
        "id": "3CyS-8Hf2yAQ"
      },
      "source": [
        "##Model Selection"
      ]
    },
    {
      "cell_type": "markdown",
      "metadata": {
        "id": "Ra4Emp8GAKQV"
      },
      "source": [
        "###NAIVE"
      ]
    },
    {
      "cell_type": "code",
      "metadata": {
        "id": "oqd-JhgUAKl-"
      },
      "source": [
        "from gensim.models import KeyedVectors\n",
        "import numpy as np\n",
        "import json\n",
        "from tqdm import tqdm\n",
        "import os\n",
        "from sklearn.model_selection import train_test_split\n",
        "import torch\n",
        "import torch.nn as nn\n",
        "import torch.nn.functional as F\n",
        "\n",
        "WORD_DIM = 200\n",
        "\n",
        "class W2VNet(nn.Module):\n",
        "  def __init__(self):\n",
        "    super(W2VNet, self).__init__()\n",
        "    self.embedding = nn.Embedding.from_pretrained(weights, freeze = True)\n",
        "    self.layer1 = nn.Linear(MAX_REVIEW_LENGTH*WORD_DIM, 256)\n",
        "    self.layer2 = nn.Linear(256,128)\n",
        "    self.layer3 = nn.Linear(128,64)\n",
        "    self.layer4 = nn.Linear(64,5)\n",
        "    \n",
        "  def forward(self, input):\n",
        "    embedded_input = self.embedding(input).to(device)\n",
        "    output = F.relu(self.layer1(embedded_input.view(embedded_input.shape[0], MAX_REVIEW_LENGTH*WORD_DIM)))\n",
        "    output = F.relu(self.layer2(output))\n",
        "    output = F.relu(self.layer3(output))\n",
        "    output = self.layer4(output)\n",
        "    return output\n"
      ],
      "execution_count": null,
      "outputs": []
    },
    {
      "cell_type": "markdown",
      "metadata": {
        "id": "09tBbrIJ8vOI"
      },
      "source": [
        "###RNN"
      ]
    },
    {
      "cell_type": "code",
      "metadata": {
        "id": "xgkE7aWk8x0f"
      },
      "source": [
        "from gensim.models import KeyedVectors\n",
        "import numpy as np\n",
        "import json\n",
        "from tqdm import tqdm\n",
        "import os\n",
        "from sklearn.model_selection import train_test_split\n",
        "import torch\n",
        "import torch.nn as nn\n",
        "import torch.nn.functional as F\n",
        "\n",
        "WORD_DIM = 200\n",
        "\n",
        "class W2VRNNNet(nn.Module):\n",
        "  def __init__(self):\n",
        "    super(W2VRNNNet, self).__init__()\n",
        "    self.embedding = nn.Embedding.from_pretrained(weights, freeze = True)\n",
        "    self.layer1 = nn.RNN(WORD_DIM, 512, 2, batch_first = True)\n",
        "    self.layer2 = nn.Linear(MAX_REVIEW_LENGTH * 512, 5)\n",
        "    \n",
        "  def forward(self, input):\n",
        "    embedded_input = self.embedding(input).to(device)\n",
        "    h0 = torch.zeros(2, embedded_input.shape[0], 512).to(device)\n",
        "    out, _ = self.layer1(embedded_input, h0)\n",
        "    out = out.reshape(embedded_input.shape[0], -1)\n",
        "    out = self.layer2(out) \n",
        "    return out"
      ],
      "execution_count": null,
      "outputs": []
    },
    {
      "cell_type": "markdown",
      "metadata": {
        "id": "K4bQoJRI77a7"
      },
      "source": [
        "###GRU"
      ]
    },
    {
      "cell_type": "code",
      "metadata": {
        "id": "YcFga8iK77pt"
      },
      "source": [
        "from gensim.models import KeyedVectors\n",
        "import numpy as np\n",
        "import json\n",
        "from tqdm import tqdm\n",
        "import os\n",
        "from sklearn.model_selection import train_test_split\n",
        "import torch\n",
        "import torch.nn as nn\n",
        "import torch.nn.functional as F\n",
        "\n",
        "WORD_DIM = 200\n",
        "HIDDEN_DIM = 512\n",
        "\n",
        "class W2VGRUNet(nn.Module):\n",
        "  def __init__(self):\n",
        "    super(W2VGRUNet, self).__init__()\n",
        "    self.embedding = nn.Embedding.from_pretrained(weights, freeze = True)\n",
        "    self.layer1 = nn.GRU(WORD_DIM, HIDDEN_DIM, 2, batch_first = True, dropout = 0.2)\n",
        "    self.layer2 = nn.Linear(MAX_REVIEW_LENGTH * HIDDEN_DIM, 5)\n",
        "    \n",
        "  def forward(self, input):\n",
        "    embedded_input = self.embedding(input).to(device)\n",
        "    h0 = torch.zeros(2, embedded_input.shape[0], HIDDEN_DIM).to(device)\n",
        "    out, _ = self.layer1(embedded_input, h0)\n",
        "    out = out.reshape(embedded_input.shape[0], -1)\n",
        "    out = self.layer2(out)\n",
        "    return out"
      ],
      "execution_count": null,
      "outputs": []
    },
    {
      "cell_type": "markdown",
      "metadata": {
        "id": "VXKDcr6q5TPe"
      },
      "source": [
        "###LSTM"
      ]
    },
    {
      "cell_type": "code",
      "metadata": {
        "id": "_nM6Q24y5WRl"
      },
      "source": [
        "from gensim.models import KeyedVectors\n",
        "import numpy as np\n",
        "import json\n",
        "from tqdm import tqdm\n",
        "import os\n",
        "from sklearn.model_selection import train_test_split\n",
        "import torch\n",
        "import torch.nn as nn\n",
        "import torch.nn.functional as F\n",
        "\n",
        "WORD_DIM = 200\n",
        "HIDDEN_DIM = 512\n",
        "\n",
        "\n",
        "class W2VLSTMNet(nn.Module):\n",
        "  def __init__(self):\n",
        "    super(W2VLSTMNet, self).__init__()\n",
        "    self.embedding = nn.Embedding.from_pretrained(weights, freeze = True)\n",
        "    self.layer1 = nn.LSTM(WORD_DIM, HIDDEN_DIM, 2, batch_first = True, dropout = 0.2)\n",
        "    self.layer2 = nn.Linear(HIDDEN_DIM, 5)\n",
        "    \n",
        "  def forward(self, input):\n",
        "    embedded_input = self.embedding(input).to(device)\n",
        "    h0 = torch.zeros(2, embedded_input.shape[0], HIDDEN_DIM).to(device)\n",
        "    c0 = torch.zeros(2, embedded_input.shape[0], HIDDEN_DIM).to(device)\n",
        "    out, _ = self.layer1(embedded_input, (h0,c0))\n",
        "    out = out[:, -1, :]\n",
        "    out = self.layer2(out)\n",
        "    return out"
      ],
      "execution_count": null,
      "outputs": []
    },
    {
      "cell_type": "markdown",
      "metadata": {
        "id": "IUM2YGvo24_A"
      },
      "source": [
        "###BLSTM"
      ]
    },
    {
      "cell_type": "code",
      "metadata": {
        "id": "Xwt8PTaJtb4V"
      },
      "source": [
        "from gensim.models import KeyedVectors\n",
        "import numpy as np\n",
        "import json\n",
        "from tqdm import tqdm\n",
        "import os\n",
        "from sklearn.model_selection import train_test_split\n",
        "import torch\n",
        "import torch.nn as nn\n",
        "import torch.nn.functional as F\n",
        "\n",
        "weights.to(device)\n",
        "HIDDEN_DIM = 512\n",
        "\n",
        "class W2VBILSTMNet(nn.Module):\n",
        "  def __init__(self):\n",
        "    super(W2VBILSTMNet, self).__init__()\n",
        "    self.embedding = nn.Embedding.from_pretrained(weights, freeze = True)\n",
        "    self.layer1 = nn.LSTM(200, HIDDEN_DIM, 2, batch_first = True, bidirectional = True, dropout = 0.2)\n",
        "    #add dropout\n",
        "    self.layer2 = nn.Linear(HIDDEN_DIM * 2, 5)\n",
        "    \n",
        "  def forward(self, input):\n",
        "    embedded_input = self.embedding(input).to(device)\n",
        "    h0 = torch.zeros(2 * 2, embedded_input.shape[0], HIDDEN_DIM).to(device)\n",
        "    c0 = torch.zeros(2 * 2, embedded_input.shape[0], HIDDEN_DIM).to(device)\n",
        "    out, _ = self.layer1(embedded_input, (h0,c0))\n",
        "    out = out[:, -1, :]\n",
        "    out = self.layer2(out)\n",
        "    return out"
      ],
      "execution_count": null,
      "outputs": []
    },
    {
      "cell_type": "markdown",
      "metadata": {
        "id": "1bpQD-ud8LvO"
      },
      "source": [
        "###BLSTM Fine-Tuned"
      ]
    },
    {
      "cell_type": "code",
      "metadata": {
        "id": "IStdyuhW8Tc4"
      },
      "source": [
        "from gensim.models import KeyedVectors\n",
        "import numpy as np\n",
        "import json\n",
        "from tqdm import tqdm\n",
        "import os\n",
        "from sklearn.model_selection import train_test_split\n",
        "import torch\n",
        "import torch.nn as nn\n",
        "import torch.nn.functional as F\n",
        "\n",
        "weights.to(device)\n",
        "HIDDEN_DIM = 512\n",
        "\n",
        "class W2VBILSTMTUNENet(nn.Module):\n",
        "  def __init__(self):\n",
        "    super(W2VBILSTMTUNENet, self).__init__()\n",
        "    self.embedding = nn.Embedding.from_pretrained(weights, freeze = False)\n",
        "    self.layer1 = nn.LSTM(200, HIDDEN_DIM, 2, batch_first = True, bidirectional = True, dropout = 0.2)\n",
        "    #add dropout\n",
        "    self.layer2 = nn.Linear(HIDDEN_DIM * 2, 5)\n",
        "    \n",
        "  def forward(self, input):\n",
        "    embedded_input = self.embedding(input).to(device)\n",
        "    h0 = torch.zeros(2 * 2, embedded_input.shape[0], HIDDEN_DIM).to(device)\n",
        "    c0 = torch.zeros(2 * 2, embedded_input.shape[0], HIDDEN_DIM).to(device)\n",
        "    out, _ = self.layer1(embedded_input, (h0,c0))\n",
        "    out = out[:, -1, :]\n",
        "    out = self.layer2(out)\n",
        "    return out"
      ],
      "execution_count": null,
      "outputs": []
    },
    {
      "cell_type": "markdown",
      "metadata": {
        "id": "Rc-V6upv4YXa"
      },
      "source": [
        "## Training Function Initialization"
      ]
    },
    {
      "cell_type": "code",
      "metadata": {
        "id": "hTaNTFch42eT"
      },
      "source": [
        "from sklearn.metrics import confusion_matrix, ConfusionMatrixDisplay\n",
        "from sklearn.metrics import f1_score\n",
        "import matplotlib.pyplot as plt\n",
        "\n",
        "\n",
        "LEARNING_RATE = 0.001\n",
        "NUM_EPOCHS = 2\n",
        "\n",
        "unk_set = set()\n",
        "\n",
        "\n",
        "def get_accuracy(output, target, batch_size):\n",
        "    corrects = (torch.max(output, 1)[1].view(target.size()).data == target.data).sum()\n",
        "    accuracy = 100.0 * corrects/batch_size\n",
        "    return accuracy.item()\n",
        "\n",
        "\n",
        "def evaluate(X, Y, loader, mod, is_test, batch_size = BATCH_SIZE):\n",
        "  with torch.no_grad():\n",
        "    accuracy = 0\n",
        "    if is_test:\n",
        "      predictions = np.zeros(len(X))\n",
        "      for batch_ndx, sample in enumerate(tqdm(loader)):\n",
        "        input, targets = input, targets = sample[0], sample[1]\n",
        "        out = mod(input)\n",
        "        accuracy += get_accuracy(out, targets, batch_size)\n",
        "        preds = torch.argmax(out, dim = 1)\n",
        "        for pred_index in range(len(preds)):\n",
        "          predictions[pred_index + (batch_ndx*batch_size)] = preds[pred_index]\n",
        "\n",
        "      Y_array = Y.cpu().detach().numpy()\n",
        "      f1_micro = f1_score(Y_array,predictions, average='micro')\n",
        "      accuracy = accuracy/int(len(X)/batch_size)\n",
        "      cm = confusion_matrix(Y_array, predictions, normalize='true')\n",
        "      plt.show()\n",
        "      return accuracy, f1_micro, cm\n",
        "    else:\n",
        "      for batch_ndx, sample in enumerate(tqdm(loader)):\n",
        "        input, targets = sample[0], sample[1]\n",
        "        out = mod(input)\n",
        "        accuracy += get_accuracy(out, targets, batch_size)\n",
        "      accuracy = accuracy/int(len(X)/batch_size)\n",
        "      return accuracy\n",
        "\n",
        "    \n",
        "def get_next_batch(X, Y, batch_size, index):\n",
        "  X_batch = X[(index*batch_size):(index*batch_size + batch_size)].to(device)\n",
        "  Y_batch = Y[(index*batch_size):(index*batch_size + batch_size)].to(device)\n",
        "  return X_batch, Y_batch\n",
        "\n",
        "\n",
        "def train_w2v(mod, num_epochs = NUM_EPOCHS, batch_size = BATCH_SIZE):\n",
        "\n",
        "  for epoch in range(num_epochs):\n",
        "      print()\n",
        "      print(f'epoch {epoch}:')\n",
        "      print()\n",
        "      train_running_loss = 0.0\n",
        "      train_acc = 0.0\n",
        "      test_acc = 0.0\n",
        "\n",
        "      mod = mod.train()\n",
        "      print()\n",
        "      print(\"training...\")\n",
        "      print()\n",
        "      for batch_ndx, sample in enumerate(tqdm(train_loader)):\n",
        "          input, targets = sample[0], sample[1]\n",
        "          out = mod(input)\n",
        "          loss = criterion(out, targets)\n",
        "          optimizer.zero_grad()\n",
        "          loss.backward()\n",
        "\n",
        "          optimizer.step()\n",
        "\n",
        "          train_running_loss += loss.detach().item()\n",
        "      \n",
        "      print(\"evaluating on trainings set...\")\n",
        "      train_acc = evaluate(X_train, Y_train, train_loader, mod, False,  batch_size)\n",
        "\n",
        "      print(\"evaluating on test set...\")\n",
        "      test_acc, test_f1, cm = evaluate(X_test, Y_test, test_loader, mod, True, batch_size)\n",
        "           \n",
        "  \n",
        "      print('Epoch: %d | Loss: %.4f | Train Accuracy: %.2f | Test Accuracy: %.2f | F1 score: %.2f' \\\n",
        "            %(epoch+1, train_running_loss / int(len(X_train)/batch_size), train_acc, test_acc, test_f1))\n",
        "      \n",
        "  disp = ConfusionMatrixDisplay(confusion_matrix=cm, display_labels=[1,2,3,4,5])\n",
        "  disp.plot()"
      ],
      "execution_count": null,
      "outputs": []
    },
    {
      "cell_type": "markdown",
      "metadata": {
        "id": "smxtkTVB4pg6"
      },
      "source": [
        "##Training and Evaluation"
      ]
    },
    {
      "cell_type": "markdown",
      "metadata": {
        "id": "l2k2YngHBtoj"
      },
      "source": [
        "###NAIVE"
      ]
    },
    {
      "cell_type": "code",
      "metadata": {
        "colab": {
          "base_uri": "https://localhost:8080/",
          "height": 695
        },
        "id": "IcspZTDIBxwB",
        "outputId": "b3c9f3b9-ae8e-4b8b-831f-ae7ecb16e713"
      },
      "source": [
        "train_accuracies = []\n",
        "test_accuracies = []\n",
        "unk_set = set()\n",
        "device = torch.device(\"cuda:0\")\n",
        "criterion = nn.CrossEntropyLoss()\n",
        "model = W2VNet()\n",
        "model = model.to(device)\n",
        "optimizer = torch.optim.Adam(model.parameters(), lr=LEARNING_RATE)\n",
        "train_w2v(model)\n",
        "torch.save(model.state_dict(),'/content/drive/MyDrive/Colab Notebooks/W2VNet')"
      ],
      "execution_count": null,
      "outputs": [
        {
          "output_type": "stream",
          "text": [
            "  0%|          | 11/12500 [00:00<02:00, 103.56it/s]"
          ],
          "name": "stderr"
        },
        {
          "output_type": "stream",
          "text": [
            "\n",
            "epoch 0:\n",
            "\n",
            "\n",
            "training...\n",
            "\n"
          ],
          "name": "stdout"
        },
        {
          "output_type": "stream",
          "text": [
            "100%|██████████| 12500/12500 [01:25<00:00, 146.68it/s]\n",
            "  0%|          | 53/12500 [00:00<00:23, 528.96it/s]"
          ],
          "name": "stderr"
        },
        {
          "output_type": "stream",
          "text": [
            "evaluating on trainings set...\n"
          ],
          "name": "stdout"
        },
        {
          "output_type": "stream",
          "text": [
            "100%|██████████| 12500/12500 [00:24<00:00, 516.11it/s]\n",
            "  1%|          | 28/3125 [00:00<00:11, 278.43it/s]"
          ],
          "name": "stderr"
        },
        {
          "output_type": "stream",
          "text": [
            "evaluating on test set...\n"
          ],
          "name": "stdout"
        },
        {
          "output_type": "stream",
          "text": [
            "100%|██████████| 3125/3125 [00:11<00:00, 277.62it/s]\n",
            "  0%|          | 12/12500 [00:00<01:52, 111.33it/s]"
          ],
          "name": "stderr"
        },
        {
          "output_type": "stream",
          "text": [
            "Epoch: 1 | Loss: 1.1879 | Train Accuracy: 51.78 | Test Accuracy: 49.34 | F1 score: 0.50\n",
            "\n",
            "epoch 1:\n",
            "\n",
            "\n",
            "training...\n",
            "\n"
          ],
          "name": "stdout"
        },
        {
          "output_type": "stream",
          "text": [
            "100%|██████████| 12500/12500 [01:25<00:00, 147.05it/s]\n",
            "  0%|          | 51/12500 [00:00<00:24, 500.56it/s]"
          ],
          "name": "stderr"
        },
        {
          "output_type": "stream",
          "text": [
            "evaluating on trainings set...\n"
          ],
          "name": "stdout"
        },
        {
          "output_type": "stream",
          "text": [
            "100%|██████████| 12500/12500 [00:24<00:00, 515.79it/s]\n",
            "  1%|          | 29/3125 [00:00<00:10, 287.80it/s]"
          ],
          "name": "stderr"
        },
        {
          "output_type": "stream",
          "text": [
            "evaluating on test set...\n"
          ],
          "name": "stdout"
        },
        {
          "output_type": "stream",
          "text": [
            "100%|██████████| 3125/3125 [00:11<00:00, 278.99it/s]\n"
          ],
          "name": "stderr"
        },
        {
          "output_type": "stream",
          "text": [
            "Epoch: 2 | Loss: 1.0923 | Train Accuracy: 55.12 | Test Accuracy: 49.66 | F1 score: 0.50\n"
          ],
          "name": "stdout"
        },
        {
          "output_type": "display_data",
          "data": {
            "image/png": "[encoded data removed]",
            "text/plain": [
              "<Figure size 432x288 with 2 Axes>"
            ]
          },
          "metadata": {
            "tags": [],
            "needs_background": "light"
          }
        }
      ]
    },
    {
      "cell_type": "markdown",
      "metadata": {
        "id": "WFSlDkQd8a_R"
      },
      "source": [
        "###RNN"
      ]
    },
    {
      "cell_type": "code",
      "metadata": {
        "colab": {
          "base_uri": "https://localhost:8080/",
          "height": 695
        },
        "id": "7iun21aI8bZu",
        "outputId": "a711997e-2e28-4a26-f6f1-11fb1af037b3"
      },
      "source": [
        "train_accuracies = []\n",
        "test_accuracies = []\n",
        "unk_set = set()\n",
        "device = torch.device(\"cuda:0\")\n",
        "criterion = nn.CrossEntropyLoss()\n",
        "model = W2VRNNNet()\n",
        "model = model.to(device)\n",
        "optimizer = torch.optim.Adam(model.parameters(), lr=LEARNING_RATE)\n",
        "train_w2v(model)\n",
        "torch.save(model.state_dict(),'/content/drive/MyDrive/Colab Notebooks/W2VRNNNet')"
      ],
      "execution_count": null,
      "outputs": [
        {
          "output_type": "stream",
          "text": [
            "  0%|          | 1/12500 [00:00<20:59,  9.92it/s]"
          ],
          "name": "stderr"
        },
        {
          "output_type": "stream",
          "text": [
            "\n",
            "epoch 0:\n",
            "\n",
            "\n",
            "training...\n",
            "\n"
          ],
          "name": "stdout"
        },
        {
          "output_type": "stream",
          "text": [
            "100%|██████████| 12500/12500 [12:48<00:00, 16.26it/s]\n",
            "  0%|          | 5/12500 [00:00<04:36, 45.16it/s]"
          ],
          "name": "stderr"
        },
        {
          "output_type": "stream",
          "text": [
            "evaluating on trainings set...\n"
          ],
          "name": "stdout"
        },
        {
          "output_type": "stream",
          "text": [
            "100%|██████████| 12500/12500 [04:43<00:00, 44.13it/s]\n",
            "  0%|          | 5/3125 [00:00<01:11, 43.91it/s]"
          ],
          "name": "stderr"
        },
        {
          "output_type": "stream",
          "text": [
            "evaluating on test set...\n"
          ],
          "name": "stdout"
        },
        {
          "output_type": "stream",
          "text": [
            "100%|██████████| 3125/3125 [01:13<00:00, 42.74it/s]\n",
            "  0%|          | 2/12500 [00:00<11:00, 18.93it/s]"
          ],
          "name": "stderr"
        },
        {
          "output_type": "stream",
          "text": [
            "Epoch: 1 | Loss: 1.4021 | Train Accuracy: 44.99 | Test Accuracy: 44.81 | F1 score: 0.45\n",
            "\n",
            "epoch 1:\n",
            "\n",
            "\n",
            "training...\n",
            "\n"
          ],
          "name": "stdout"
        },
        {
          "output_type": "stream",
          "text": [
            "100%|██████████| 12500/12500 [12:34<00:00, 16.58it/s]\n",
            "  0%|          | 5/12500 [00:00<04:17, 48.43it/s]"
          ],
          "name": "stderr"
        },
        {
          "output_type": "stream",
          "text": [
            "evaluating on trainings set...\n"
          ],
          "name": "stdout"
        },
        {
          "output_type": "stream",
          "text": [
            "100%|██████████| 12500/12500 [04:32<00:00, 45.89it/s]\n",
            "  0%|          | 5/3125 [00:00<01:10, 44.53it/s]"
          ],
          "name": "stderr"
        },
        {
          "output_type": "stream",
          "text": [
            "evaluating on test set...\n"
          ],
          "name": "stdout"
        },
        {
          "output_type": "stream",
          "text": [
            "100%|██████████| 3125/3125 [01:10<00:00, 44.35it/s]\n"
          ],
          "name": "stderr"
        },
        {
          "output_type": "stream",
          "text": [
            "Epoch: 2 | Loss: 14.5606 | Train Accuracy: 20.15 | Test Accuracy: 20.29 | F1 score: 0.21\n"
          ],
          "name": "stdout"
        },
        {
          "output_type": "display_data",
          "data": {
            "image/png": "[encoded data removed]",
            "text/plain": [
              "<Figure size 432x288 with 2 Axes>"
            ]
          },
          "metadata": {
            "tags": [],
            "needs_background": "light"
          }
        }
      ]
    },
    {
      "cell_type": "markdown",
      "metadata": {
        "id": "hc7i0p358Qjr"
      },
      "source": [
        "###GRU\n"
      ]
    },
    {
      "cell_type": "code",
      "metadata": {
        "colab": {
          "base_uri": "https://localhost:8080/",
          "height": 712
        },
        "id": "vwuIDDEz8T3M",
        "outputId": "d40244e6-b95c-48c9-e961-8e0bccef96b5"
      },
      "source": [
        "train_accuracies = []\n",
        "test_accuracies = []\n",
        "unk_set = set()\n",
        "device = torch.device(\"cuda:0\")\n",
        "criterion = nn.CrossEntropyLoss()\n",
        "model = W2VGRUNet()\n",
        "model = model.to(device)\n",
        "optimizer = torch.optim.Adam(model.parameters(), lr=LEARNING_RATE)\n",
        "pytorch_total_params = sum(p.numel() for p in model.parameters() if p.requires_grad)\n",
        "print(pytorch_total_params)\n",
        "train_w2v(model)\n",
        "torch.save(model.state_dict(),'/content/drive/MyDrive/Colab Notebooks/W2VGRUNet')"
      ],
      "execution_count": null,
      "outputs": [
        {
          "output_type": "stream",
          "text": [
            "\r  0%|          | 0/12500 [00:00<?, ?it/s]"
          ],
          "name": "stderr"
        },
        {
          "output_type": "stream",
          "text": [
            "3184645\n",
            "\n",
            "epoch 0:\n",
            "\n",
            "\n",
            "training...\n",
            "\n"
          ],
          "name": "stdout"
        },
        {
          "output_type": "stream",
          "text": [
            "100%|██████████| 12500/12500 [32:49<00:00,  6.35it/s]\n",
            "  0%|          | 2/12500 [00:00<10:31, 19.79it/s]"
          ],
          "name": "stderr"
        },
        {
          "output_type": "stream",
          "text": [
            "evaluating on trainings set...\n"
          ],
          "name": "stdout"
        },
        {
          "output_type": "stream",
          "text": [
            "100%|██████████| 12500/12500 [10:32<00:00, 19.75it/s]\n",
            "  0%|          | 2/3125 [00:00<02:37, 19.86it/s]"
          ],
          "name": "stderr"
        },
        {
          "output_type": "stream",
          "text": [
            "evaluating on test set...\n"
          ],
          "name": "stdout"
        },
        {
          "output_type": "stream",
          "text": [
            "100%|██████████| 3125/3125 [02:41<00:00, 19.40it/s]\n",
            "  0%|          | 1/12500 [00:00<28:42,  7.25it/s]"
          ],
          "name": "stderr"
        },
        {
          "output_type": "stream",
          "text": [
            "Epoch: 1 | Loss: 1.0278 | Train Accuracy: 59.31 | Test Accuracy: 58.38 | F1 score: 0.58\n",
            "\n",
            "epoch 1:\n",
            "\n",
            "\n",
            "training...\n",
            "\n"
          ],
          "name": "stdout"
        },
        {
          "output_type": "stream",
          "text": [
            "100%|██████████| 12500/12500 [32:30<00:00,  6.41it/s]\n",
            "  0%|          | 2/12500 [00:00<10:27, 19.93it/s]"
          ],
          "name": "stderr"
        },
        {
          "output_type": "stream",
          "text": [
            "evaluating on trainings set...\n"
          ],
          "name": "stdout"
        },
        {
          "output_type": "stream",
          "text": [
            "100%|██████████| 12500/12500 [10:33<00:00, 19.74it/s]\n",
            "  0%|          | 2/3125 [00:00<02:36, 19.91it/s]"
          ],
          "name": "stderr"
        },
        {
          "output_type": "stream",
          "text": [
            "evaluating on test set...\n"
          ],
          "name": "stdout"
        },
        {
          "output_type": "stream",
          "text": [
            "100%|██████████| 3125/3125 [02:40<00:00, 19.42it/s]\n"
          ],
          "name": "stderr"
        },
        {
          "output_type": "stream",
          "text": [
            "Epoch: 2 | Loss: 0.9318 | Train Accuracy: 61.83 | Test Accuracy: 59.58 | F1 score: 0.60\n"
          ],
          "name": "stdout"
        },
        {
          "output_type": "display_data",
          "data": {
            "image/png": "[encoded data removed]",
            "text/plain": [
              "<Figure size 432x288 with 2 Axes>"
            ]
          },
          "metadata": {
            "tags": [],
            "needs_background": "light"
          }
        }
      ]
    },
    {
      "cell_type": "markdown",
      "metadata": {
        "id": "Sacl00jd6jXn"
      },
      "source": [
        "###LSTM\n",
        "\n"
      ]
    },
    {
      "cell_type": "code",
      "metadata": {
        "colab": {
          "base_uri": "https://localhost:8080/",
          "height": 712
        },
        "id": "gKznXD3N6IW0",
        "outputId": "6e566516-6424-451d-bd51-5914b8710440"
      },
      "source": [
        "train_accuracies = []\n",
        "test_accuracies = []\n",
        "unk_set = set()\n",
        "device = torch.device(\"cuda:0\")\n",
        "criterion = nn.CrossEntropyLoss()\n",
        "model = W2VLSTMNet()\n",
        "model = model.to(device)\n",
        "pytorch_total_params = sum(p.numel() for p in model.parameters() if p.requires_grad)\n",
        "print(pytorch_total_params)\n",
        "optimizer = torch.optim.Adam(model.parameters(), lr=LEARNING_RATE)\n",
        "train_w2v(model)\n",
        "# torch.save(model.state_dict(),'/content/drive/MyDrive/Colab Notebooks/W2VLSTMNet')"
      ],
      "execution_count": null,
      "outputs": [
        {
          "output_type": "stream",
          "text": [
            "\r  0%|          | 0/12500 [00:00<?, ?it/s]"
          ],
          "name": "stderr"
        },
        {
          "output_type": "stream",
          "text": [
            "3566085\n",
            "\n",
            "epoch 0:\n",
            "\n",
            "\n",
            "training...\n",
            "\n"
          ],
          "name": "stdout"
        },
        {
          "output_type": "stream",
          "text": [
            "100%|██████████| 12500/12500 [44:47<00:00,  4.65it/s]\n",
            "  0%|          | 2/12500 [00:00<14:27, 14.40it/s]"
          ],
          "name": "stderr"
        },
        {
          "output_type": "stream",
          "text": [
            "evaluating on trainings set...\n"
          ],
          "name": "stdout"
        },
        {
          "output_type": "stream",
          "text": [
            "100%|██████████| 12500/12500 [14:40<00:00, 14.20it/s]\n",
            "  0%|          | 2/3125 [00:00<03:45, 13.85it/s]"
          ],
          "name": "stderr"
        },
        {
          "output_type": "stream",
          "text": [
            "evaluating on test set...\n"
          ],
          "name": "stdout"
        },
        {
          "output_type": "stream",
          "text": [
            "100%|██████████| 3125/3125 [03:45<00:00, 13.87it/s]\n",
            "  0%|          | 0/12500 [00:00<?, ?it/s]"
          ],
          "name": "stderr"
        },
        {
          "output_type": "stream",
          "text": [
            "Epoch: 1 | Loss: 0.9937 | Train Accuracy: 60.96 | Test Accuracy: 60.11 | F1 score: 0.60\n",
            "\n",
            "epoch 1:\n",
            "\n",
            "\n",
            "training...\n",
            "\n"
          ],
          "name": "stdout"
        },
        {
          "output_type": "stream",
          "text": [
            "100%|██████████| 12500/12500 [44:47<00:00,  4.65it/s]\n",
            "  0%|          | 2/12500 [00:00<14:25, 14.44it/s]"
          ],
          "name": "stderr"
        },
        {
          "output_type": "stream",
          "text": [
            "evaluating on trainings set...\n"
          ],
          "name": "stdout"
        },
        {
          "output_type": "stream",
          "text": [
            "100%|██████████| 12500/12500 [14:35<00:00, 14.28it/s]\n",
            "  0%|          | 2/3125 [00:00<03:39, 14.21it/s]"
          ],
          "name": "stderr"
        },
        {
          "output_type": "stream",
          "text": [
            "evaluating on test set...\n"
          ],
          "name": "stdout"
        },
        {
          "output_type": "stream",
          "text": [
            "100%|██████████| 3125/3125 [03:44<00:00, 13.92it/s]\n"
          ],
          "name": "stderr"
        },
        {
          "output_type": "stream",
          "text": [
            "Epoch: 2 | Loss: 0.8980 | Train Accuracy: 63.20 | Test Accuracy: 61.02 | F1 score: 0.61\n"
          ],
          "name": "stdout"
        },
        {
          "output_type": "display_data",
          "data": {
            "image/png": "[encoded data removed]",
            "text/plain": [
              "<Figure size 432x288 with 2 Axes>"
            ]
          },
          "metadata": {
            "tags": [],
            "needs_background": "light"
          }
        }
      ]
    },
    {
      "cell_type": "markdown",
      "metadata": {
        "id": "FbPa7xMc5LSO"
      },
      "source": [
        "###BLSTM"
      ]
    },
    {
      "cell_type": "code",
      "metadata": {
        "colab": {
          "base_uri": "https://localhost:8080/",
          "height": 712
        },
        "id": "4HpaIs_06QIA",
        "outputId": "34114a79-0e99-4411-d6a1-85e4f14fe8de"
      },
      "source": [
        "train_accuracies = []\n",
        "test_accuracies = []\n",
        "unk_set = set()\n",
        "device = torch.device(\"cuda:0\")\n",
        "criterion = nn.CrossEntropyLoss()\n",
        "model = W2VBILSTMNet()\n",
        "model = model.to(device)\n",
        "optimizer = torch.optim.Adam(model.parameters(), lr=LEARNING_RATE)\n",
        "pytorch_total_params = sum(p.numel() for p in model.parameters() if p.requires_grad)\n",
        "print(pytorch_total_params)\n",
        "train_w2v(model)\n",
        "torch.save(model.state_dict(),'/content/drive/MyDrive/Colab Notebooks/W2VBILSTMNet')"
      ],
      "execution_count": null,
      "outputs": [
        {
          "output_type": "stream",
          "text": [
            "\r  0%|          | 0/12500 [00:00<?, ?it/s]"
          ],
          "name": "stderr"
        },
        {
          "output_type": "stream",
          "text": [
            "9229317\n",
            "\n",
            "epoch 0:\n",
            "\n",
            "\n",
            "training...\n",
            "\n"
          ],
          "name": "stdout"
        },
        {
          "output_type": "stream",
          "text": [
            "100%|██████████| 12500/12500 [1:46:08<00:00,  1.96it/s]\n",
            "  0%|          | 1/12500 [00:00<35:43,  5.83it/s]"
          ],
          "name": "stderr"
        },
        {
          "output_type": "stream",
          "text": [
            "evaluating on trainings set...\n"
          ],
          "name": "stdout"
        },
        {
          "output_type": "stream",
          "text": [
            "100%|██████████| 12500/12500 [36:05<00:00,  5.77it/s]\n",
            "  0%|          | 1/3125 [00:00<09:13,  5.64it/s]"
          ],
          "name": "stderr"
        },
        {
          "output_type": "stream",
          "text": [
            "evaluating on test set...\n"
          ],
          "name": "stdout"
        },
        {
          "output_type": "stream",
          "text": [
            "100%|██████████| 3125/3125 [09:06<00:00,  5.72it/s]\n",
            "  0%|          | 0/12500 [00:00<?, ?it/s]"
          ],
          "name": "stderr"
        },
        {
          "output_type": "stream",
          "text": [
            "Epoch: 1 | Loss: 0.9922 | Train Accuracy: 61.31 | Test Accuracy: 60.35 | F1 score: 0.60\n",
            "\n",
            "epoch 1:\n",
            "\n",
            "\n",
            "training...\n",
            "\n"
          ],
          "name": "stdout"
        },
        {
          "output_type": "stream",
          "text": [
            "100%|██████████| 12500/12500 [1:46:18<00:00,  1.96it/s]\n",
            "  0%|          | 1/12500 [00:00<36:04,  5.78it/s]"
          ],
          "name": "stderr"
        },
        {
          "output_type": "stream",
          "text": [
            "evaluating on trainings set...\n"
          ],
          "name": "stdout"
        },
        {
          "output_type": "stream",
          "text": [
            "100%|██████████| 12500/12500 [36:07<00:00,  5.77it/s]\n",
            "  0%|          | 1/3125 [00:00<08:56,  5.82it/s]"
          ],
          "name": "stderr"
        },
        {
          "output_type": "stream",
          "text": [
            "evaluating on test set...\n"
          ],
          "name": "stdout"
        },
        {
          "output_type": "stream",
          "text": [
            "100%|██████████| 3125/3125 [09:05<00:00,  5.73it/s]\n"
          ],
          "name": "stderr"
        },
        {
          "output_type": "stream",
          "text": [
            "Epoch: 2 | Loss: 0.8884 | Train Accuracy: 63.88 | Test Accuracy: 61.36 | F1 score: 0.61\n"
          ],
          "name": "stdout"
        },
        {
          "output_type": "display_data",
          "data": {
            "image/png": "[encoded data removed]",
            "text/plain": [
              "<Figure size 432x288 with 2 Axes>"
            ]
          },
          "metadata": {
            "tags": [],
            "needs_background": "light"
          }
        }
      ]
    },
    {
      "cell_type": "markdown",
      "metadata": {
        "id": "3ob_6EPW8bnj"
      },
      "source": [
        "###BLSTM Fine-Tuned"
      ]
    },
    {
      "cell_type": "code",
      "metadata": {
        "id": "VZiqQiJE8e0i",
        "colab": {
          "base_uri": "https://localhost:8080/",
          "height": 706
        },
        "outputId": "d86c0987-a692-489a-a2d3-ec12139f4da4"
      },
      "source": [
        "train_accuracies = []\n",
        "test_accuracies = []\n",
        "unk_set = set()\n",
        "device = torch.device(\"cuda:0\")\n",
        "criterion = nn.CrossEntropyLoss()\n",
        "model = W2VBILSTMTUNENet()\n",
        "model = model.to(device)\n",
        "optimizer = torch.optim.Adam(model.parameters(), lr=LEARNING_RATE)\n",
        "pytorch_total_params = sum(p.numel() for p in model.parameters() if p.requires_grad)\n",
        "print(pytorch_total_params)\n",
        "train_w2v(model)\n",
        "torch.save(model.state_dict(),'/content/drive/MyDrive/Colab Notebooks/W2VBILSTMTUNENet')"
      ],
      "execution_count": null,
      "outputs": [
        {
          "output_type": "stream",
          "text": [
            "\r  0%|          | 0/12500 [00:00<?, ?it/s]"
          ],
          "name": "stderr"
        },
        {
          "output_type": "stream",
          "text": [
            "247932317\n",
            "\n",
            "epoch 0:\n",
            "\n",
            "\n",
            "training...\n",
            "\n"
          ],
          "name": "stdout"
        },
        {
          "output_type": "stream",
          "text": [
            "100%|██████████| 12500/12500 [1:54:20<00:00,  1.82it/s]\n",
            "  0%|          | 1/12500 [00:00<33:00,  6.31it/s]"
          ],
          "name": "stderr"
        },
        {
          "output_type": "stream",
          "text": [
            "evaluating on trainings set...\n"
          ],
          "name": "stdout"
        },
        {
          "output_type": "stream",
          "text": [
            "100%|██████████| 12500/12500 [34:08<00:00,  6.10it/s]\n",
            "  0%|          | 1/3125 [00:00<08:26,  6.17it/s]"
          ],
          "name": "stderr"
        },
        {
          "output_type": "stream",
          "text": [
            "evaluating on test set...\n"
          ],
          "name": "stdout"
        },
        {
          "output_type": "stream",
          "text": [
            "100%|██████████| 3125/3125 [08:35<00:00,  6.07it/s]\n",
            "  0%|          | 0/12500 [00:00<?, ?it/s]"
          ],
          "name": "stderr"
        },
        {
          "output_type": "stream",
          "text": [
            "Epoch: 1 | Loss: 0.9608 | Train Accuracy: 63.17 | Test Accuracy: 61.23 | F1 score: 0.61\n",
            "\n",
            "epoch 1:\n",
            "\n",
            "\n",
            "training...\n",
            "\n"
          ],
          "name": "stdout"
        },
        {
          "output_type": "stream",
          "text": [
            "100%|██████████| 12500/12500 [1:54:36<00:00,  1.82it/s]\n",
            "  0%|          | 1/12500 [00:00<33:03,  6.30it/s]"
          ],
          "name": "stderr"
        },
        {
          "output_type": "stream",
          "text": [
            "evaluating on trainings set...\n"
          ],
          "name": "stdout"
        },
        {
          "output_type": "stream",
          "text": [
            "100%|██████████| 12500/12500 [34:25<00:00,  6.05it/s]\n",
            "  0%|          | 1/3125 [00:00<08:18,  6.27it/s]"
          ],
          "name": "stderr"
        },
        {
          "output_type": "stream",
          "text": [
            "evaluating on test set...\n"
          ],
          "name": "stdout"
        },
        {
          "output_type": "stream",
          "text": [
            "100%|██████████| 3125/3125 [08:39<00:00,  6.02it/s]\n"
          ],
          "name": "stderr"
        },
        {
          "output_type": "stream",
          "text": [
            "Epoch: 2 | Loss: 0.8532 | Train Accuracy: 67.04 | Test Accuracy: 62.04 | F1 score: 0.62\n"
          ],
          "name": "stdout"
        },
        {
          "output_type": "display_data",
          "data": {
            "image/png": "[encoded data removed]",
            "text/plain": [
              "<Figure size 432x288 with 2 Axes>"
            ]
          },
          "metadata": {
            "tags": [],
            "needs_background": "light"
          }
        }
      ]
    },
    {
      "cell_type": "markdown",
      "metadata": {
        "id": "6vPucNeTBRCx"
      },
      "source": [
        "# Binary classification"
      ]
    },
    {
      "cell_type": "markdown",
      "metadata": {
        "id": "C1QrMzr2H_-z"
      },
      "source": [
        "We take our best model (The LSTM) and evaluate the performance on a similar task.\n",
        "Reviews that were labeled 1-2 are now labeled 0 (negative)\n",
        "Reviews that were labeled 4-5 are now labeled 1 (positive)\n",
        "\n",
        "Reviews that were labeled as 3 are discarded"
      ]
    },
    {
      "cell_type": "markdown",
      "metadata": {
        "id": "NIu7T6idIYX3"
      },
      "source": [
        "## Load binary clean balanced data"
      ]
    },
    {
      "cell_type": "code",
      "metadata": {
        "colab": {
          "base_uri": "https://localhost:8080/"
        },
        "id": "e8n4h2tKIJTf",
        "outputId": "5ac253c3-a934-4c8f-b335-8934950a35ec"
      },
      "source": [
        "from gensim.models import KeyedVectors\n",
        "import numpy as np\n",
        "import json\n",
        "from tqdm import tqdm\n",
        "import os\n",
        "from sklearn.model_selection import train_test_split\n",
        "from sklearn.feature_extraction.text import CountVectorizer\n",
        "from sklearn.utils import shuffle\n",
        "import torch\n",
        "import pickle\n",
        "import html\n",
        "import nltk\n",
        "from nltk.corpus import stopwords\n",
        "from nltk.tokenize import word_tokenize\n",
        "import re\n",
        "from nltk.corpus import stopwords\n",
        "from collections import Counter\n",
        "\n",
        "device = torch.device(\"cuda:0\")\n",
        "nltk.download('stopwords')\n",
        "nltk.download('punkt')\n",
        "\n",
        "MAX_REVIEW_LENGTH = 200\n",
        "DATA_PATH_TRAIN = \"/content/drive/MyDrive/Colab Notebooks/Movies_and_TV_Balanced_400k_Clean_With_Stops_Train.json\"\n",
        "DATA_PATH_TEST = \"/content/drive/MyDrive/Colab Notebooks/Movies_and_TV_Balanced_400k_Clean_With_Stops_Test.json\"\n",
        "\n",
        "ratings_count = {1:0, 2:0, 3:0, 4:0, 5:0}\n",
        "\n",
        "\n",
        "review_length_to_count = Counter()\n",
        "\n",
        "\n",
        "def load_data(data_path):\n",
        "    f_read = open(data_path, \"r\")\n",
        "    X = []\n",
        "    Y = []\n",
        "    for i, line in enumerate(tqdm(f_read)):\n",
        "        review_json = json.loads(line)\n",
        "        if 'reviewText' in review_json:\n",
        "            review_text_cleaned = review_json['reviewText'].split()\n",
        "            indexed_review = [0 for i in range(MAX_REVIEW_LENGTH)]\n",
        "            if len(review_text_cleaned) > 0:\n",
        "              if len(review_text_cleaned) < 500:\n",
        "                review_length_to_count[len(review_text_cleaned)] = review_length_to_count.get(len(review_text_cleaned),0) + 1\n",
        "              for i in range(min(len(review_text_cleaned),MAX_REVIEW_LENGTH)):\n",
        "                if review_text_cleaned[i] in w2v_model:\n",
        "                  indexed_review[MAX_REVIEW_LENGTH - min(len(review_text_cleaned),MAX_REVIEW_LENGTH) + i] = word2index[review_text_cleaned[i]]\n",
        "                else:\n",
        "                  indexed_review[MAX_REVIEW_LENGTH - min(len(review_text_cleaned),MAX_REVIEW_LENGTH) + i] = word2index['unk']\n",
        "              rating = int(review_json['overall'])\n",
        "              if rating != 3:\n",
        "                X.append(indexed_review)\n",
        "                if rating >= 4:\n",
        "                  Y.append(1)\n",
        "                else:\n",
        "                  Y.append(0)\n",
        "              ratings_count[int(review_json['overall'])] += 1\n",
        "    return torch.tensor(X, dtype=torch.long).to(device), torch.tensor(Y, dtype=torch.int64).to(device)\n",
        "  \n",
        "X_train, Y_train = load_data(DATA_PATH_TRAIN)\n",
        "X_test, Y_test = load_data(DATA_PATH_TEST)\n",
        "print(\"Example of a training sample: \", X_train[1])\n",
        "print(\"With label: \", Y_train[1]+1)"
      ],
      "execution_count": null,
      "outputs": [
        {
          "output_type": "stream",
          "text": [
            "[nltk_data] Downloading package stopwords to /root/nltk_data...\n",
            "[nltk_data]   Unzipping corpora/stopwords.zip.\n",
            "[nltk_data] Downloading package punkt to /root/nltk_data...\n",
            "[nltk_data]   Unzipping tokenizers/punkt.zip.\n"
          ],
          "name": "stdout"
        },
        {
          "output_type": "stream",
          "text": [
            "1600000it [02:19, 11440.68it/s]\n",
            "400000it [00:33, 12101.49it/s]\n"
          ],
          "name": "stderr"
        },
        {
          "output_type": "stream",
          "text": [
            "Example of a training sample:  tensor([     0,      0,      0,      0,      0,      0,      0,      0,      0,\n",
            "             0,      0,      0,      0,      0,      0,      0,      0,      0,\n",
            "             0,      0,      0,      0,      0,      0,      0,      0,      0,\n",
            "             0,      0,      0,      0,      0,      0,      0,      0,      0,\n",
            "             0,      0,      0,      0,      0,      0,      0,      0,      0,\n",
            "             0,      0,      0,      0,      0,      0,      0,      0,      0,\n",
            "             0,      0,      0,      0,      0,      0,      0,      0,      0,\n",
            "             0,      0,      0,      0,      0,      0,      0,      0,      0,\n",
            "             0,      0,      0,      0,      0,      0,      0,      0,      0,\n",
            "             0,      0,      0,      0,      0,      0,     11,     65,    249,\n",
            "            12,    831,     40, 580731,  18158,    138,    321,    766, 120090,\n",
            "          5092,     71,     75,     34,    216,    250,    591,     47,     34,\n",
            "            11,    572,    783,     34,    808,     34,    154,   1013,     14,\n",
            "           247,     27,    250,    321,     71,  10507,     38,  10642,   4832,\n",
            "        837728,     14,    689,     33,   1984, 134423,     67,    210,     14,\n",
            "          3170,     33,   4340,   1778,     27,     60,     87,     94,    212,\n",
            "            47,    230,     56,    555,   9909,  15435,     16,    298,   1597,\n",
            "            12,  95241,     40,  10637,    138,    696,    895,     75,     16,\n",
            "           144,     14,   4384,     40,     54,   1252,   6214,    786,   1654,\n",
            "           153,     14,    625,     11,    622,     34,     94,     12,   2007,\n",
            "         25052,   1252,     47,     14,  17472,     14,  56130,    378,   6057,\n",
            "            80,   8802,     87,    110,    408,    215,   3051,     22,    146,\n",
            "           118,   1249], device='cuda:0')\n",
            "With label:  tensor(1, device='cuda:0')\n"
          ],
          "name": "stdout"
        }
      ]
    },
    {
      "cell_type": "markdown",
      "metadata": {
        "id": "Dn_kxB7JI_9v"
      },
      "source": [
        "## Configure Data Loader"
      ]
    },
    {
      "cell_type": "code",
      "metadata": {
        "id": "AybOTRJjJEAj"
      },
      "source": [
        "from torch.utils.data import DataLoader\n",
        "from torch.utils.data import TensorDataset\n",
        "\n",
        "BATCH_SIZE = 128\n",
        "\n",
        "train_dataset = TensorDataset(X_train, Y_train)\n",
        "train_loader = DataLoader(train_dataset, batch_size=BATCH_SIZE, collate_fn=None)\n",
        "\n",
        "test_dataset = TensorDataset(X_test, Y_test)\n",
        "test_loader = DataLoader(test_dataset, batch_size=BATCH_SIZE, collate_fn=None)"
      ],
      "execution_count": null,
      "outputs": []
    },
    {
      "cell_type": "markdown",
      "metadata": {
        "id": "tL1IzyNeJHlh"
      },
      "source": [
        "## BLSTM Binary"
      ]
    },
    {
      "cell_type": "code",
      "metadata": {
        "id": "SmGm32n8JRZX"
      },
      "source": [
        "from gensim.models import KeyedVectors\n",
        "import numpy as np\n",
        "import json\n",
        "from tqdm import tqdm\n",
        "import os\n",
        "from sklearn.model_selection import train_test_split\n",
        "import torch\n",
        "import torch.nn as nn\n",
        "import torch.nn.functional as F\n",
        "\n",
        "weights.to(device)\n",
        "HIDDEN_DIM = 512\n",
        "\n",
        "class W2VBILSTMTUNENet(nn.Module):\n",
        "  def __init__(self):\n",
        "    super(W2VBILSTMTUNENet, self).__init__()\n",
        "    self.embedding = nn.Embedding.from_pretrained(weights, freeze = False)\n",
        "    self.layer1 = nn.LSTM(200, HIDDEN_DIM, 2, batch_first = True, bidirectional = True, dropout = 0.2)\n",
        "    #add dropout\n",
        "    self.layer2 = nn.Linear(HIDDEN_DIM * 2, 2)\n",
        "    \n",
        "  def forward(self, input):\n",
        "    embedded_input = self.embedding(input).to(device)\n",
        "    h0 = torch.zeros(2 * 2, embedded_input.shape[0], HIDDEN_DIM).to(device)\n",
        "    c0 = torch.zeros(2 * 2, embedded_input.shape[0], HIDDEN_DIM).to(device)\n",
        "    out, _ = self.layer1(embedded_input, (h0,c0))\n",
        "    out = out[:, -1, :]\n",
        "    out = self.layer2(out)\n",
        "    return out"
      ],
      "execution_count": null,
      "outputs": []
    },
    {
      "cell_type": "markdown",
      "metadata": {
        "id": "8tn6jFssJc5Z"
      },
      "source": [
        "## Training and evaluation"
      ]
    },
    {
      "cell_type": "code",
      "metadata": {
        "id": "4u0UqMzoJgCv"
      },
      "source": [
        "from sklearn.metrics import confusion_matrix, ConfusionMatrixDisplay\n",
        "from sklearn.metrics import f1_score\n",
        "import matplotlib.pyplot as plt\n",
        "\n",
        "\n",
        "LEARNING_RATE = 0.001\n",
        "NUM_EPOCHS = 2\n",
        "\n",
        "unk_set = set()\n",
        "\n",
        "\n",
        "def get_accuracy(output, target, batch_size):\n",
        "    corrects = (torch.max(output, 1)[1].view(target.size()).data == target.data).sum()\n",
        "    accuracy = 100.0 * corrects/batch_size\n",
        "    return accuracy.item()\n",
        "\n",
        "\n",
        "def evaluate(X, Y, loader, mod, is_test, batch_size = BATCH_SIZE):\n",
        "  with torch.no_grad():\n",
        "    accuracy = 0\n",
        "    if is_test:\n",
        "      predictions = np.zeros(len(X))\n",
        "      for batch_ndx, sample in enumerate(tqdm(loader)):\n",
        "        input, targets = input, targets = sample[0], sample[1]\n",
        "        out = mod(input)\n",
        "        accuracy += get_accuracy(out, targets, batch_size)\n",
        "        preds = torch.argmax(out, dim = 1)\n",
        "        for pred_index in range(len(preds)):\n",
        "          predictions[pred_index + (batch_ndx*batch_size)] = preds[pred_index]\n",
        "\n",
        "      Y_array = Y.cpu().detach().numpy()\n",
        "      f1_micro = f1_score(Y_array,predictions, average='micro')\n",
        "      accuracy = accuracy/int(len(X)/batch_size)\n",
        "      cm = confusion_matrix(Y_array, predictions, normalize='true')\n",
        "      plt.show()\n",
        "      return accuracy, f1_micro, cm\n",
        "    else:\n",
        "      for batch_ndx, sample in enumerate(tqdm(loader)):\n",
        "        input, targets = sample[0], sample[1]\n",
        "        out = mod(input)\n",
        "        accuracy += get_accuracy(out, targets, batch_size)\n",
        "      accuracy = accuracy/int(len(X)/batch_size)\n",
        "      return accuracy\n",
        "\n",
        "    \n",
        "def get_next_batch(X, Y, batch_size, index):\n",
        "  X_batch = X[(index*batch_size):(index*batch_size + batch_size)].to(device)\n",
        "  Y_batch = Y[(index*batch_size):(index*batch_size + batch_size)].to(device)\n",
        "  return X_batch, Y_batch\n",
        "\n",
        "\n",
        "def train_w2v(mod, num_epochs = NUM_EPOCHS, batch_size = BATCH_SIZE):\n",
        "\n",
        "  for epoch in range(num_epochs):\n",
        "      print()\n",
        "      print(f'epoch {epoch}:')\n",
        "      print()\n",
        "      train_running_loss = 0.0\n",
        "      train_acc = 0.0\n",
        "      test_acc = 0.0\n",
        "\n",
        "      mod = mod.train()\n",
        "      print()\n",
        "      print(\"training...\")\n",
        "      print()\n",
        "      for batch_ndx, sample in enumerate(tqdm(train_loader)):\n",
        "          input, targets = sample[0], sample[1]\n",
        "          out = mod(input)\n",
        "          loss = criterion(out, targets)\n",
        "          optimizer.zero_grad()\n",
        "          loss.backward()\n",
        "\n",
        "          optimizer.step()\n",
        "\n",
        "          train_running_loss += loss.detach().item()\n",
        "      \n",
        "      print(\"evaluating on trainings set...\")\n",
        "      train_acc = evaluate(X_train, Y_train, train_loader, mod, False,  batch_size)\n",
        "\n",
        "      print(\"evaluating on test set...\")\n",
        "      test_acc, test_f1, cm = evaluate(X_test, Y_test, test_loader, mod, True, batch_size)\n",
        "           \n",
        "  \n",
        "      print('Epoch: %d | Loss: %.4f | Train Accuracy: %.2f | Test Accuracy: %.2f | F1 score: %.2f' \\\n",
        "            %(epoch+1, train_running_loss / int(len(X_train)/batch_size), train_acc, test_acc, test_f1))\n",
        "      \n",
        "  disp = ConfusionMatrixDisplay(confusion_matrix=cm, display_labels=[1,2])\n",
        "  disp.plot()"
      ],
      "execution_count": null,
      "outputs": []
    },
    {
      "cell_type": "code",
      "metadata": {
        "colab": {
          "base_uri": "https://localhost:8080/",
          "height": 706
        },
        "id": "liKBFD8BJtyM",
        "outputId": "ab06153f-2cc4-4fe7-a27e-8b059fbfa5fd"
      },
      "source": [
        "train_accuracies = []\n",
        "test_accuracies = []\n",
        "unk_set = set()\n",
        "device = torch.device(\"cuda:0\")\n",
        "criterion = nn.CrossEntropyLoss()\n",
        "model = W2VBILSTMTUNENet()\n",
        "model = model.to(device)\n",
        "pytorch_total_params = sum(p.numel() for p in model.parameters() if p.requires_grad)\n",
        "print(pytorch_total_params)\n",
        "optimizer = torch.optim.Adam(model.parameters(), lr=LEARNING_RATE)\n",
        "train_w2v(model)\n",
        "torch.save(model.state_dict(),'/content/drive/MyDrive/Colab Notebooks/W2VBLSTM_Binary_Net')"
      ],
      "execution_count": null,
      "outputs": [
        {
          "output_type": "stream",
          "text": [
            "\r  0%|          | 0/10000 [00:00<?, ?it/s]"
          ],
          "name": "stderr"
        },
        {
          "output_type": "stream",
          "text": [
            "247929242\n",
            "\n",
            "epoch 0:\n",
            "\n",
            "\n",
            "training...\n",
            "\n"
          ],
          "name": "stdout"
        },
        {
          "output_type": "stream",
          "text": [
            "100%|██████████| 10000/10000 [2:45:24<00:00,  1.01it/s]\n",
            "  0%|          | 0/10000 [00:00<?, ?it/s]"
          ],
          "name": "stderr"
        },
        {
          "output_type": "stream",
          "text": [
            "evaluating on trainings set...\n"
          ],
          "name": "stdout"
        },
        {
          "output_type": "stream",
          "text": [
            "100%|██████████| 10000/10000 [46:36<00:00,  3.58it/s]\n",
            "  0%|          | 0/2501 [00:00<?, ?it/s]"
          ],
          "name": "stderr"
        },
        {
          "output_type": "stream",
          "text": [
            "evaluating on test set...\n"
          ],
          "name": "stdout"
        },
        {
          "output_type": "stream",
          "text": [
            "100%|██████████| 2501/2501 [11:48<00:00,  3.53it/s]\n",
            "  0%|          | 0/10000 [00:00<?, ?it/s]"
          ],
          "name": "stderr"
        },
        {
          "output_type": "stream",
          "text": [
            "Epoch: 1 | Loss: 0.2062 | Train Accuracy: 94.48 | Test Accuracy: 93.46 | F1 score: 0.93\n",
            "\n",
            "epoch 1:\n",
            "\n",
            "\n",
            "training...\n",
            "\n"
          ],
          "name": "stdout"
        },
        {
          "output_type": "stream",
          "text": [
            "100%|██████████| 10000/10000 [2:44:52<00:00,  1.01it/s]\n",
            "  0%|          | 0/10000 [00:00<?, ?it/s]"
          ],
          "name": "stderr"
        },
        {
          "output_type": "stream",
          "text": [
            "evaluating on trainings set...\n"
          ],
          "name": "stdout"
        },
        {
          "output_type": "stream",
          "text": [
            "100%|██████████| 10000/10000 [47:10<00:00,  3.53it/s]\n",
            "  0%|          | 0/2501 [00:00<?, ?it/s]"
          ],
          "name": "stderr"
        },
        {
          "output_type": "stream",
          "text": [
            "evaluating on test set...\n"
          ],
          "name": "stdout"
        },
        {
          "output_type": "stream",
          "text": [
            "100%|██████████| 2501/2501 [11:46<00:00,  3.54it/s]\n"
          ],
          "name": "stderr"
        },
        {
          "output_type": "stream",
          "text": [
            "Epoch: 2 | Loss: 0.1461 | Train Accuracy: 96.00 | Test Accuracy: 93.74 | F1 score: 0.94\n"
          ],
          "name": "stdout"
        },
        {
          "output_type": "display_data",
          "data": {
            "image/png": "[encoded data removed]",
            "text/plain": [
              "<Figure size 432x288 with 2 Axes>"
            ]
          },
          "metadata": {
            "tags": [],
            "needs_background": "light"
          }
        }
      ]
    },
    {
      "cell_type": "markdown",
      "metadata": {
        "id": "yBUSH0PhEPB1"
      },
      "source": [
        "#Error Analysis"
      ]
    },
    {
      "cell_type": "code",
      "metadata": {
        "id": "mbCUFmUsGM0e"
      },
      "source": [
        "import torch\n",
        "from sklearn.metrics import confusion_matrix, ConfusionMatrixDisplay\n",
        "from sklearn.metrics import f1_score\n",
        "import matplotlib.pyplot as plt\n",
        "from tqdm import tqdm\n",
        "import numpy as np\n",
        "\n",
        "LEARNING_RATE = 0.001\n",
        "NUM_EPOCHS = 2\n",
        "BATCH_SIZE = 256\n",
        "\n",
        "def get_next_batch(X, Y, batch_size, index, vect):\n",
        "  review_batch = X[index*batch_size : index*batch_size + batch_size]\n",
        "  label_batch = Y[index*batch_size : index*batch_size + batch_size]\n",
        "  X_transformed = vectorizer.fit_transform(review_batch)\n",
        "  X_batch = torch.as_tensor(X_transformed.toarray(),dtype = torch.float32 ).cuda()\n",
        "  Y_batch = torch.as_tensor(label_batch, dtype=torch.int64).cuda()\n",
        "  return X_batch, Y_batch\n",
        "\n",
        "\n",
        "def evaluate(X, Y, mod, vect, get_batch_func, is_test, batch_size = BATCH_SIZE):\n",
        "  with torch.no_grad():\n",
        "    accuracy = 0\n",
        "    predictions = np.zeros(int(len(X)/batch_size) * batch_size)\n",
        "    labels = Y[:int(len(X)/batch_size) * batch_size]\n",
        "    if is_test:\n",
        "        input, targets = get_batch_func(X, Y, batch_size, 0, vect)\n",
        "        out = mod(input)\n",
        "        preds = torch.argmax(out, dim = 1)\n",
        "        for k in range(100):\n",
        "          if preds[k] != targets[k]:\n",
        "            print(f'review: {X[k]}')\n",
        "            print(f'predicted label: {preds[k] + 1}')\n",
        "            print(f'real label: {targets[k] + 1}')\n",
        "            print(\"\")"
      ],
      "execution_count": 10,
      "outputs": []
    },
    {
      "cell_type": "markdown",
      "metadata": {
        "id": "-ZrT9eDoFcAt"
      },
      "source": [
        "##BOW - uni"
      ]
    },
    {
      "cell_type": "code",
      "metadata": {
        "colab": {
          "base_uri": "https://localhost:8080/"
        },
        "id": "IpG7rcq3KJL3",
        "outputId": "ba32976c-5e7a-463f-c7dd-49068cee0418"
      },
      "source": [
        "PATH = '/content/drive/MyDrive/Colab Notebooks/BOWNet_Unigram_new'\n",
        "\n",
        "INPUT_SIZE = len(vocab_unigram)\n",
        "device = torch.device(\"cuda:0\")\n",
        "criterion = nn.CrossEntropyLoss()\n",
        "model = BOWNet(INPUT_SIZE)\n",
        "model = model.to(device)\n",
        "model.load_state_dict(torch.load(PATH))\n",
        "model.eval()\n",
        "evaluate(X_test, Y_test, model, vectorizer,  get_next_batch, True, batch_size = BATCH_SIZE)"
      ],
      "execution_count": 11,
      "outputs": [
        {
          "output_type": "stream",
          "text": [
            "review: best cartoon series ever done favorite super hero watched ones shame last long accurate description comic book spider man neither cartoons movies matter really go back early days peter parker would early 60 see would like took place early 21st century serious tone comics movies aimed young children either\n",
            "predicted label: 3\n",
            "real label: 4\n",
            "\n",
            "review: film : 5 stars wonderful warm witty simply enjoyable movie love dvd : 1 star bought dvd without reading reviews also bought talk town day date columbia release columbia past done astounding work restoring remastering old films happened one night classics collection nothing short amazing transfer apparently agenda changed : content simply release anything long tout high definition remaster thus tricking customers thinking money time actually spent striking new print talk town look sound absolutely horrible vhs version film less grain fewer sound defects hissing popping abound fact transfer akin quality one often see network television absolute disaster levels virtually unwatchable avoid costs columbia treats customers film right proper dvd release even paramount catalogue releases columbia get program\n",
            "predicted label: 1\n",
            "real label: 2\n",
            "\n",
            "review: watched movie read various music newsgroups soundtrack various pop artists sheryl crow tom waits justin timberlake n sync name covers def leopard classic tune armageddon simply true sat movie regardless hoping musical interpretations would appear perhaps climax abandon hope bruce willis character fashions makeshift time machine back future eat heart return time armageddon could stopped heart raced going go back 80s hear def leppard time machine brought well ruin say def leppard bruce willis subtle nod another famous bruce climactic closing battle let say vicious spinning side kick brilliant emotional tribute\n",
            "predicted label: 4\n",
            "real label: 1\n",
            "\n",
            "review: sigh family guy used favorite show seasons 1 4 dvd jewels seasons trasure forever missed eps tv bought even though half season watching season noticed : 1 chicken fights first 5 episodes seasons combined need increase amout chicken fights like 5 episodes one disc calling full season 2 point show show title changed show brian stewie seriously half episodes set stewie brian alone could tell interesed characters 3 every episode show keeps getting repetitive found pretty depressing favorite show turned simpsons second rate simpsons always second rate simpsons 4 jokes keep getting forced almost jokes refrence pop culture flashback parody famous people popculture could swear show becoming cash time stopped show short series needs stop crap really makes sad family guy lover typing review\n",
            "predicted label: 3\n",
            "real label: 1\n",
            "\n",
            "review: okay dragged long\n",
            "predicted label: 3\n",
            "real label: 2\n",
            "\n",
            "review: good movie kids loved\n",
            "predicted label: 4\n",
            "real label: 5\n",
            "\n",
            "review: time lot say evaluating well movie tells story artistic factors well written movie defies categories three factors solid make sense someone already know lot 2008 housing market crash listened closely whole movie come wiser ways really entertaining brad pitt urging people grow vegetables worried world economy crashing steve carell adding comedy neurotic angry characterization christian bale playing antisocial guy listens death metal music ryan gosling playing opportunist characters separate stories based real people foresaw financial crisis tried prepare sometimes tried prepare others quirky style director adam mckay brings makes memorable satire however goal make understandable audiences know alone feeling confused fact left wondering whether trying show confusing financial crisis trying make understandable people also displeased excessive profanity many people give second thought makes movie unpleasant experience especially least wolf wall street read set record profanity\n",
            "predicted label: 3\n",
            "real label: 2\n",
            "\n",
            "review: funny\n",
            "predicted label: 4\n",
            "real label: 3\n",
            "\n",
            "review: dated cute story line\n",
            "predicted label: 3\n",
            "real label: 4\n",
            "\n",
            "review: funny revealing\n",
            "predicted label: 4\n",
            "real label: 3\n",
            "\n",
            "review: cool\n",
            "predicted label: 5\n",
            "real label: 3\n",
            "\n",
            "review: classic japanese tale born truth endlessly fascinating collected several different versions story different directors although must admit favorite version 1962 chushingura loyal 47 retainers often called gone wind japan scope color really pull version may harbor subtle motivational elements compelling way\n",
            "predicted label: 5\n",
            "real label: 4\n",
            "\n",
            "review: movie interesting good story line little mystery kept tuned movie\n",
            "predicted label: 4\n",
            "real label: 3\n",
            "\n",
            "review: poor hd video birds really best videos colombia budget think widely used low quality digital zoom image\n",
            "predicted label: 2\n",
            "real label: 3\n",
            "\n",
            "review: funny\n",
            "predicted label: 4\n",
            "real label: 5\n",
            "\n",
            "review: great newbies far cardio goes cardio fun workout long watch denise cardio great change pace light days adding jumping jacks chapters walk times definately helps get heart rate sculpting leaves desired potential gotten much better results twice reversing sides second time get even workout sides informative form segment one liked fact puts stretch segments workouts wish one would actually give time streches couple ignore repition hit pause hold cases give different ways stretch nice older workouts better\n",
            "predicted label: 4\n",
            "real label: 3\n",
            "\n",
            "review: skip disc\n",
            "predicted label: 1\n",
            "real label: 2\n",
            "\n",
            "review: someone owns 15 firm dvds decided give one try since looking shorter workouts busy days usually love emily instructor whatever reason cue well workout well practiced familiar firm found bit lost majority workout also name workout emily introduces talks beginning video titled power half hour lunchtime something going give one tries see pick moves writing completely\n",
            "predicted label: 2\n",
            "real label: 3\n",
            "\n",
            "review: good movie scene action fans know chuck flying kick windshield one watch one\n",
            "predicted label: 4\n",
            "real label: 5\n",
            "\n",
            "review: plot movie psychopathic say least much profanity bad may better movie\n",
            "predicted label: 1\n",
            "real label: 2\n",
            "\n",
            "review: started barre workouts 10 months ago wanted lean thighs legs strong muscular years beachbody dvd programs like 21 day fix extreme master hammer chisel 22 hard core p90 body beast started pure barre dvds got amazing results found workouts challenging heard sadie sirius xm radio talk barre 3 interested change pure barre ordered gave try thought maybe dvd weak tried dvd : standing slim ballet fit studio shape ballet boot camp burner concluded barre 3 workouts beginners shape want light workout dvd challenging spots never finished feeling like completed great workout actually added another workout afterwards rework muscles never really engaged long heart rate never got stay long movements exhaust muscles working best part workouts using ball lower back ab work brilliant idea take pressure lower back really engage abs felt like workouts challenging going back pure barre intensity much higher effective pure barre motto lift tone burn true never disappoints pure barre make cross fitter sweat one even come remotely close sweating\n",
            "predicted label: 4\n",
            "real label: 2\n",
            "\n",
            "review: enjoyable series boris karloff understand series never broadcast glad amazon prime allowed see\n",
            "predicted label: 4\n",
            "real label: 3\n",
            "\n",
            "review: although cover country title lessons ballroom style dissapointed cha cha cowboy cha cha\n",
            "predicted label: 4\n",
            "real label: 2\n",
            "\n",
            "review: mention blockbuster video parts dragged\n",
            "predicted label: 2\n",
            "real label: 3\n",
            "\n",
            "review: received less time quoted first time buyer used dvd arrived good shape advertised good value money would buy seller\n",
            "predicted label: 5\n",
            "real label: 4\n",
            "\n",
            "review: big fan big fat greek wedding ond nia vardalos expecting something similar however disappointed badly acted predictable comedy particularly funny even greek guy doesnt look hot movie picture cover dvd box bother seeing movie\n",
            "predicted label: 2\n",
            "real label: 1\n",
            "\n",
            "review: version hold candle original julianne hough totally annoying turned 40 minutes\n",
            "predicted label: 2\n",
            "real label: 1\n",
            "\n",
            "review: lot chases shooting seemed story lost\n",
            "predicted label: 2\n",
            "real label: 3\n",
            "\n",
            "review: lover horror movies movie able hold interest even finish rental sorry mr cusack big fan movie\n",
            "predicted label: 2\n",
            "real label: 1\n",
            "\n",
            "review: seen several times enjoyed one wish movies like one\n",
            "predicted label: 4\n",
            "real label: 5\n",
            "\n",
            "review: great movies\n",
            "predicted label: 5\n",
            "real label: 1\n",
            "\n",
            "review: excelent\n",
            "predicted label: 5\n",
            "real label: 1\n",
            "\n",
            "review: expect bunch zombie action type movie basically backstory relationship characters played matthew fox jeff donovan two reason watched movie begin ; liked matthew fox marshall lost streamed last year bit behind times jeff donovan home town surprised either agreed take respective roles script gave little work visual effects poor best : snow looked like animated movie\n",
            "predicted label: 3\n",
            "real label: 2\n",
            "\n",
            "review: likes expecting nice sci fi fighting movie lot good stuff turned mushy tale one rutger hauer killed friend played mark dacoscos brought back life scientists kill nemesis sort like crow hauer killed brought back life avenge death theres nudity one\n",
            "predicted label: 4\n",
            "real label: 2\n",
            "\n",
            "review: fair fan emily bronte version wuthering heights may worst one ever seen hoping like juliette binoche\n",
            "predicted label: 2\n",
            "real label: 1\n",
            "\n",
            "review: want watch sad movie make miss dad things fine pretty much whole movie\n",
            "predicted label: 5\n",
            "real label: 3\n",
            "\n",
            "review: still classic well made movie 12 year old commented old movies story special effects likes thinks better movie watching experience felt old wrong problem special effects trumping story bizarre example egregious paternalistic sexism comment little brenda really like 80s guess film tropes least cf working girl overall still good film holds well family watching movies based premise original good enough start franchise probably really good film generally true rest franchise theory also watched highlander recently also far better movie sequels watch sequels originals made hollywood powers want make bad sequels : would recommend way choose films\n",
            "predicted label: 3\n",
            "real label: 4\n",
            "\n"
          ],
          "name": "stdout"
        }
      ]
    },
    {
      "cell_type": "markdown",
      "metadata": {
        "id": "PSrZu0d9lF2r"
      },
      "source": [
        "##BOW - bi"
      ]
    },
    {
      "cell_type": "code",
      "metadata": {
        "colab": {
          "base_uri": "https://localhost:8080/"
        },
        "id": "4qxUeQ46kkKR",
        "outputId": "5eba5398-07df-494d-fe0b-0e8efca89769"
      },
      "source": [
        "PATH = '/content/drive/MyDrive/Colab Notebooks/BOWNetBI_new'\n",
        "\n",
        "INPUT_SIZE = len(vocab_bigram)\n",
        "device = torch.device(\"cuda:0\")\n",
        "criterion = nn.CrossEntropyLoss()\n",
        "model = BOWNet(INPUT_SIZE)\n",
        "model = model.to(device)\n",
        "model.load_state_dict(torch.load(PATH))\n",
        "model.eval()\n",
        "evaluate(X_test, Y_test, model, vectorizer,  get_next_batch, True, batch_size = BATCH_SIZE)"
      ],
      "execution_count": 14,
      "outputs": [
        {
          "output_type": "stream",
          "text": [
            "review: based true story wrongful conviction imprisonment chicago man freed eleven years combined efforts mother local newspaper man\n",
            "predicted label: 5\n",
            "real label: 4\n",
            "\n",
            "review: gave rocky horror picture show second chance still liked much like writing movie reviews know big deal movie people watch boring fall hype anymore\n",
            "predicted label: 1\n",
            "real label: 2\n",
            "\n",
            "review: film : 5 stars wonderful warm witty simply enjoyable movie love dvd : 1 star bought dvd without reading reviews also bought talk town day date columbia release columbia past done astounding work restoring remastering old films happened one night classics collection nothing short amazing transfer apparently agenda changed : content simply release anything long tout high definition remaster thus tricking customers thinking money time actually spent striking new print talk town look sound absolutely horrible vhs version film less grain fewer sound defects hissing popping abound fact transfer akin quality one often see network television absolute disaster levels virtually unwatchable avoid costs columbia treats customers film right proper dvd release even paramount catalogue releases columbia get program\n",
            "predicted label: 1\n",
            "real label: 2\n",
            "\n",
            "review: bottom line : plot speak dazed confused lives dies charm affability characters ; terribly good film largely enjoyable features nice comic moments\n",
            "predicted label: 4\n",
            "real label: 3\n",
            "\n",
            "review: watched movie read various music newsgroups soundtrack various pop artists sheryl crow tom waits justin timberlake n sync name covers def leopard classic tune armageddon simply true sat movie regardless hoping musical interpretations would appear perhaps climax abandon hope bruce willis character fashions makeshift time machine back future eat heart return time armageddon could stopped heart raced going go back 80s hear def leppard time machine brought well ruin say def leppard bruce willis subtle nod another famous bruce climactic closing battle let say vicious spinning side kick brilliant emotional tribute\n",
            "predicted label: 4\n",
            "real label: 1\n",
            "\n",
            "review: sigh family guy used favorite show seasons 1 4 dvd jewels seasons trasure forever missed eps tv bought even though half season watching season noticed : 1 chicken fights first 5 episodes seasons combined need increase amout chicken fights like 5 episodes one disc calling full season 2 point show show title changed show brian stewie seriously half episodes set stewie brian alone could tell interesed characters 3 every episode show keeps getting repetitive found pretty depressing favorite show turned simpsons second rate simpsons always second rate simpsons 4 jokes keep getting forced almost jokes refrence pop culture flashback parody famous people popculture could swear show becoming cash time stopped show short series needs stop crap really makes sad family guy lover typing review\n",
            "predicted label: 2\n",
            "real label: 1\n",
            "\n",
            "review: okay dragged long\n",
            "predicted label: 3\n",
            "real label: 2\n",
            "\n",
            "review: 32 rip great movie buy wait tcm free movie worth 32 believe list price\n",
            "predicted label: 5\n",
            "real label: 1\n",
            "\n",
            "review: good movie kids loved\n",
            "predicted label: 4\n",
            "real label: 5\n",
            "\n",
            "review: funny\n",
            "predicted label: 4\n",
            "real label: 3\n",
            "\n",
            "review: read book watched movie kids loved follows book closely differences big deal\n",
            "predicted label: 4\n",
            "real label: 5\n",
            "\n",
            "review: dated cute story line\n",
            "predicted label: 3\n",
            "real label: 4\n",
            "\n",
            "review: funny revealing\n",
            "predicted label: 4\n",
            "real label: 3\n",
            "\n",
            "review: cool\n",
            "predicted label: 5\n",
            "real label: 3\n",
            "\n",
            "review: classic japanese tale born truth endlessly fascinating collected several different versions story different directors although must admit favorite version 1962 chushingura loyal 47 retainers often called gone wind japan scope color really pull version may harbor subtle motivational elements compelling way\n",
            "predicted label: 5\n",
            "real label: 4\n",
            "\n",
            "review: movie interesting good story line little mystery kept tuned movie\n",
            "predicted label: 4\n",
            "real label: 3\n",
            "\n",
            "review: poor hd video birds really best videos colombia budget think widely used low quality digital zoom image\n",
            "predicted label: 2\n",
            "real label: 3\n",
            "\n",
            "review: funny\n",
            "predicted label: 4\n",
            "real label: 5\n",
            "\n",
            "review: great newbies far cardio goes cardio fun workout long watch denise cardio great change pace light days adding jumping jacks chapters walk times definately helps get heart rate sculpting leaves desired potential gotten much better results twice reversing sides second time get even workout sides informative form segment one liked fact puts stretch segments workouts wish one would actually give time streches couple ignore repition hit pause hold cases give different ways stretch nice older workouts better\n",
            "predicted label: 4\n",
            "real label: 3\n",
            "\n",
            "review: like giant robots\n",
            "predicted label: 1\n",
            "real label: 4\n",
            "\n",
            "review: skip disc\n",
            "predicted label: 1\n",
            "real label: 2\n",
            "\n",
            "review: someone owns 15 firm dvds decided give one try since looking shorter workouts busy days usually love emily instructor whatever reason cue well workout well practiced familiar firm found bit lost majority workout also name workout emily introduces talks beginning video titled power half hour lunchtime something going give one tries see pick moves writing completely\n",
            "predicted label: 2\n",
            "real label: 3\n",
            "\n",
            "review: good movie scene action fans know chuck flying kick windshield one watch one\n",
            "predicted label: 4\n",
            "real label: 5\n",
            "\n",
            "review: plot movie psychopathic say least much profanity bad may better movie\n",
            "predicted label: 1\n",
            "real label: 2\n",
            "\n",
            "review: started barre workouts 10 months ago wanted lean thighs legs strong muscular years beachbody dvd programs like 21 day fix extreme master hammer chisel 22 hard core p90 body beast started pure barre dvds got amazing results found workouts challenging heard sadie sirius xm radio talk barre 3 interested change pure barre ordered gave try thought maybe dvd weak tried dvd : standing slim ballet fit studio shape ballet boot camp burner concluded barre 3 workouts beginners shape want light workout dvd challenging spots never finished feeling like completed great workout actually added another workout afterwards rework muscles never really engaged long heart rate never got stay long movements exhaust muscles working best part workouts using ball lower back ab work brilliant idea take pressure lower back really engage abs felt like workouts challenging going back pure barre intensity much higher effective pure barre motto lift tone burn true never disappoints pure barre make cross fitter sweat one even come remotely close sweating\n",
            "predicted label: 3\n",
            "real label: 2\n",
            "\n",
            "review: enjoyable series boris karloff understand series never broadcast glad amazon prime allowed see\n",
            "predicted label: 4\n",
            "real label: 3\n",
            "\n",
            "review: although cover country title lessons ballroom style dissapointed cha cha cowboy cha cha\n",
            "predicted label: 3\n",
            "real label: 2\n",
            "\n",
            "review: mention blockbuster video parts dragged\n",
            "predicted label: 2\n",
            "real label: 3\n",
            "\n",
            "review: received less time quoted first time buyer used dvd arrived good shape advertised good value money would buy seller\n",
            "predicted label: 5\n",
            "real label: 4\n",
            "\n",
            "review: really enjoy doc martin seasons 1 5 season 6 must change writers negative attitude doc martin towards people really unrealistic painful watch characters endearing great watch doc wife odd\n",
            "predicted label: 1\n",
            "real label: 2\n",
            "\n",
            "review: big fan big fat greek wedding ond nia vardalos expecting something similar however disappointed badly acted predictable comedy particularly funny even greek guy doesnt look hot movie picture cover dvd box bother seeing movie\n",
            "predicted label: 2\n",
            "real label: 1\n",
            "\n",
            "review: cleopatra infamous possably expensive movie ever made nevertheless lumbering white elephant film poorly written dramatically slack indifferently acted hour half long made tolerable spectacle excess makes dvd special film sparkling widescreen transfer many extras shed light historic fiasco excellent making feature far interesting film worth price dvd\n",
            "predicted label: 3\n",
            "real label: 4\n",
            "\n",
            "review: version hold candle original julianne hough totally annoying turned 40 minutes\n",
            "predicted label: 2\n",
            "real label: 1\n",
            "\n",
            "review: lot chases shooting seemed story lost\n",
            "predicted label: 2\n",
            "real label: 3\n",
            "\n",
            "review: lover horror movies movie able hold interest even finish rental sorry mr cusack big fan movie\n",
            "predicted label: 2\n",
            "real label: 1\n",
            "\n",
            "review: day night aged quite well truffaut films since feels like homage bygone era partly influenced many subsequent portrayals goes behind scenes making film partly filmmakers wanted make homage older style filmmaking tom di cillo living oblivion example american indie version day night cynical even funny nearly complex profound day night almost wants tragedy fact film gets finished end lends film comic dimension clear truffaut knows life never neatly packaged fact central theme film : life unpredictable often tragic cinema makes magic tragedy worth sacrifice made acting real compelling especially recall actors play essentially two roles : stage role character film seamlessly moves scenes shot film within film scenes shot filming process lives actors crew enjoy fact truffaut included director film film also directing ; also enjoyed great deal glimpse seems process working actors improvising response demands situations complaint fairly heavy handed elements film belie truffaut otherwise light subtle touch moments film hear character thinking voiceover seemed somewhat sporadic inconsistent rather result coherent approach truffaut playing director falls asleep hears voices usually dreams dreams always little boy walking street black white dreams fit clearly lightly film similar sequences fellini 8 1 2 film film obviously comparing certain points though seems boy dream must director clear dreams revealed : someone early age fascinated film possibly felt guilty stealing orson welles sure needed three separate dream sequences convey seemed already clear another moment director opens package books books several great western directors including orson welles fellini cocteau even seemed bit heavy handed point make comparison suggest feeling inadequacy whole though spite reservations may peculiar excellent film belongs especially among great films film : 8 1 2 stardust memories living oblivion beware holy whore state main others highly recommended lovers film\n",
            "predicted label: 5\n",
            "real label: 4\n",
            "\n",
            "review: professor kingsley way across street gets run red cannon mobster mobsters chasing transported ambulance prof kingsley friend dr sovac kingsley kind concussion live hours cannon paralyzed sovac decides brain transplant two apparenly one hospital wiser save kingsley physical body anyway later sovac says partial brain transplant needless say red personality comes kingsley slicks fluffy hair back head hands automatically sticks becomes shiny reason sovac operation get red 500 000 hidden could open lab whatever wants perhaps brain transplantations end say winners film basically pretty silly\n",
            "predicted label: 4\n",
            "real label: 2\n",
            "\n",
            "review: great movies\n",
            "predicted label: 5\n",
            "real label: 1\n",
            "\n",
            "review: two things worth noticing movie one writing leslie dixon makes cat cat love affair simmer spite gross improbability absolute dominance rene russo creature gorgeous one amazed also speak course speaks energy otherwise fairly silly film melts screen people insist lead lends interest sexual tension wrong lynn hoffman author beautiful < data hook= product link linked class= link normal href= bang bang novel dp 1601640005 ref=cm_cr_arp_d_rvw_txt ie=utf8 > bang bang : novel < > < data hook= product link linked class= link normal href= new short course wine dp 0131186361 ref=cm_cr_arp_d_rvw_txt ie=utf8 > new short course wine < >\n",
            "predicted label: 3\n",
            "real label: 4\n",
            "\n",
            "review: excelent\n",
            "predicted label: 5\n",
            "real label: 1\n",
            "\n",
            "review: likes expecting nice sci fi fighting movie lot good stuff turned mushy tale one rutger hauer killed friend played mark dacoscos brought back life scientists kill nemesis sort like crow hauer killed brought back life avenge death theres nudity one\n",
            "predicted label: 4\n",
            "real label: 2\n",
            "\n",
            "review: fair fan emily bronte version wuthering heights may worst one ever seen hoping like juliette binoche\n",
            "predicted label: 2\n",
            "real label: 1\n",
            "\n",
            "review: still classic well made movie 12 year old commented old movies story special effects likes thinks better movie watching experience felt old wrong problem special effects trumping story bizarre example egregious paternalistic sexism comment little brenda really like 80s guess film tropes least cf working girl overall still good film holds well family watching movies based premise original good enough start franchise probably really good film generally true rest franchise theory also watched highlander recently also far better movie sequels watch sequels originals made hollywood powers want make bad sequels : would recommend way choose films\n",
            "predicted label: 3\n",
            "real label: 4\n",
            "\n"
          ],
          "name": "stdout"
        }
      ]
    },
    {
      "cell_type": "code",
      "metadata": {
        "colab": {
          "base_uri": "https://localhost:8080/"
        },
        "id": "buHLuOD6QQQV",
        "outputId": "533db6ee-ad4f-42f5-89cf-7f41d7ee364e"
      },
      "source": [
        "def get_label_of_review(review, vect, mod):\n",
        "  X_transformed = vectorizer.fit_transform([review])\n",
        "  X_transformed = torch.as_tensor(X_transformed.toarray(),dtype = torch.float32 ).cuda()\n",
        "  out = model(X_transformed)\n",
        "  pred = torch.argmax(out, dim = 1)\n",
        "  return pred.item()+1\n",
        "\n",
        "uni_mistake = \"well acted movie awful time history\"\n",
        "\n",
        "get_label_of_review(uni_mistake, vectorizer, model)"
      ],
      "execution_count": null,
      "outputs": [
        {
          "output_type": "execute_result",
          "data": {
            "text/plain": [
              "4"
            ]
          },
          "metadata": {
            "tags": []
          },
          "execution_count": 24
        }
      ]
    },
    {
      "cell_type": "markdown",
      "metadata": {
        "id": "1tltRUwfb7Kp"
      },
      "source": [
        "## BLSTM - Fine Tuned"
      ]
    },
    {
      "cell_type": "code",
      "metadata": {
        "id": "grdCU8qMsAcQ"
      },
      "source": [
        "from sklearn.metrics import confusion_matrix, ConfusionMatrixDisplay\n",
        "from sklearn.metrics import f1_score\n",
        "import matplotlib.pyplot as plt\n",
        "\n",
        "def translate_review(review):\n",
        "  translated_review = []\n",
        "  start_index = 0\n",
        "  while review[start_index] == 0:\n",
        "    start_index += 1\n",
        "  for i in range(start_index, len(review)):\n",
        "    translated_review.append(index2word[review[i].item()])\n",
        "  return translated_review\n",
        "\n",
        "def evaluate(X, Y, loader, mod, is_test, batch_size = BATCH_SIZE):\n",
        "  with torch.no_grad():\n",
        "    accuracy = 0\n",
        "    if is_test:\n",
        "      for i, sample in enumerate(loader):\n",
        "        if i > 4:\n",
        "          break\n",
        "        input, targets = input, targets = sample[0], sample[1]\n",
        "        out = mod(input)\n",
        "        preds = torch.argmax(out, dim = 1)\n",
        "        for k in range(len(preds)):\n",
        "          if preds[k] != targets[k]:\n",
        "            print(f'review: {translate_review(X[k + (i*batch_size)])}')\n",
        "            print(f'predicted label: {preds[k] + 1}')\n",
        "            print(f'real label: {targets[k] + 1}')\n",
        "            print(\"\")\n",
        "    \n",
        "\n"
      ],
      "execution_count": null,
      "outputs": []
    },
    {
      "cell_type": "code",
      "metadata": {
        "id": "F4yXaS4ncCi4",
        "colab": {
          "base_uri": "https://localhost:8080/"
        },
        "outputId": "3aa5bcba-ee06-43e5-95e7-2124522a2e4a"
      },
      "source": [
        "PATH = '/content/drive/MyDrive/Colab Notebooks/W2VBILSTMTUNENet'\n",
        "\n",
        "device = torch.device(\"cuda:0\")\n",
        "criterion = nn.CrossEntropyLoss()\n",
        "model = W2VBILSTMTUNENet()\n",
        "model = model.to(device)\n",
        "model.load_state_dict(torch.load(PATH))\n",
        "model.eval()\n",
        "evaluate(X_test, Y_test, test_loader, model, True, BATCH_SIZE)"
      ],
      "execution_count": null,
      "outputs": [
        {
          "output_type": "stream",
          "text": [
            "review: ['i', 'have', 'to', 'agree', 'with', 'most', 'of', 'the', 'other', 's', 'users', 'comments', 'it', 'was', 'a', 'bit', 'confusing', 'and', 'it', 'helped', 'reading', 'their', 'comments', 'i', 'personally', 'as', 'you', 'can', 'see', 'from', 'what', 'i', 'usually', 'buy', 'dramas', 'cerebral', 'movies', 'was', 'kind', 'of', 'lost', 'with', 'this', 'one', 'i', 'know', 'this', 'isn', 't', 'much', 'of', 'a', 'review', 'but', 'it', 'was', 'great', 'seeing', 'a', 'very', 'young', 'tommy', 'lee', 'jones', 'i', 'know', 'this', 'doesn', 't', 'have', 'anything', 'to', 'do', 'with', 'this', 'movie', 'but', 'for', 'fantasy', 'i', 'really', 'enjoyed', 'unk', 'which', 'was', 'actually', 'a', 'children', 's', 'book', 'and', 'then', 'movie', 'the', 'actor', 'who', 'portrayed', 'unk', 'tim', 'roth', 'was', 'excellent', 'eliza', 's', 'horoscope', 'has', 'to', 'do', 'with', 'indian', 'culture', 'mysticism', 'which', 'i', 'usually', 'enjoy', 'and', 'death', 'all', 'in', 'all', 'i', 'was', 'a', 'bit', 'lost']\n",
            "predicted label: 4\n",
            "real label: 2\n",
            "\n",
            "review: ['really', 'cheese', 'y', 'but', 'it', 'passed', 'the', 'time']\n",
            "predicted label: 3\n",
            "real label: 2\n",
            "\n",
            "review: ['i', 'bought', 'with', 'spanish', 'subtitles', 'but', 'today', 'i', 'realized', 'that', 'even', 'brought', 'the', 'english', 'what', 'happened', 'this', 'is', 'the', 'firts', 'time', 'happened']\n",
            "predicted label: 1\n",
            "real label: 2\n",
            "\n",
            "review: ['x', 'rated', 'for', 'sex', 'and', 'violence', 'he', 'was', 'a', 'sicko']\n",
            "predicted label: 1\n",
            "real label: 4\n",
            "\n",
            "review: ['very', 'dark', 'too', 'much', 'information']\n",
            "predicted label: 2\n",
            "real label: 1\n",
            "\n",
            "review: ['imagine', 'if', 'quentin', 'tarantino', 'decided', 'to', 'remake', 'the', 'unk', 'comedy', 'walk', 'like', 'a', 'man', 'as', 'a', 'modern', 'grindhouse', 'thriller', ';', 'you', 'd', 'basically', 'have', 'the', 'recipe', 'for', 'the', 'woman', 'one', 'of', 'the', 'best', 'horror', 'films', 'i', 'saw', 'in', 'unk', 'the', 'woman', 'centers', 'around', 'a', 'lawyer', 'named', 'christopher', 'unk', 'who', 'discovers', 'a', 'feral', 'woman', 'living', 'in', 'the', 'woods', 'captures', 'her', 'and', 'brings', 'her', 'home', 'to', 'his', 'family', 'in', 'order', 'to', 'civilize', 'her', 'for', 'modern', 'society', 'of', 'course', 'the', 'woman', 'turns', 'out', 'to', 'be', 'more', 'than', 'christopher', 'bargained', 'for', 'and', 'before', 'long', 'the', 'family', 'is', 'forced', 'to', 'defend', 'themselves', 'against', 'an', 'unfamiliar', 'enemy', 'with', 'the', 'upper', 'hand', 'despite', 'its', 'familiar', 'explorations', 'of', 'gender', 'and', 'human', 'nature', 'the', 'woman', 'is', 'an', 'ambitious', 'unabashedly', 'strange', 'and', 'ultimately', 'effective', 'thriller', 'that', 'builds', 'tension', 'toward', 'a', 'brutal', 'no', 'holds', 'barred', 'climax']\n",
            "predicted label: 4\n",
            "real label: 3\n",
            "\n",
            "review: ['still', 'a', 'very', 'great', 'war', 'movie', 'after', 'all', 'these', 'years']\n",
            "predicted label: 5\n",
            "real label: 4\n",
            "\n",
            "review: ['somewhat', 'disjointed', 'plot']\n",
            "predicted label: 3\n",
            "real label: 2\n",
            "\n",
            "review: ['nothing', 'to', 'get', 'worked', 'up', 'about', 'funny', 'in', 'places', 'but', 'not', 'enough', 'to', 'recommend', 'it', 'mindless', 'entertainment', 'the', 'kind', 'of', 'movie', 'to', 'have', 'on', 'while', 'doing', 'something', 'else', 'if', 'you', 'know', 'what', 'i', 'mean']\n",
            "predicted label: 2\n",
            "real label: 3\n",
            "\n",
            "review: ['i', 'got', 'this', 'for', 'my', 'mom', 'who', 'cries', 'every', 'time', 'she', 'watches', 'it', 'it', 's', 'not', 'the', 'most', 'pandering', 'crap', 'i', 'have', 'ever', 'seen', 'if', 'that', 'is', 'an', 'endorsement', 'sandra', 'bullock', 'is', 'good', 'in', 'it']\n",
            "predicted label: 4\n",
            "real label: 3\n",
            "\n",
            "review: ['somewhat', 'too', 'minimal', 'in', 'plot', 'to', 'keep', 'my', 'interest']\n",
            "predicted label: 3\n",
            "real label: 2\n",
            "\n",
            "review: ['halle', 'very', 'easy', 'on', 'the', 'eyes']\n",
            "predicted label: 3\n",
            "real label: 2\n",
            "\n",
            "review: ['this', 'movie', 'is', 'a', 'fun', 'movie', 'that', 'has', 'been', 'able', 'to', 'stand', 'the', 'test', 'of', 'time', 'and', 'has', 'been', 'enjoyed', 'through', 'three', 'generations', 'of', 'my', 'family']\n",
            "predicted label: 5\n",
            "real label: 4\n",
            "\n",
            "review: ['i', 'love', 'cirque', 'de', 'soleil', 'this', 'is', 'a', 'movie', 'interpretation', 'of', 'the', 'cirque', 'performance', 'alegria', 'it', 'was', 'interesting', 'but', 'more', 'of', 'a', 'mystical', 'movie', 'than', 'a', 'cirque', 'performance', 'still', 'enjoyable']\n",
            "predicted label: 4\n",
            "real label: 3\n",
            "\n",
            "review: ['first', 'of', 'all', 'i', 'love', 'amazon', 'i', 'wasn', 't', 'happy', 'with', 'this', 'set', 'and', 'they', 'issued', 'a', 'label', 'immediate', 'to', 'return', 'free', 'with', 'no', 'questions', 'asked', 'i', 'feel', 'like', 'they', 'should', 'have', 'boldly', 'said', 'was', 'the', 'uk', 'version', 'with', 'the', 'philosophers', 'stone', 'instead', 'of', 'sorcerer', 's', 'stone', 'i', 'was', 'really', 'disappointed', 'when', 'i', 'got', 'it', ':']\n",
            "predicted label: 1\n",
            "real label: 2\n",
            "\n",
            "review: ['no', 'one', 'puts', 'on', 'a', 'scary', 'or', 'crazy', 'face', 'like', 'the', 'revered', 'ms', 'bette', 'davis', 'and', 'she', 'doesn', 't', 'disappoint', 'in', 'this', 'movie', 'highly', 'recommend']\n",
            "predicted label: 5\n",
            "real label: 4\n",
            "\n",
            "review: ['i', 'haven', 't', 'seen', 'this', 'movie', 'yet', 'because', 'i', 'haven', 't', 'received', 'what', 'i', 'ordered', 'the', 'description', 'clearly', 'said', 'bluray', 'dvd', 'combo', 'with', 'digital', 'copy', 'and', 'bd', 'live', 'what', 'did', 'i', 'receive', 'a', 'bluray', 'disk', 'the', 'end', 'where', 'is', 'my', 'dvd', 'version', 'where', 'is', 'my', 'digital', 'copy', 'access', 'code', 'why', 'is', 'amazon', 'stealing', 'my', 'money', 'and', 'thinks', 'it', 'is', 'ok', 'well', 'it', 's', 'not', 'in', 'my', 'orders', 'page', 'it', 'says', 'the', 'bluray', 'combo', 'is', 'what', 'i', 'purchased', 'now', 'this', 'page', 'has', 'changed', 'to', 'what', 'i', 'received', 'a', 'bluray', 'disk', 'i', 'don', 't', 'care', 'about', 'bd', 'live', 'options', 'i', 'want', 'a', 'dvd', 'to', 'watch', 'in', 'my', 'laptop', 'according', 'to', 'other', 'review', 'the', 'digital', 'copy', 'only', 'works', 'on', 'media', 'players', 'i', 'do', 'not', 'own', 'so', 'i', 'm', 'not', 'too', 'upset', 'over', 'that', 'i', 'just', 'want', 'what', 'i', 'clearly', 'ordered', 'is', 'that', 'too', 'much', 'to', 'ask', 'that', 's', 'why', 'i', 'purchase', 'directly', 'from', 'amazon', 'i', 'want', 'to', 'avoid', 'receiving', 'wrong', 'products', 'not', 'purposefully', 'get', 'a', 'random', 'movie', 'i', 'have', 'a', 'feeling', 'that', 'because', 'this', 'was', 'available', 'for', 'pre', 'order', 'for', 'a', 'few', 'weeks', 'amazon', 'ran', 'out', 'and', 'just', 'shipped', 'this', 'version', 'i', 'still', 'want', 'a', 'dvd', 'version', 'as', 'i', 'paid', 'for', 'one', 'update']\n",
            "predicted label: 1\n",
            "real label: 3\n",
            "\n",
            "review: ['we', 'because', 'our', 'knowledge', 'of', 'spanish', 'language', 'is', 'not', 'so', 'good', 'we', 'would', 'like', 'to', 'have', 'subtitles', 'otherwise', 'we', 'are', 'happy', 'with', 'the', 'product']\n",
            "predicted label: 3\n",
            "real label: 4\n",
            "\n",
            "review: ['quick', 'shipping', 'and', 'package', 'arrived', 'on', 'time', 'and', 'undamaged', 'bought', 'this', 'as', 'a', 'gift', 'i', 'guess', 'the', 'wife', 'has', 'enjoyed', 'it', 'already', 'not', 'something', 'i', 'would', 'sit', 'and', 'watch', 'so', 'i', 'don', 't', 'know']\n",
            "predicted label: 5\n",
            "real label: 3\n",
            "\n",
            "review: ['i', 'have', 'this', 'tv', 'drama', 'everyone', 'should', 'know', 'that', 'no', 'one', 'is', 'good', 'or', 'decent', 'in', 'war', 'especially', 'the', 'enemy', 'too', 'bad', 'that', 'the', 'sex', 'appetite', 'of', 'our', 'movie', 'industry', 'is', 'overwhelming', 'and', 'prevents', 'meaningful', 'dialog', 'and', 'storytelling']\n",
            "predicted label: 2\n",
            "real label: 4\n",
            "\n",
            "review: ['this', 'film', 'was', 'entertaining', 'it', 'was', 'nice', 'to', 'see', 'a', 'unk', 'in', 'action', 'sustainable', 'action', 'shi', 'doesn', 't', 'try', 'to', 'kill', 'everyone', 'and', 'eventually', 'works', 'with', 'law', 'enforcement', 'some', 'of', 'the', 'dialogue', 'is', 'cute', 'see', 'more', 'at', 'unk', 'dot', 'weebly', 'dot', 'com']\n",
            "predicted label: 3\n",
            "real label: 4\n",
            "\n",
            "review: ['i', 'am', 'absolutely', 'stunned', 'at', 'the', 'one', 'unk', 'of', 'the', 'reviews', 'here', 'as', 'of', 'my', 'writing', 'this', 'all', 'unk', 'stars', 'except', 'for', 'one', 'unk', 'perhaps', 'you', 'fell', 'in', 'love', 'with', 'it', 'as', 'children', 'and', 'further', 'romanticize', 'the', 'memory', 'of', 'it', 'because', 'you', 'haven', 't', 'seen', 'it', 'since', 'then', 'such', 'may', 'be', 'deserved', 'for', 'some', 'things', 'but', 'least', 'of', 'all', 'this', 'it', 's', 'as', 'if', 'you', 've', 'all', 'been', 'brainwashed', 'now', 'it', 'deserves', 'a', 'little', 'credit', 'considering', 'it', 'came', 'from', 'the', 'era', 'of', 'the', 'unk', 'and', 'maybe', 'all', 'the', 'stuff', 'about', 'equality', 'of', 'the', 'animals', 'may', 'have', 'been', 'an', 'allegory', 'for', 'the', 'civil', 'rights', 'movement', 'but', 'it', 'went', 'beyond', 'absurd', 'it', 'is', 'more', 'absurd', 'than', 'the', 'most', 'tongue', 'in', 'cheek', 'satire', 'the', 'south', 'park', 'guys', 'have', 'ever', 'been', 'capable', 'of', 'creating', 'and', 'it', 'doesn', 't', 'even', 'do', 'it', 'deliberately', 'first', 'of', 'all', 'let', 'me', 'get', 'this', 'straight', 'his', 'father', 'caesar', 'the', 'white', 'lion', 'king', 'believed', 'so', 'strongly', 'that', 'all', 'animals', 'should', 'be', 'free', 'and', 'live', 'happily', 'that', 'he', 'took', 'livestock', 'from', 'farms', 'oh', 'no', 'he', 'didn', 't', 'eat', 'them', 'he', 'freed', 'them', 'yes', 'you', 'heard', 'me', 'awww', 'doesn', 't', 'that', 'just', 'warm', 'the', 'cockles', 'of', 'your', 'heart', 'the', 'image', 'of', 'a']\n",
            "predicted label: 5\n",
            "real label: 1\n",
            "\n",
            "review: ['the', 'story', 'is', 'quite', 'predictable']\n",
            "predicted label: 3\n",
            "real label: 2\n",
            "\n",
            "review: ['unk', ':', 'a', 'warhammer', 'unk', 'unk', 'movie', 'is', 'certainly', 'a', 'landmark', 'in', 'the', 'quest', 'to', 'make', 'unk', 'a', 'mainstream', 'ip', 'however', 'it', 'was', 'doomed', 'to', 'receive', 'an', 'insurmountable', 'level', 'of', 'expectation', 'from', 'a', 'fan', 'base', 'of', 'people', 'that', 'have', 'had', 'over', 'unk', 'years', 'to', 'mentally', 'construct', 'their', 'ideas', 'of', 'perfect', 'unk', 'battle', 'scenes', 'that', 'they', 'would', 'have', 'in', 'a', 'movie', 'i', 'did', 'not', 'expect', 'unk', 'to', 'live', 'up', 'to', 'the', 'hype', ';', 'there', 'was', 'just', 'no', 'way', 'a', 'small', 'studio', 'like', 'codex', 'could', 'do', 'it', 'however', 'there', 'was', 'even', 'less', 'substance', 'to', 'the', 'movie', 'than', 'i', 'had', 'expected', 'the', 'animation', 's', 'low', 'quality', 'did', 'not', 'bother', 'me', 'as', 'codex', 'is', 'certainly', 'no', 'pixar', 'what', 'did', 'bother', 'me', 'was', 'the', 'utter', 'lack', 'of', 'a', 'reason', 'to', 'care', 'about', 'what', 'was', 'happening', 'the', 'space', 'marines', 'had', 'almost', 'no', 'personality', 'or', 'interesting', 'traits', 'about', 'them', 'a', 'major', 'disappointment', 'when', 'novels', 'in', 'the', 'black', 'library', 'consistently', 'generate', 'stories', 'about', 'superhuman', 'space', 'marines', 'who', 'have', 'very', 'human', 'minds', 'opinions', 'and', 'conflicts', 'on', 'the', 'topic', 'of', 'the', 'black', 'library', 'it', 's', 'no', 'secret', 'that', 'dan', 'unk', 'author', 'of', 'many', 'of', 'the', 'best', 'warhammer', 'novels', 'in', 'existence', 'could', 'have', 'done', 'so', 'much', 'more', 'in', 'creating', 'an', 'interesting']\n",
            "predicted label: 1\n",
            "real label: 2\n",
            "\n",
            "review: ['i', 'am', 'about', 'unk', 'seasons', 'in', 'and', 'its', 'nice', 'that', 'there', 'seems', 'to', 'be', 'extras', 'in', 'the', 'show', 'that', 'were', 'not', 'on', 't', 'v', 'unfortunately', 'there', 'have', 'been', 'a', 'couple', 'discs', 'that', 'have', 'either', 'skipped', 'or', 'froze', 'up', 'all', 'together', 'still', 'though', 'good', 'product', 'for', 'the', 'price']\n",
            "predicted label: 4\n",
            "real label: 3\n",
            "\n",
            "review: ['not', 's', 'zombie', 'type', 'movie', 'lover']\n",
            "predicted label: 2\n",
            "real label: 1\n",
            "\n",
            "review: ['i', 'loved', 'this', 'series', 'and', 'wanted', 'to', 'get', 'them', 'on', 'dvd', 'i', 'have', 'and', 'loved', 'the', 'dvds', 'for', 'season', 'unk', 'this', 'is', 'the', 'only', 'series', 'that', 'i', 'know', 'of', 'where', 'they', 'recorded', 'on', 'both', 'sides', 'of', 'the', 'dvd', 'the', 'a', 'side', 'works', 'on', 'the', 'first', 'two', 'disks', 'but', 'the', 'b', 'side', 'won', 't', 'play', 'if', 'you', 'decide', 'to', 'get', 'these', 'dvds', 'make', 'sure', 'that', 'you', 'get', 'them', 'from', 'someplace', 'that', 'you', 'can', 'easily', 'return', 'them', 'if', 'you', 'have', 'this', 'problem', 'i', 'received', 'mine', 'as', 'a', 'gift', 'so', 'i', 'm', 'left', 'with', 'a', 'choice', 'buy', 'season', 'unk', 'of', 'a', 'show', 'that', 'i', 'really', 'enjoyed', 'and', 'hope', 'that', 'i', 'don', 't', 'encounter', 'the', 'same', 'problem', 'or', 'give', 'up', 'if', 'i', 'was', 'simply', 'rating', 'the', 'season', 'unk', 'of', 'the', 'series', 'i', 'would', 'have', 'given', 'it', 'unk', 'stars', 'unk', 'stars', 'is', 'for', 'perfection', 'i', 'enjoyed', 'the', 'premise', 'of', 'the', 'show', 'and', 'the', 'actors', 'it', 'is', 'hard', 'to', 'decide', 'on', 'a', 'favorite', 'character', 'because', 'so', 'many', 'of', 'them', 'are', 'so', 'very', 'engaging', 'the', 'reason', 'that', 'it', 'did', 'not', 'receive', 'unk', 'stars', 'is', 'because', 'of', 'logic', 'problems', 'this', 'man', 'can', 'get', 'a', 'job', 'just', 'about', 'anywhere', 'doing', 'anything', 'without', 'having', 'background', 'check', 'done', 'i', 'know', 'there']\n",
            "predicted label: 4\n",
            "real label: 1\n",
            "\n",
            "review: ['daughter', 'loves', 'it']\n",
            "predicted label: 5\n",
            "real label: 4\n",
            "\n",
            "review: ['after', 'being', 'at', 'gettysburg', 'the', 'movie', 'was', 'better', 'understood', 'understood', 'the', 'scenery', 'and', 'movie', 'better', 'after', 'seeing', 'in', 'the', 'movie', 'scenes', 'that', 'i', 'had', 'seen', 'in', 'person', 'great', 'for', 'a', 'history', 'buff']\n",
            "predicted label: 3\n",
            "real label: 5\n",
            "\n",
            "review: ['just', 'didn', 't', 'like', 'it']\n",
            "predicted label: 1\n",
            "real label: 2\n",
            "\n",
            "review: ['i', 'love', 'david', 'lynch', 's', 'films', 'i', 'love', 'several', 'of', 'terrence', 'malick', 's', 'films', 'my', 'favorite', 'film', 'is', 'unk', ':', 'a', 'space', 'odyssey', 'so', 'i', 've', 'had', 'plenty', 'of', 'experience', 'watching', 'obscure', 'films', 'that', 'let', 'you', 'draw', 'your', 'own', 'conclusions', 'sometimes', 'i', 'like', 'that', 'and', 'i', 'give', 'shane', 'carruth', 'credit', 'for', 'being', 'original', 'and', 'saying', 'what', 'he', 'wants', 'to', 'say', 'that', 'being', 'said', 'i', 'tried', 'to', 'watch', 'this', 'film', 'twice', 'and', 'couldn', 't', 'finish', 'it', 'i', 'don', 't', 'think', 'reviews', 'for', 'this', 'film', 'will', 'matter', 'even', 'though', 'i', 'm', 'writing', 'one', 'i', 'guess', 'i', 'just', 'feel', 'the', 'need', 'to', 'get', 'this', 'out', 'of', 'my', 'system', 'you', 'just', 'have', 'to', 'watch', 'and', 'decide', 'if', 'you', 'like', 'it', 'what', 'i', 'kept', 'thinking', 'while', 'watching', 'it', 'i', 'give', 'more', 'credit', 'to', 'a', 'filmmaker', 'who', 'adapts', 'or', 'comes', 'up', 'with', 'a', 'true', 'original', 'compelling', 'plot', 'to', 'me', 'that', 'takes', 'real', 'imagination', 'as', 'much', 'as', 'i', 'love', 'lynch', 'and', 'unk', 'i', 'love', 'hitchcock', 'and', 'kubrick', 'more', 'they', 'had', 'the', 'confidence', 'to', 'tell', 'you', 'a', 'straightforward', 'gripping', 'story', 'well', 'except', 'for', 'the', 'end', 'of', 'unk', 'sometimes', 'being', 'obscure', 'is', 'just', 'an', 'easy', 'way', 'out']\n",
            "predicted label: 1\n",
            "real label: 2\n",
            "\n",
            "review: ['watched', 'it', 'for', 'half', 'hour', 'and', 'was', 'still', 'unk', 'predictable', 'storyline']\n",
            "predicted label: 2\n",
            "real label: 1\n",
            "\n",
            "review: ['thin', 'plot', 'matthew', 'did', 'a', 'pretty', 'job', 'in', 'his', 'role', 'very', 'strange', 'ending']\n",
            "predicted label: 2\n",
            "real label: 1\n",
            "\n",
            "review: ['it', 'was', 'a', 'little', 'dry', 'to', 'me', 'but', 'still', 'quite', 'interesting', 'as', 'i', 'knew', 'nothing', 'of', 'the', 'aborigines', 'except', 'dingos', 'i', 'm', 'sure', 'this', 'is', 'a', 'watered', 'down', 'version', 'of', 'the', 'true', 'story', 'but', 'i', 'found', 'it', 'interesting', 'nonetheless', 'i', 'saw', 'this', 'based', 'on', 'recommendations', 'from', 'unk', 's', 'homeschool', 'curriculum', 'we', 'use']\n",
            "predicted label: 3\n",
            "real label: 4\n",
            "\n",
            "review: ['it', 's', 'ok']\n",
            "predicted label: 3\n",
            "real label: 2\n",
            "\n",
            "review: ['the', 'basic', 'theme', 'of', 'this', 'movie', 'is', 'interesting', 'it', 'focuses', 'on', 'one', 'man', 's', 'vanity', 'a', 'lawyer', 'in', 'gainesville', 'fl', 'kevin', 'lomax', 'has', 'not', 'lost', 'a', 'case', 'at', 'the', 'beginnig', 'of', 'the', 'film', 'he', 'is', 'defending', 'a', 'math', 'teacher', 'who', 'presumably', 'sexually', 'assaulted', 'one', 'of', 'his', 'students', 'kevin', 'begins', 'this', 'case', 'with', 'a', 'clear', 'conscience', 'but', 'unk', 'the', 'teacher', 'is', 'guilty', 'at', 'a', 'crucial', 'point', 'in', 'the', 'trial', 'during', 'the', 'testimony', 'of', 'the', 'girl', 'herself', 'kevin', 'decides', 'to', 'defend', 'the', 'teacher', 'nevertheless', 'and', 'unk', 'attacks', 'the', 'young', 'girl', 'on', 'the', 'witness', 'stand', 'he', 'manages', 'to', 'create', 'a', 'reasonable', 'doubt', 'based', 'on', 'several', 'lies', 'the', 'girl', 'told', 'following', 'this', 'case', 'he', 'is', 'invited', 'to', 'help', 'a', 'big', 'firm', 'in', 'nyc', 'choose', 'a', 'jury', 'and', 'gloriously', 'wins', 'once', 'again', 'against', 'all', 'odds', 'he', 'is', 'then', 'invited', 'to', 'join', 'this', 'firm', 'at', 'first', 'this', 'looks', 'like', 'a', 'dream', 'job', 'he', 'gets', 'an', 'amazing', 'salary', 'an', 'amazingly', 'large', 'and', 'beautiful', 'new', 'apartment', 'kevin', 'has', 'all', 'he', 'needs', 'to', 'fit', 'in', 'since', 'he', 'is', 'being', 'judged', 'by', 'his', 'talent', 'but', 'his', 'wife', 'mary', 'anne', 'finds', 'herself', 'over', 'her', 'head', 'even', 'though', 'in', 'her', 'gainesville', 'life', 'she', 'is', 'a', 'confident', 'woman', 'nyc', 'proves', 'too', 'sophisticated', 'for']\n",
            "predicted label: 5\n",
            "real label: 3\n",
            "\n",
            "review: ['purrs', 'miss', 'unk', 'played', 'by', 'jacky', 'yeah', 'it', 's', 'her', 'bisset', 'as', 'she', 'tries', 'to', 'drug', 'inept', 'aspiring', 'spy', 'evelyn', 'tremble', 'aka', 'james', 'bond', 'peter', 'sellers', 'in', 'this', 'wacky', 'spy', 'spoof', 'from', 'the', 'unk', 'you', 'know', 'i', 'tried', 'to', 'watch', 'austin', 'powers', 'but', 'in', 'no', 'way', 'is', 'it', 'as', 'good', 'as', 'casino', 'royale', 'can', 'be', 'in', 'some', 'places', 'i', 'have', 'to', 'say', 'some', 'places', 'because', 'much', 'though', 'i', 'love', 'this', 'movie', 'i', 'know', 'it', 'drags', 'here', 'and', 'there', 'or', 'gets', 'a', 'bit', 'too', 'corny', 'but', 'even', 'that', 'can', 't', 'make', 'me', 'mark', 'it', 'lower', 'than', 'unk', 'stars', 'basically', 'it', 's', 'a', 'who', 's', 'who', 'of', 'hollywood', 'in', 'the', 'unk', 'all', 'jammed', 'into', 'the', 'mystery', 'of', 'who', 'is', 'killing', 'off', 'all', 'of', 'm', 's', 'secret', 'agents', 'and', 'why', 'thus', 'john', 'houston', 'm', 'must', 'journey', 'along', 'with', 'charles', 'boyer', 'william', 'holden', 'and', 'kurt', 'unk', 'to', 'visit', 'the', 'original', 'james', 'bond', 'david', 'niven', 'now', 'in', 'retirement', 'playing', 'debussy', 'and', 'tending', 'a', 'black', 'rose', 'he', 'literally', 'has', 'to', 'be', 'blasted', 'out', 'of', 'his', 'unk', 'bringing', 'the', 'remains', 'of', 'm', 'his', 'toupee', 'to', 'the', 'ancestral', 'home', 'in', 'scotland', 'ah', 'but', 'the', 'evil', 'agents', 'of', 'unk', 'have', 'already', 'infiltrated', 'the', 'castle', 'and', 'replaced', 'whoever', 'with', 'deborah']\n",
            "predicted label: 4\n",
            "real label: 5\n",
            "\n",
            "review: ['it', 'was', 'good', 'but', 'it', 'needed', 'better', 'ending']\n",
            "predicted label: 3\n",
            "real label: 4\n",
            "\n",
            "review: ['the', 'film', 'is', 'unk', 'years', 'old', 'but', 'only', 'shows', 'a', 'slight', 'sign', 'of', 'the', 'times', 'the', 'idea', 'is', 'great', 'as', 'is', 'the', 'entertainment', 'provided', 'by', 'it', 'but', 'the', 'dvd', 'is', 'nothing', 'special', 'lacking', 'any', 'feature', 'except', 'the', 'basics', 'such', 'a', 'good', 'film', 'deserved', 'a', 'better', 'cared', 'edition', 'unk', 'stars', 'for', 'the', 'movie', 'unk', 'for', 'the', 'dvd']\n",
            "predicted label: 3\n",
            "real label: 4\n",
            "\n",
            "review: ['this', 'was', 'such', 'a', 'waste', 'of', 'time', 'and', 'money', 'a', 'bunch', 'of', 'directionless', 'young', 'fools', 'trying', 'to', 'act', 'intellectual', 'there', 's', 'no', 'identity', 'just', 'a', 'thorough', 'lack', 'of', 'creativity', 'and', 'originality', 'i', 'grew', 'up', 'listening', 'to', 'hardcore', 'and', 'punk', 'music', 'and', 'those', 'shows', 'had', 'so', 'much', 'raw', 'intensity', 'and', 'energy', 'these', 'kids', 'plain', 'and', 'simple', 'sucked', 'walking', 'on', 'the', 'american', 'flag', 'to', 'get', 'into', 'their', 'freshly', 'painted', 'bus', 'really', 'i', 'd', 'go', 'to', 'a', 'show', 'of', 'theirs', 'simply', 'to', 'strangle', 'them', 'punks', 'no', 'idiots', 'definitely']\n",
            "predicted label: 1\n",
            "real label: 2\n",
            "\n",
            "review: ['entertaining']\n",
            "predicted label: 3\n",
            "real label: 4\n",
            "\n",
            "review: ['good', 'except', 'showed', 'signs', 'of', 'wear']\n",
            "predicted label: 4\n",
            "real label: 3\n",
            "\n",
            "review: ['the', 'packaging', 'is', 'well', 'thought', 'out', 'i', 'give', 'it', 'an', 'a', 'i', 'purposely', 'bought', 'this', 'set', 'because', 'of', 'the', 'music', 'cd', 'with', 'the', 'songs', 'from', 'the', 'specials', 'very', 'catchy', 'songs', 'this', 'set', 'costs', 'unk', 'unk', 'more', 'just', 'for', 'the', 'bonus', 'music', 'cd', 'warning', 'the', 'music', 'is', 'not', 'the', 'original', 'actors', 'singing', 'but', 'other', 'people', 'who', 'sound', 'nothing', 'like', 'fred', 'astaire', 'mickey', 'rooney', 'etc', 'very', 'disappointing', 'i', 'and', 'you', 'should', 'feel', 'deceived', 'they', 'should', 'state', 'clearly', 'in', 'the', 'description', 'it', 'is', 'not', 'with', 'the', 'original', 'actors', 'regarding', 'the', 'question', 'of', 'royalties', 'they', 'are', 'using', 'the', 'character', 'unk', 'anyway', 'so', 'why', 'ruin', 'these', 'songs', 'i', 'was', 'very', 'excited', 'to', 'get', 'the', 'songs', 'and', 'you', 'can', 'imagine', 'my', 'severe', 'let', 'down', 'i', 'feel', 'ripped', 'off', 'i', 'assumed', 'each', 'song', 'on', 'the', 'dvd', 's', 'would', 'be', 'its', 'own', 'chapter', 'wrong', 'they', 'didn', 't', 'even', 'bother', 'to', 'do', 'this', 'so', 'we', 'can', 'repeat', 'a', 'song', 'or', 'section', 'of', 'the', 'dvd', 'without', 'using', 'a', 'b', 'repeat', 'disappointing', 'again', 'if', 'someone', 'told', 'me', 'i', 'will', 'own', 'these', 'specials', 'when', 'i', 'grow', 'up', 'i', 'would', 'have', 'replied', 'no', 'way', 'back', 'then', 'unk', 's', 'it', 'seemed', 'like', 'a', 'miracle', 'the', 'dvd', 's', 'look', 'great', 'but', 'the', 'music', 'cd', 's']\n",
            "predicted label: 2\n",
            "real label: 1\n",
            "\n",
            "review: ['the', 'effects', 'are', 'better', 'in', 'mirrors', 'than', 'in', 'unk', 'but', 'the', 'plot', 'is', 'the', 'same', 'in', 'unk', 'sutherland', 'tracks', 'down', 'imaginary', 'terrorists', 'to', 'protect', 'ignorant', 'innocent', 'people', 'and', 'in', 'mirrors', 'he', 'hunts', 'down', 'the', 'invisible', 'evil', 'spirit', 'in', 'mirrors', 'that', 'are', 'attacking', 'ignorant', 'innocent', 'people', 'including', 'his', 'family', 'he', 'plays', 'the', 'same', 'self', 'centered', 'psycho', 'dramatic', 'character', 'who', 'knows', 'he', 'is', 'doing', 'the', 'right', 'thing', 'despite', 'his', 'schizo', 'paranoid', 'tendencies', 'he', 'saves', 'the', 'day', 'and', 'the', 'paranoid', 'wacko', 'becomes', 'the', 'hero', 'of', 'the', 'day', 'yet', 'again', 'the', 'end', 'it', 'is', 'not', 'that', 'scary', 'and', 'the', 'suspense', 'only', 'picks', 'up', 'after', 'approximately', 'unk', 'minutes', 'into', 'the', 'movie', 'when', 'a', 'storyline', 'actually', 'develops', 'this', 'is', 'not', 'a', 'movie', 'to', 'see', 'let', 'alone', 'buy', 'unless', 'you', 'are', 'just', 'as', 'confused', 'as', 'sutherland', 'and', 'his', 'writers', 'are', 'as', 'to', 'what', 'constitutes', 'suspense', 'and', 'perplexed', 'heroic', 'characters']\n",
            "predicted label: 2\n",
            "real label: 1\n",
            "\n",
            "review: ['this', 'has', 'only', 'a', 'few', 'classic', 'unk', 'we', 'need', 'to', 'see', 'the', 'unk', 'and', 'unk', 'the', 'shiek', 'vs', 'abdullah', 'the', 'unk', 'bruno', 'vs', 'larry', 'unk', 'killer', 'con', 'vs', 'bruno', 'the', 'miller', 'bros', 'vs', 'the', 'unk', 'gene', 'unk', 'vs', 'fred', 'unk', 'waldo', 'and', 'fritz', 'von', 'unk', 'vs', 'the', 'unk', 'the', 'shiek', 'vs', 'bruno', 'and', 'so', 'many', 'others', 'are', 'these', 'lost', 'or', 'what']\n",
            "predicted label: 5\n",
            "real label: 3\n",
            "\n",
            "review: ['i', 'bought', 'this', 'tape', 'last', 'night', 'and', 'tried', 'it', 'it', 'is', 'pretty', 'good', 'the', 'workout', 'targets', 'everything', 'from', 'cardio', 'to', 'muscle', 'toning', 'to', 'abs', 'and', 'thighs', 'i', 'usually', 'have', 'to', 'work', 'out', 'to', 'a', 'tape', 'then', 'switch', 'to', 'do', 'abs', 'thighs', 'and', 'buns', 'seperately', 'the', 'only', 'thing', 'that', 'is', 'annoying', 'is', 'her', 'whoa', 'and', 'you', 'can', 'do', 'it', 'she', 'repeats', 'it', 'over', 'and', 'over', 'but', 'the', 'tape', 'itself', 'is', 'good', 'lots', 'of', 'unk']\n",
            "predicted label: 4\n",
            "real label: 3\n",
            "\n",
            "review: ['i', 'don', 't', 'understand', 'the', 'appeal', 'was', 'it', 'written', 'by', 'a', 'unk', 'year', 'old', 'girl', 'because', 'it', 'sure', 'seems', 'it', 'i', 'suppose', 'it', 'was', 'actually', 'written', 'for', 'unk', 'year', 'old', 'girls', 'a', 'prime', 'minister', 'falling', 'in', 'love', 'with', 'an', 'employee', 'from', 'a', 'dodgy', 'part', 'of', 'town', 'beautiful', 'american', 'girls', 'falling', 'for', 'a', 'goofball', 'brit', 'a', 'little', 'boy', 'sneaking', 'past', 'airport', 'security', 'laura', 'linney', 'ignoring', 'that', 'hunk', 'for', 'her', 'crazy', 'brother', 'yep', 'i', 'm', 'convinced', 'this', 'was', 'written', 'by', 'a', 'unk', 'year', 'old', 'girl', 'for', 'unk', 'year', 'old', 'girls']\n",
            "predicted label: 1\n",
            "real label: 2\n",
            "\n",
            "review: ['a', 'thriller', 'with', 'no', 'thrills', 'i', 'm', 'a', 'cuba', 'gooding', 'jr', 'fan', 'but', 'he', 'is', 'awful', 'in', 'this', 'i', 'never', 'connected', 'enough', 'with', 'his', 'character', 'to', 'care', 'what', 'happens', 'he', 'is', 'supposed', 'to', 'be', 'in', 'a', 'life', 'threatening', 'bind', 'but', 'i', 'never', 'felt', 'a', 'gut', 'level', 'sense', 'of', 'fear', 'or', 'urgency', 'just', 'annoyed', 'boredom', 'this', 'is', 'made', 'for', 'tv', 'grade', 'acting', 'none', 'of', 'the', 'dialog', 'is', 'witty', 'or', 'engaging', 'none', 'of', 'the', 'sets', 'are', 'interesting', 'none', 'of', 'the', 'characters', 'have', 'any', 'depth', 'the', 'story', 'never', 'engages', 'us', 'it', 'just', 'sputters', 'along', 'and', 'runs', 'out', 'of', 'gas', 'before', 'it', 'ever', 'takes', 'flight']\n",
            "predicted label: 1\n",
            "real label: 2\n",
            "\n",
            "review: ['came', 'brand', 'new', 'still', 'wrapped', 'and', 'did', 'not', 'disappoint', 'i', 'used', 'to', 'watch', 'this', 'movie', 'every', 'year', 'at', 'christmas', 'with', 'my', 'family', 'and', 'it', 's', 'hilarious', 'and', 'very', 'fun']\n",
            "predicted label: 5\n",
            "real label: 4\n",
            "\n",
            "review: ['this', 'movie', 'is', 'the', 'coolest', 'action', 'slash', 'horror', 'ever', 'the', 'special', 'effects', 'are', 'wonderful', 'the', 'movie', 'features', 'the', 'beautiful', 'milla', 'jovovich', 'there', 'are', 'only', 'a', 'few', 'strong', 'gory', 'parts', 'for', 'example', 'the', 'scene', 'in', 'the', 'laser', 'hallway', 'where', 'half', 'of', 'the', 'team', 'gets', 'sliced', 'into', 'bits', 'the', 'part', 'that', 'creeped', 'me', 'out', 'alot', 'was', 'when', 'the', 'zombie', 'with', 'the', 'messed', 'up', 'foot', 'was', 'dragging', 'the', 'ax', 'that', 'was', 'freaky', 'there', 'is', 'also', 'a', 'bonus', 'in', 'the', 'movie', 'guys', 'keep', 'your', 'eyes', 'peeled', 'in', 'the', 'beginning', 'for', 'a', 'well', 'worth', 'shot', 'of', 'milla', 'the', 'movie', 'strays', 'away', 'from', 'the', 'game', 'quite', 'a', 'bit', 'but', 'otherwise', 'great', 'movie']\n",
            "predicted label: 5\n",
            "real label: 4\n",
            "\n",
            "review: ['not', 'good', 'poor', 'script', 'and', 'mostly', 'bad', 'performances', 'and', 'plot']\n",
            "predicted label: 1\n",
            "real label: 2\n",
            "\n",
            "review: ['average', 'kids', 'family', 'hollywood', 'film', 'involving', 'time', 'travel', 'i', 'enjoyed', 'number', 'one', 'better', 'but', 'this', 'film', 'certainly', 'did', 'not', 'disappoint', 'as', 'a', 'one', 'time', 'viewing']\n",
            "predicted label: 3\n",
            "real label: 2\n",
            "\n",
            "review: ['acting', 'and', 'dialog', 'left', 'a', 'lot', 'to', 'be', 'desired']\n",
            "predicted label: 2\n",
            "real label: 1\n",
            "\n",
            "review: ['i', 'was', 'disappointed', 'in', 'the', 'quality', 'of', 'the', 'film', 'it', 'was', 'slow', 'difficult', 'to', 'hear', 'and', 'see', 'i', 'was', 'not', 'able', 'to', 'finish']\n",
            "predicted label: 2\n",
            "real label: 3\n",
            "\n",
            "review: ['its', 'good', 'but', 'i', 'liked', 'the', 'previous', 'movies', 'better']\n",
            "predicted label: 3\n",
            "real label: 4\n",
            "\n",
            "review: ['weird', 'violent', 'angry', 'kids', 'turned', 'it', 'off', 'since', 'my', 'child', 'wasn', 't', 'enjoying', 'it']\n",
            "predicted label: 1\n",
            "real label: 2\n",
            "\n",
            "review: ['first', 'off', 'i', 'think', 'that', 'this', 'is', 'an', 'amazingly', 'epic', 'piece', 'of', 'work', 'which', 'in', 'some', 'ways', 'reminded', 'me', 'of', 'a', 'kind', 'of', 'big', 'sprawling', 'unk', 's', 'esque', 'epic', 'that', 'someone', 'of', 'a', 'george', 'stevens', 'caliber', 'might', 'have', 'made', 'now', 'on', 'to', 'the', 'unk', 'disappointing', 'packaging', 'what', 'the', 'hell', 'was', 'paramount', 'thinking', 'cardboard', 'stock', 'dvd', 'case', 'if', 'you', 'decided', 'to', 'purchase', 'this', 'movie', 'be', 'unk', 'you', 'will', 'have', 'a', 'hell', 'of', 'a', 'time', 'getting', 'the', 'discs', 'out', 'of', 'the', 'case', 'and', 'an', 'even', 'harder', 'time', 'with', 'not', 'scratching', 'the', 'darn', 'things', 'by', 'doing', 'so', 'i', 'am', 'giving', 'the', 'movie', 'unk', 'unk', 'unk', 'stars', 'and', 'unk', 'star', 'to', 'the', 'packaging', 'einstein', 'who', 'thought', 'up', 'this', 'mass', 'produced', 'cardboard', 'mess', 'of', 'a', 'case', 'housing', 'these', 'discs', 'absolutely', 'terrible']\n",
            "predicted label: 3\n",
            "real label: 1\n",
            "\n",
            "review: ['one', 'problem', 'i', 'noticed', 'on', 'seasons', 'unk', 'and', 'unk', 'most', 'likely', 'warner', 'home', 'video', 'related', 'a', 'lot', 'of', 'the', 'voices', 'got', 'cut', 'out', 'of', 'the', 'episodes', 'like', 'in', 'the', 'intro', 'when', 'eddy', 'says', 'eddy', 'this', 'tends', 'to', 'happens', 'a', 'lot', 'on', 'dvd', 'players', 'but', 'works', 'on', 'my', 'friend', 'xbox', 'unk']\n",
            "predicted label: 4\n",
            "real label: 3\n",
            "\n",
            "review: ['the', 'truth', 'that', 'the', 'cia', 'and', 'u', 's', 'forensic', 'teams', 'used', 'as', 'evidence', 'to', 'build', 'as', 'a', 'cover', 'up', ';', 'to', 'place', 'oswald', 'as', 'a', 'patsy', 'around', 'the', 'murdering', 'plot', 'that', 'was', 'cooked', 'up', 'by', 'the', 'cia', 'including', 'former', 'presidents', 'lyndon', 'b', 'johnson', 'and', 'george', 'bush', 'sr', 'and', 'the', 'leaders', 'of', 'the', 'mafia', 'including', 'santo', 'unk', 'of', 'memphis', 'tenn', ';', 'backed', 'by', 'the', 'unk', 'teamsters', 'union', 'funding', 'it', 'was', 'a', 'premeditated', 'act', 'of', 'first', 'degree', 'murder', 'with', 'hiring', 'of', 'assassins', 'from', 'europe', 'two', 'hit', 'men', 'to', 'came', 'into', 'texas', 'and', 'murdered', 'president', 'john', 'f', 'kennedy']\n",
            "predicted label: 3\n",
            "real label: 5\n",
            "\n",
            "review: ['streep', 'is', 'not', 'for', 'me']\n",
            "predicted label: 2\n",
            "real label: 1\n",
            "\n",
            "review: ['pros', ':', 'the', 'film', 'is', 'about', 'sweets', 'romance', 'with', 'baseball', 'and', 'bobbie', 'in', 'both', 'cases', 'i', 'believed', 'in', 'his', 'passion', 'the', 'film', 'looked', 'and', 'sounded', 'good', 'including', 'the', 'baseball', 'scenes', 'it', 'was', 'well', 'paced', 'cons', ':', 'almost', 'all', 'of', 'the', 'characters', 'except', 'sweet', 'and', 'bobbie', 'are', 'flat', 'one', 'dimensional', 'and', 'sometimes', 'cartoonish', 'characters', 'a', 'pitch', 'for', 'the', 'ordination', 'of', 'women', 'comes', 'out', 'of', 'left', 'field', 'and', 'doesnt', 'seem', 'to', 'fit', 'the', 'character', 'who', 'makes', 'it', 'like', 'in', 'the', 'scout', 'another', 'baseball', 'movie', 'the', 'closing', 'act', 'is', 'ridiculously', 'implausible', 'there', 'seems', 'to', 'be', 'no', 'point', 'to', 'the', 'story', 'the', 'closing', 'coda', 'makes', 'the', 'phenom', 'seem', 'as', 'crass', 'as', 'the', 'villainous', 'owner', 'warning', ':', 'the', 'film', 'does', 'include', 'a', 'significant', 'amount', 'of', 'profanity', 'and', 'vulgar', 'language']\n",
            "predicted label: 3\n",
            "real label: 2\n",
            "\n",
            "review: ['i', 'haven', 't', 'watched', 'it', 'in', 'unk', 'yet', 'maybe', 'that', 'will', 'make', 'it', 'more', 'enjoyable', 'this', 'is', 'nothing', 'like', 'the', 'lord', 'of', 'the', 'rings', 'the', 'only', 'thing', 'that', 'i', 'can', 'say', 'positive', 'is', 'the', 'sound', 'that', 'comes', 'through', 'my', 'onkyo', 'tx', 'nr', 'unk', 'was', 'amazing']\n",
            "predicted label: 1\n",
            "real label: 3\n",
            "\n",
            "review: ['director', 'george', 'unk', 'supernatural', 'thriller', 'never', 'lives', 'up', 'to', 'the', 'expectation', 'of', 'his', 'cover', 'art', 'instead', 'sluggish', 'pacing', 'b', 'movie', 'acting', 'and', 'a', 'preposterous', 'plot', 'sinks', 'it', 'zach', 'unk', 'is', 'a', 'college', 'student', 'who', 'has', 'eyes', 'of', 'laura', 'mars', 'visions', 'of', 'michael', 'nouri', 'in', 'sunglasses', 'as', 'a', 'serial', 'killer', 'who', 'strangles', 'with', 'an', 'animal', 'imprinted', 'belt', 'unk', 'is', 'also', 'romantically', 'interested', 'in', 'his', 'psychology', 'lecturer', 'catherine', 'mary', 'stewart', 'who', 'he', 'learns', 'is', 'dating', 'nouri', 'a', 'fellow', 'psychology', 'professor', 'and', 'authority', 'on', 'abnormal', 'behavior', 'and', 'who', 'has', 'written', 'a', 'book', 'called', 'rage', 'and', 'redemption', 'the', 'screenplay', 'by', 'miguel', 'tejada', 'flores', 'and', 'paul', 'koval', 'based', 'on', 'an', 'original', 'story', 'by', 'mark', 'mcquade', 'crawford', 'and', 'william', 'crawford', 'doesnt', 'use', 'unk', 'psychic', 'ability', 'even', 'when', 'he', 'goes', 'to', 'the', 'police', 'he', 'cant', 'even', 'tell', 'them', 'the', 'location', 'of', 'the', 'crime', 'which', 'is', 'obvious', 'from', 'the', 'way', 'unk', 'presents', 'the', 'vision', 'instead', 'we', 'get', 'sidetracked', 'in', 'the', 'tiresome', 'romance', 'with', 'the', 'only', 'tension', 'created', 'in', 'the', 'last', 'unk', 'minutes', 'with', 'stewart', 'isolated', 'with', 'nouri', 'the', 'only', 'original', 'touch', 'is', 'unk', 'vision', 'of', 'stewart', 'reading', 'crime', 'and', 'punishment', 'as', 'a', 'ruse', 'to', 'give', 'them', 'common', 'interests', 'otherwise', 'the', 'unk', 'include', 'unk', 'dismissing', 'a', 'tattooist', 'as', 'a']\n",
            "predicted label: 2\n",
            "real label: 1\n",
            "\n",
            "review: ['i', 'wanted', 'to', 'like', 'it', 'i', 'like', 'julia', 'louis', 'dreyfus', 'but', 'it', 'just', 'didn', 't', 'keep', 'me', 'interested', 'felt', 'like', 'it', 'was', 'trying', 'to', 'copy', 'it', 's', 'style', 'seemed', 'forced', 'and', 'fake', 'not', 'original', 'and', 'too', 'much', 'unnecessary', 'foul', 'language', 'the', 'f', 'bomb', 'was', 'over', 'used']\n",
            "predicted label: 2\n",
            "real label: 1\n",
            "\n",
            "review: ['but', 'not', 'good', 'enough', 'the', 'story', 'is', 'lacking', 'since', 'all', 'the', 'conflict', 'is', 'over', 'a', 'selfish', 'monarch', 's', 'desire', 'for', 'freedom', 'from', 'her', 'born', 'with', 'the', 'whole', 'country', 'at', 'her', 'feet', 'but', 'i', 'm', 'still', 'so', 'unhappy', 'lifestyle', 'all', 'the', 'characters', 'are', 'very', 'well', 'portrayed', 'and', 'the', 'cinematography', 'is', 'unk', 'however', 'the', 'action', 'is', 'sparse', 'the', 'plot', 'development', 'was', 'not', 'developed', 'enough', 'and', 'the', 'high', 'body', 'count', 'was', 'unnecessary', 'other', 'downsides', 'were', 'the', 'fly', 'by', 'subtitles', 'which', 'made', 'it', 'hard', 'to', 'absorb', 'the', 'film', 'visually', 'and', 'understand', 'what', 's', 'going', 'on', 'at', 'the', 'same', 'time', 'the', 'subtitles', 'flashed', 'so', 'quickly', 'i', 'had', 'to', 'rewind', 'and', 'pause', 'various', 'times', 'film', 'length', 'the', 'story', 'could', 'have', 'been', 'told', 'in', 'unk', 'hour', 'instead', 'of', 'over', 'unk', 'hours', 'and', 'gore', 'how', 'many', 'times', 'do', 'i', 'need', 'to', 'see', 'a', 'man', 'shot', 'in', 'the', 'neck', 'with', 'an', 'arrow', 'i', 'mean', 'gore', 'is', 'fine', 'but', 'it', 'can', 'be', 'more', 'unk', 'to', 'the', 'film', 'with', 'more', 'variety', 'and', 'imagination', 'also', 'the', 'bulk', 'of', 'the', 'film', 'seemed', 'like', 'a', 'feeble', 'attempt', 'at', 'reenacting', 'the', 'battle', 'at', 'minas', 'unk', 'to', 'the', 'point', 'that', 'i', 'wanted', 'to', 'watch', 'the', 'lotr', ':', 'the', 'two', 'towers', 'instead', 'who', 'wouldn', 't', 'lord', 'of']\n",
            "predicted label: 3\n",
            "real label: 2\n",
            "\n",
            "review: ['it', 'was', 'all', 'right']\n",
            "predicted label: 3\n",
            "real label: 2\n",
            "\n",
            "review: ['what', 's', 'great', 'about', 'this', 'movie', 'is', 'that', 'it', 'provokes', 'serious', 'thought', 'and', 'examination', 'of', 'prejudices', 'and', 'habitual', 'reactions', 'that', 'may', 'not', 'be', 'the', 'truest', 'response', 'to', 'a', 'particular', 'situation', 'possible', 'spoilers', 'follow', 'what', 'bothers', 'me', 'most', 'about', 'this', 'movie', 'is', 'that', 'the', 'teacher', 's', 'inappropriate', 'behavior', 'toward', 'the', 'student', 'is', 'so', 'much', 'overshadowed', 'by', 'subsequent', 'events', 'the', 'overreaction', 'of', 'the', 'townspeople', 'and', 'the', 'uncovering', 'of', 'much', 'worse', 'abuse', 'from', 'another', 'adult', 'that', 'the', 'teacher', 'in', 'the', 'end', 'comes', 'out', 'looking', 'like', 'a', 'martyr', 'and', 'a', 'hero', 'he', 'was', 'not', 'a', 'hero', 'and', 'if', 'he', 'was', 'a', 'martyr', 'it', 'was', 'only', 'to', 'his', 'own', 'egoism', 'and', 'delusional', 'behavior', 'his', 'relationship', 'with', 'the', 'boy', 'was', 'inappropriate', 'from', 'the', 'very', 'beginning', 'he', 'had', 'an', 'unhealthy', 'obsession', 'a', 'possessiveness', 'and', 'a', 'sense', 'of', 'entitlement', 'to', 'interfere', 'in', 'the', 'boy', 's', 'private', 'life', 'that', 'no', 'teacher', 'ought', 'to', 'have', 'for', 'any', 'student', 'of', 'any', 'sex', 'behavior', 'like', 'that', 'toward', 'a', 'child', 'particularly', 'a', 'child', 'who', 'was', 'not', 'his', 'own', 'is', 'always', 'and', 'unequivocally', 'inappropriate', 'and', 'inherently', 'abusive', 'when', 'the', 'abuser', 'is', 'a', 'teacher', 'with', 'all', 'the', 'emotional', 'and', 'spiritual', 'power', 'any', 'teacher', 'has', 'over', 'any', 'student', 'particularly', 'a', 'child', 'the', 'abuse', 'is', 'especially', 'inexcusable']\n",
            "predicted label: 1\n",
            "real label: 3\n",
            "\n",
            "review: ['as', 'promised']\n",
            "predicted label: 5\n",
            "real label: 4\n",
            "\n",
            "review: ['when', 'i', 'visited', 'my', 'local', 'video', 'store', 'recently', 'i', 'was', 'having', 'a', 'difficult', 'time', 'deciding', 'on', 'what', 'movie', 'i', 'wished', 'to', 'see', 'several', 'new', 'titles', 'of', 'interest', 'had', 'been', 'released', 'yet', 'i', 'knew', 'that', 'there', 'were', 'still', 'some', 'from', 'earlier', 'in', 'the', 'year', 'that', 'i', 'had', 'yet', 'to', 'watch', 'this', 'thought', 'led', 'to', 'a', 'new', 'problem', 'for', 'me', 'choosing', 'which', 'not', 'so', 'new', 'release', 'to', 'pick', 'up', 'after', 'much', 'internal', 'debating', 'with', 'myself', 'i', 'finally', 'decided', 'i', 'wanted', 'something', 'that', 'had', 'some', 'substance', 'to', 'it', 'and', 'wasn', 't', 'going', 'to', 'be', 'a', 'movie', 'where', 'i', 'could', 'just', 'turn', 'my', 'brain', 'off', 'and', 'watch', 'it', 'i', 'wanted', 'a', 'movie', 'that', 'was', 'going', 'to', 'demand', 'my', 'attention', 'thus', 'i', 'decided', 'i', 'would', 'pick', 'the', 'film', 'chosen', 'as', 'best', 'picture', 'at', 'this', 'year', 's', 'academy', 'awards', 'the', 'critically', 'acclaimed', 'no', 'country', 'for', 'old', 'men', 'written', 'and', 'directed', 'by', 'joel', 'and', 'ethan', 'coen', 'o', 'brother', 'where', 'art', 'thou', 'no', 'country', 'for', 'old', 'men', 'follows', 'an', 'intense', 'couple', 'of', 'days', 'for', 'a', 'man', 'named', 'unk', 'moss', 'josh', 'brolin', 'who', 'happens', 'to', 'come', 'across', 'a', 'drug', 'deal', 'gone', 'bad', 'and', 'discovers', 'for', 'himself', 'two', 'million', 'dollars', 'in', 'cash', 'however', 'taking', 'the', 'money', 'may', 'just', 'prove', 'to']\n",
            "predicted label: 2\n",
            "real label: 3\n",
            "\n",
            "review: ['this', 'is', 'an', 'interesting', 'study', 'of', 'how', 'several', 'men', 'trap', 'and', 'fish', 'in', 'the', 'far', 'north', 'of', 'russia', 'it', 'is', 'not', 'a', 'study', 'of', 'a', 'community', 'as', 'the', 'men', 's', 'wives', 'and', 'children', 'are', 'virtually', 'ignored', 'also', 'there', 'is', 'no', 'proof', 'that', 'these', 'men', 'are', 'happy', 'the', 'voice', 'overs', 'of', 'the', 'movie', 'makers', 'claim', 'all', 'sorts', 'of', 'unk', 'idealism', 'about', 'the', 'lives', 'of', 'these', 'men', 'but', 'they', 'never', 'actually', 'ask', 'the', 'men', 'how', 'they', 'feel', 'about', 'the', 'lives', 'they', 'live', 'the', 'men', 'are', 'only', 'allowed', 'to', 'speak', 'for', 'themselves', 'when', 'it', 'comes', 'to', 'the', 'details', 'of', 'trapping', 'training', 'their', 'dogs', 'etc', 'also', 'though', 'the', 'voice', 'overs', 'wax', 'lyrical', 'about', 'how', 'these', 'men', 'lead', 'lives', 'untouched', 'by', 'modernity', 'the', 'men', 'use', 'motorboats', 'atvs', 'chain', 'saws', 'and', 'electricity', 'whenever', 'they', 'can', 'i', 'think', 'that', 'these', 'movie', 'makers', 'were', 'some', 'kind', 'of', 'unk', 'wannabes']\n",
            "predicted label: 3\n",
            "real label: 2\n",
            "\n",
            "review: ['the', 'pace', 'was', 'too', 'slow', 'for', 'this', 'to', 'be', 'a', 'good', 'cardio', 'workout', 'and', 'i', 'felt', 'more', 'stupid', 'than', 'sexy', 'doing', 'the', 'moves']\n",
            "predicted label: 2\n",
            "real label: 1\n",
            "\n",
            "review: ['one', 'comment', 'question', ':', 'why', 'do', 'these', 'people', 'wait', 'to', 'be', 'attacked', 'by', 'the', 'zombies', 'they', 'have', 'all', 'the', 'space', 'and', 'unk', 'of', 'time', 'to', 'run', 'but', 'they', 'stand', 'there', 'looking', 'scared', 'for', 'a', 'good', 'half', 'minute', 'watching', 'the', 'zombie', 'get', 'closer', 'do', 'these', 'people', 'think', 'they', 'are', 'going', 'to', 'win', 'a', 'oscar', 'for', 'freshly', 'tossing', 'their', 'hair', 'to', 'the', 'side', 'like', 'a', 'shampoo', 'commercial', 'as', 'they', 'look', 'scared', 'and', 'get', 'attacked', 'unk', '[', 'laugh', 'out', 'loud', ']']\n",
            "predicted label: 1\n",
            "real label: 3\n",
            "\n",
            "review: ['the', 'acting', 'was', 'poor', 'the', 'fighting', 'sad', 'the', 'characters', 'weak', 'the', 'plot', 'plodding', 'need', 'i', 'say', 'more']\n",
            "predicted label: 1\n",
            "real label: 2\n",
            "\n",
            "review: ['i', 'couldn', 't', 'get', 'through', 'it', 'it', 'tries', 'too', 'hard', 'like', 'willem', 'unk', 'character', 'is', 'not', 'as', 'cool', 'as', 'they', 'want', 'him', 'to', 'be', 'and', 'the', 'music', 'is', 'terrible', 'and', 'seems', 'almost', 'like', 'a', 'parody', 'of', 'what', 'it', 'should', 'be', 'i', 'can', 't', 'believe', 'someone', 'in', 'this', 'review', 'section', 'compared', 'it', 'to', 'anything', 'tarantino', 'has', 'made', 'the', 'jokes', 'weren', 't', 'funny', 'i', 'would', 'have', 'thought', 'this', 'was', 'a', 'really', 'cool', 'movie', 'if', 'i', 'was', 'like', 'unk', 'the', 'tone', 'is', 'just', 'awful']\n",
            "predicted label: 1\n",
            "real label: 2\n",
            "\n",
            "review: ['i', 'suppose', 'it', 'would', 'be', 'ok', 'to', 'give', 'away', 'a', 'description', 'of', 'the', 'first', 'scene', 'and', 'not', 'make', 'anyone', 'to', 'angry', 'i', 'would', 'hate', 'to', 'spoil', 'this', 'horror', 'mystery', 'for', 'anyone', 'interested', 'at', 'the', 'outset', 'we', 'join', 'a', 'new', 'victim', 'of', 'the', 'jigsaw', 'killer', 'shortly', 'before', 'his', 'terror', 'inducing', 'blood', 'pressure', 'raising', 'death', 'as', 'in', 'the', 'first', 'movie', 'a', 'beaten', 'and', 'bloodied', 'man', 'awakens', 'to', 'his', 'horror', 'with', 'a', 'strange', 'contraption', 'attached', 'to', 'his', 'neck', 'a', 'close', 'up', 'shows', 'us', 'his', 'first', 'person', 'view', 'of', 'an', 'open', 'mask', 'lined', 'with', 'what', 'appears', 'to', 'be', 'old', 'nails', 'loud', 'noises', 'amplified', 'breathing', 'sound', 'and', 'cut', 'shots', 'accompany', 'i', 'suppose', 'to', 'add', 'tension', 'and', 'it', 'does', 'quite', 'a', 'good', 'job', 'of', 'it', 'i', 'found', 'myself', 'unintentionally', 'squeezing', 'my', 'wife', 's', 'knee', 'harder', 'and', 'harder', 'happened', 'many', 'times', 'during', 'the', 'movie', 'an', 'old', 'banged', 'up', 'tv', 'abruptly', 'turns', 'on', 'as', 'in', 'the', 'first', 'movie', 'with', 'the', 'face', 'of', 'the', 'goofy', 'but', 'creepy', 'puppet', 'slowly', 'waxing', 'into', 'view', 'the', 'subject', 'is', 'then', 'informed', 'by', 'said', 'puppet', 'that', 'unless', 'he', 'finds', 'the', 'key', 'to', 'his', 'death', 'mask', 'within', 'the', 'allotted', 'time', 'the', 'spring', 'mechanism', 'will', 'activate', 'and', 'well', 'you', 'know', 'the', 'tv', 'screen', 'then', 'switches', 'to']\n",
            "predicted label: 2\n",
            "real label: 4\n",
            "\n",
            "review: ['good', 'flick', 'but', 'bad', 'language', 'in', 'a', 'few', 'spots']\n",
            "predicted label: 4\n",
            "real label: 3\n",
            "\n",
            "review: ['not', 'my', 'fav']\n",
            "predicted label: 2\n",
            "real label: 1\n",
            "\n",
            "review: ['a', 'very', 'nice', 'little', 'movie', 'without', 'sex', 'violence', 'or', 'major', 'stars', 'a', 'real', 'treat', 'and', 'worth', 'getting', 'as', 'a', 'dvd', 'as', 'opposed', 'to', 'renting', 'streaming', 'if', 'you', 'want', 'to', 'experience', 'a', 'crisp', 'print', 'some', 'interesting', 'indy', 'film', 'camera', 'work', 'and', 'soundtrack', 'and', 'this', 'one', 'handles', 'its', 'political', 'content', 'immigration', 'deftly', 'a', 'very', 'good', 'family', 'film', 'that', 'will', 'give', 'you', 'all', 'something', 'to', 'talk', 'about', 'highly', 'recommended']\n",
            "predicted label: 5\n",
            "real label: 4\n",
            "\n",
            "review: ['awesome', 'work', 'out', 'results', 'happen', 'fast', 'it', 's', 'nice', 'to', 'mix', 'up', 'the', 'options', 'depending', 'on', 'how', 'much', 'time', 'energy', 'i', 'have', 'i', 'don', 't', 'have', 'leg', 'weights', 'but', 'still', 'feel', 'her', 'routine', 'the', 'next', 'morning']\n",
            "predicted label: 4\n",
            "real label: 5\n",
            "\n",
            "review: ['movie', 'was', 'a', 'history', 'lesson', 'that', 'showed', 'all', 'the', 'poor', 'decisions', 'that', 'made', 'the', 'attack', 'so', 'devastating']\n",
            "predicted label: 4\n",
            "real label: 5\n",
            "\n",
            "review: ['very', 'god', 'film']\n",
            "predicted label: 5\n",
            "real label: 4\n",
            "\n",
            "review: ['this', 'movie', 's', 'brilliance', 'lies', 'in', 'its', 'accuracy', 'somehow', 'the', 'wild', 'things', 'of', 'sendak', 's', 'classic', 'favorite', 'truly', 'come', 'to', 'life', 'on', 'screen', 'just', 'as', 'they', 'appeared', 'in', 'the', 'charming', 'children', 's', 'book', 'a', 'lot', 'had', 'to', 'be', 'added', 'to', 'fill', 'the', 'brief', 'book', 'out', 'to', 'the', 'length', 'of', 'a', 'feature', 'movie', 'but', 'certainly', 'nothing', 'was', 'taken', 'away', 'jonze', 'also', 'did', 'a', 'remarkably', 'accurate', 'job', 'in', 'rendering', 'the', 'imaginative', 'small', 'boy', 'max', 'around', 'whom', 'the', 'movie', 'revolves', 'like', 'so', 'many', 'he', 'crosses', 'freely', 'over', 'the', 'line', 'between', 'fantasy', 'and', 'reality', 'maybe', 'more', 'freely', 'than', 'some', 'and', 'maybe', 'more', 'freely', 'than', 'is', 'really', 'good', 'for', 'him', 'jonze', 's', 'accuracy', 'carries', 'a', 'chill', 'behind', 'its', 'warmth', 'though', 'max', 'gets', 'carried', 'away', 'a', 'bit', 'too', 'often', 'and', 'has', 'to', 'deal', 'with', 'the', 'complexities', 'of', 'growing', 'up', 'like', 'so', 'many', 'he', 'really', 'doesn', 't', 'have', 'the', 'tools', 'to', 'deal', 'with', 'them', 'and', 'strategies', 'from', 'his', 'younger', 'years', 'no', 'longer', 'do', 'what', 'he', 'needs', 'done', 'it', 's', 'easy', 'to', 'idealize', 'a', 'young', 'boy', 's', 'life', 'in', 'terms', 'of', 'imagination', 'and', 'adventure', 'but', 'jonze', 'reminds', 'us', 'that', 'boys', 'have', 'plenty', 'of', 'problems', 'trying', 'to', 'make', 'a', 'place', 'in', 'a', 'world', 'full', 'of', 'people', 'bigger', 'and', 'more']\n",
            "predicted label: 4\n",
            "real label: 3\n",
            "\n",
            "review: ['i', 'didn', 't', 'stick', 'with', 'it', 'for', 'long', 'too', 'dumb', 'for', 'me']\n",
            "predicted label: 2\n",
            "real label: 1\n",
            "\n",
            "review: ['pretty', 'much', 'a', 'teen', 'soap', 'opera', 'not', 'to', 'many', 'special', 'effects']\n",
            "predicted label: 2\n",
            "real label: 1\n",
            "\n",
            "review: ['disney', 's', 'unk', 'sequel', 'jungle', 'book', 'unk', 'newly', 'released', 'in', 'special', 'edition', 'dvd', 'was', 'a', 'missed', 'opportunity', 'not', 'because', 'unk', 's', 'original', 'based', 'on', 'rudyard', 'kipling', 's', 'oft', 'filmed', 'book', 'came', 'unk', 'years', 'before', 'as', 'the', 'last', 'animated', 'film', 'walt', 'disney', 'directly', 'touched', 'nor', 'because', 'most', 'of', 'the', 'original', 's', 'distinguished', 'voice', 'cast', 'couldn', 't', 'return', 'phil', 'harris', 'the', 'first', 'baloo', 'george', 'sanders', 'shere', 'khan', 'and', 'the', 'legendary', 'louie', 'prima', 'king', 'louie', 'had', 'passed', 'since', 'the', 'original', 'but', 'john', 'goodman', 'summarizes', 'baloo', 's', 'carefree', 'spirit', 'tony', 'jay', 'gives', 'shere', 'khan', 'scar', 'like', 'menace', 'and', 'jim', 'cummings', 'slips', 'into', 'sterling', 'holloway', 's', 'snakeskin', 'nicely', 'as', 'kaa', 'king', 'louie', 'couldn', 't', 'appear', 'allegedly', 'due', 'to', 'royalty', 'dispute', 'so', 'the', 'original', 's', 'dixieland', 'spirit', 'is', 'replaced', 'by', 'smashmouth', 's', 'i', 'want', 'to', 'be', 'like', 'you', 'over', 'end', 'credits', 'the', 'film', 'could', 've', 'been', 'should', 've', 'been', 'and', 'almost', 'was', 'more', 'about', 'mowgli', 's', 'voiced', 'by', 'hayley', 'joel', 'osment', 'relationship', 'with', 'shanti', 'the', 'young', 'girl', 'who', 'lured', 'him', 'to', 'the', 'man', 'village', 'and', 'his', 'adopted', 'family', 'bonus', 'features', 'show', 'early', 'plans', 'for', 'a', 'feistier', 'relationship', 'between', 'them', 'dueting', 'as', 'equals', 'on', 'the', 'omitted', 'song', 'i', 'got', 'you', 'beat', 'in', 'unk', 'shanti', 'voiced', 'by', 'mae']\n",
            "predicted label: 3\n",
            "real label: 2\n",
            "\n",
            "review: ['really', 'bad', 'if', 'you', 're', 'into', 'cheesy', 'unk', 's', 'style', 'made', 'for', 'tv', 'movies', 'it', 'might', 'float', 'your', 'boat', 'but', 'if', 'you', 'want', 'a', 'legitimate', 'crime', 'drama', 'or', 'thriller', 'look', 'elsewhere']\n",
            "predicted label: 1\n",
            "real label: 2\n",
            "\n",
            "review: ['i', 'like', 'to', 'try', 'to', 'solve', 'the', 'case', 'before', 'miss', 'marple', 'but', 'she', 's', 'ahead', 'so', 'far', 'smart', 'old']\n",
            "predicted label: 5\n",
            "real label: 4\n",
            "\n",
            "review: ['the', 'galaxy', 'railways', 'unk', 'is', 'a', 'japanese', 'animated', 'tv', 'series', 'created', 'and', 'designed', 'by', 'pioneer', 'manga', 'artist', 'unk', 'matsumoto', 'and', 'serves', 'as', 'a', 'unk', 'century', 'take', 'on', 'matsumoto', 's', 'celebrated', 'series', 'from', 'unk', 'galaxy', 'express', 'unk', 'it', 'doesn', 't', 'have', 'the', 'same', 'characters', 'or', 'plot', 'as', 'the', 'earlier', 'series', 'but', 'it', 'revolves', 'around', 'the', 'same', 'premise', 'of', 'an', 'interplanetary', 'railroad', 'train', 'that', 'flies', 'from', 'planet', 'to', 'planet', 'throughout', 'the', 'galaxy', 'here', 'the', 'main', 'character', 'is', 'manabu', 'yuuki', 'who', 'has', 'joined', 'the', 'sdf', 'space', 'defense', 'force', 'the', 'security', 'arm', 'of', 'the', 'galaxy', 'railways', 'corporation', 'following', 'in', 'the', 'footsteps', 'of', 'his', 'late', 'father', 'and', 'older', 'brother', 'in', 'this', 'volume', 'we', 'see', 'manabu', 'as', 'a', 'boy', 'in', 'the', 'first', 'episode', 'who', 'unk', 'away', 'on', 'his', 'father', 's', 'train', 'and', 'in', 'the', 'second', 'episode', 'joins', 'the', 'sdf', 'as', 'a', 'young', 'man', 'of', 'unk', 'and', 'experiences', 'a', 'time', 'slip', 'which', 'sends', 'him', 'five', 'years', 'into', 'the', 'past', 'to', 'encounter', 'his', 'brother', 'during', 'a', 'crucial', 'battle', 'with', 'space', 'pirates', 'the', 'third', 'episode', 'is', 'a', 'standard', 'deranged', 'passenger', 'takes', 'hostages', 'on', 'a', 'train', 'crime', 'show', ';', 'the', 'fourth', 'is', 'a', 'rather', 'jarring', 'ghost', 'story', 'that', 'introduces', 'unwieldy', 'supernatural', 'elements', 'into', 'an', 'otherwise', 'straight', 'sci', 'fi', 'series', ';']\n",
            "predicted label: 4\n",
            "real label: 2\n",
            "\n",
            "review: ['this', 'is', 'one', 'of', 'those', 'films', 'you', 'see', 'and', 'then', 'promptly', 'forget', 'not', 'only', 'does', 'the', 'casting', 'of', 'blake', 'lively', 'ruin', 'any', 'hope', 'for', 'unk', 'with', 'a', 'grating', 'narration', 'from', 'her', 'throughout', 'most', 'if', 'not', 'all', 'of', 'the', 'other', 'cartoon', 'characters', 'in', 'it', 'are', 'laughable', 'and', 'or', 'pitiful']\n",
            "predicted label: 1\n",
            "real label: 2\n",
            "\n",
            "review: ['doris', 'day', 'was', 'easily', 'the', 'most', 'bankable', 'movie', 'star', 'of', 'the', 'late', 'unk', 'and', 'early', 'unk', 'winning', 'critical', 'favor', 'and', 'wide', 'popularity', 'with', 'such', 'films', 'as', 'pillow', 'talk', 'please', 'don', 't', 'eat', 'the', 'daisies', 'and', 'many', 'others', 'but', 'as', 'time', 'passed', 'day', 's', 'husband', 'and', 'manager', 'martin', 'unk', 'selected', 'material', 'that', 'began', 'to', 'unk', 'her', 'career', ':', 'films', 'such', 'as', 'the', 'glass', 'bottom', 'boat', 'and', 'do', 'not', 'disturb', 'were', 'popular', 'but', 'weakly', 'scripted', 'and', 'even', 'day', 's', 'star', 'power', 'couldn', 't', 'save', 'such', 'disasters', 'as', 'caprice', 'the', 'ballad', 'of', 'josie', 'and', 'where', 'were', 'you', 'when', 'the', 'lights', 'went', 'out', 'in', 'unk', 'however', 'day', 're', 'established', 'her', 'reputation', 'with', 'her', 'final', 'feature', 'film', ':', 'with', 'six', 'you', 'get', 'eggroll', 'abby', 'day', 'is', 'a', 'widow', 'with', 'three', 'sons', ';', 'jake', 'brian', 'keith', 'is', 'a', 'widower', 'with', 'a', 'daughter', 'when', 'abby', 's', 'matchmaking', 'sister', 'forces', 'the', 'two', 'together', 'the', 'result', 'is', 'not', 'immediately', 'positive', 'but', 'it', 'doesn', 't', 'take', 'long', 'before', 'romantic', 'sparks', 'begin', 'to', 'fly', 'unfortunately', 'their', 'children', 'are', 'considerably', 'less', 'enthusiastic', 'about', 'the', 'match', 'and', 'no', 'sooner', 'are', 'the', 'two', 'serious', 'than', 'war', 'unk', 'with', 'significant', 'nastiness', 'at', 'the', 'peak', 'of', 'her', 'career', 'day', 'tended', 'to', 'specialize', 'in', 'absurd', 'comedies', 'that']\n",
            "predicted label: 2\n",
            "real label: 4\n",
            "\n",
            "review: ['i', 'had', 'a', 'little', 'problem', 'with', 'retrieving', 'it', 'from', 'the', 'post', 'office', 'but', 'that', 'is', 'not', 'the', 'sender', 's', 'fault', 'quality', 'of', 'the', 'movie', 'is', 'good']\n",
            "predicted label: 4\n",
            "real label: 5\n",
            "\n",
            "review: ['very', 'good', 'enjoyed']\n",
            "predicted label: 4\n",
            "real label: 5\n",
            "\n",
            "review: ['my', 'husband', 'liked', 'it', 'but', 'i', 'was', 'bored', 'it', 'didn', 't', 'really', 'hold', 'my', 'interest', 'i', 'also', 'felt', 'like', 'the', 'ending', 'could', 'have', 'been', 'wrapped', 'up', 'better']\n",
            "predicted label: 2\n",
            "real label: 3\n",
            "\n",
            "review: ['for', 'years', 'hong', 'kong', 'filmmaker', 'wong', 'kar', 'wai', 'has', 'resisted', 'the', 'lure', 'of', 'the', 'united', 'states', 'content', 'to', 'make', 'his', 'films', 'in', 'his', 'native', 'country', 'with', 'the', 'exception', 'of', 'happy', 'together', 'which', 'was', 'shot', 'in', 'south', 'america', 'without', 'any', 'hollywood', 'movie', 'stars', 'this', 'has', 'changed', 'with', 'my', 'blueberry', 'nights', 'which', 'wong', 'made', 'in', 'america', 'with', 'recognizable', 'names', 'like', 'jude', 'law', 'rachel', 'weisz', 'natalie', 'portman', 'and', 'in', 'her', 'feature', 'film', 'debut', 'singer', 'norah', 'jones', 'however', 'wong', 'hasn', 't', 'exactly', 'sold', 'out', 'he', 'made', 'the', 'film', 'independently', 'and', 'it', 'was', 'then', 'distributed', 'by', 'the', 'weinstein', 'company', 'wong', 's', 'film', 'debuted', 'at', 'the', 'unk', 'cannes', 'film', 'festival', 'to', 'a', 'less', 'than', 'favourable', 'reaction', 'and', 'was', 'quietly', 'given', 'a', 'limited', 'theatrical', 'release', 'and', 'is', 'now', 'out', 'on', 'dvd', 'sadly', 'there', 'is', 'no', 'real', 'chemistry', 'between', 'norah', 'jones', 'and', 'jude', 'law', 'it', 'feels', 'like', 'jones', 'is', 'just', 'saying', 'the', 'lines', 'and', 'not', 'living', 'them', 'there', 'is', 'no', 'emotional', 'depth', 'to', 'her', 'performance', 'as', 'she', 'tries', 'too', 'hard', 'to', 'act', 'and', 'it', 'shows', 'in', 'addition', 'law', 'is', 'simply', 'not', 'believable', 'as', 'a', 'working', 'class', 'cafe', 'owner', 'rachel', 'weisz', 'also', 'seems', 'miscast', 'like', 'she', 's', 'trying', 'out', 'for', 'a', 'boozy', 'foul', 'mouthed', 'role', 'in', 'a', 'production', 'of']\n",
            "predicted label: 2\n",
            "real label: 3\n",
            "\n",
            "review: ['what', 'i', 'saw', 'of', 'movie', 'was', 'good', 'but', 'movie', 'download', 'stopped', 'every', 'unk', 'unk', 'minutes', 'then', 'continual', 'with', 'error', 'message', 'from', 'amazon', 'saying', 'having', 'difficulties', 'had', 'to', 'leave', 'stop', 'movie', 'by', 'time', 'got', 'home', 'next', 'day', 'rental', 'time', 'had', 'expired', 'multiple', 'times', 'this', 'has', 'happened', 'but', 'can', 'switch', 'to', 'netflicks', 'have', 'no', 'problem', 'will', 'not', 'purchase', 'movies', 'from', 'amazon', 'any', 'more', 'if', 'continues', 'on', 'free', 'prime', 'shows', 'will', 'cancel']\n",
            "predicted label: 1\n",
            "real label: 2\n",
            "\n",
            "review: ['this', 'is', 'the', 'story', 'of', 'three', 'women', 'from', 'different', 'eras', 'who', 'share', 'a', 'lot', 'in', 'common', 'pay', 'close', 'attention', 'and', 'don', 't', 'blink', 'or', 'you', 'will', 'lose', 'track']\n",
            "predicted label: 5\n",
            "real label: 4\n",
            "\n",
            "review: ['when', 'it', 'comes', 'to', 'trojan', 'war', 'japanese', 'people', 'are', 'more', 'associated', 'with', 'the', 'biography', 'of', 'heinrich', 'unk', 'or', 'the', 'trojan', 'horse', 'a', 'trick', 'that', 'destroyed', 'the', 'troy', 'than', 'helen', 'of', 'troy', 'who', 'was', 'so', 'beautiful', 'that', 'it', 'became', 'the', 'cause', 'of', 'trojan', 'war', 'in', 'japanese', 'we', 'have', 'similar', 'expression', 'with', 'femme', 'fatale', 'unk', 'no', 'bijo', 'which', 'derived', 'from', 'legendary', 'beauties', 'in', 'china', 'which', 'caused', 'the', 'demise', 'of', 'the', 'chinese', 'empires', 'or', 'dynasties', 'such', 'as', 'yang', 'unk', 'who', 'clouded', 'the', 'judgement', 'of', 'emperor', 'unk', 'of', 'tang', 'dynasty', 'china', 'in', 'mid', 'unk', 'century', 'to', 'me', 'the', 'helen', 'of', 'troy', 'directed', 'by', 'robert', 'wise', 'in', 'unk', 'is', 'more', 'like', 'adult', 'adaptation', 'of', 'romeo', 'and', 'juliet', 'robert', 'wise', 'did', 'modern', 'adaptation', 'of', 'shakespearean', 'play', 'with', 'west', 'side', 'story', 'mythological', 'element', 'was', 'eliminated', 'and', 'made', 'it', 'more', 'like', 'a', 'periodical', 'drama', 'in', 'roman', 'and', 'greek', 'eras', 'the', 'highlight', 'is', 'the', 'presence', 'of', 'trojan', 'horse', 'disguised', 'as', 'a', 'gift', 'to', 'troy', 'but', 'expert', 'soldiers', 'were', 'hidden', 'to', 'launch', 'a', 'surprise', 'attack', 'while', 'it', 'is', 'a', 'nice', 'film', 'to', 'get', 'you', 'interested', 'in', 'the', 'epic', 'which', 'took', 'place', 'more', 'than', 'unk', 'unk', 'years', 'ago', 'it', 'may', 'not', 'be', 'fully', 'satisfactory', 'for', 'both', 'iliad', 'fans', 'and', 'historical', 'buffs']\n",
            "predicted label: 3\n",
            "real label: 4\n",
            "\n",
            "review: ['older', 'movie', 'liked', 'seeing', 'the', 'old', 'actors', 'again', 'but', 'not', 'impressed', 'with', 'it', 'as', 'a', 'whole', 'thought', 'it', 'would', 'be', 'good', 'for', 'my', 'unk', 'year', 'old', 'but', 'it', 'did', 'not', 'keep', 'her', 'attention', 'and', 'she', 'loved', 'aladdin', 'and', 'jasmine']\n",
            "predicted label: 3\n",
            "real label: 1\n",
            "\n",
            "review: ['this', 'is', 'a', 'review', 'of', 'the', 'discs', 'and', 'unk', 'not', 'the', 'series', 'this', 'set', 'comes', 'in', 'unk', 'cases', 'there', 'are', 'unk', 'discs', 'in', 'the', 'first', 'case', 'seasons', 'unk', 'unk', 'and', 'unk', 'discs', 'in', 'the', 'second', 'covering', 'season', 'unk', 'i', 'didn', 't', 'see', 'any', 'scratches', 'on', 'my', 'discs', 'but', 'the', 'posts', 'that', 'are', 'meant', 'to', 'keep', 'them', 'from', 'moving', 'around', 'made', 'it', 'quite', 'difficult', 'to', 'remove', 'them', 'i', 'was', 'worried', 'that', 'i', 'might', 'break', 'the', 'discs', 'just', 'trying', 'to', 'free', 'them', 'i', 'have', 'only', 're', 'watched', 'the', 'first', 'two', 'episodes', 'and', 'they', 'look', 'great', 'played', 'through', 'my', 'unk', 'blu', 'ray', 'and', 'unk', 'tv', 'the', 'colors', 'are', 'bright', 'and', 'clear', 'in', 'fact', 'brighter', 'than', 'i', 'remember', 'when', 'i', 'first', 'saw', 'this', 'series', 'on', 'cable', 'also', 'there', 'are', 'a', 'couple', 'of', 'scenes', 'that', 'were', 'not', 'shown', 'in', 'the', 'cable', 'version', 'but', 'are', 'here', 'on', 'the', 'discs', 'the', 'bad', 'thing', 'about', 'these', 'is', 'that', 'they', 'are', 'english', 'only', 'no', 'subtitles', 'no', 'chapter', 'search', 'you', 'can', 'only', 'pick', 'the', 'episodes', 'and', 'for', 'those', 'that', 'care', 'there', 'are', 'no', 'extras', 'or', 'special', 'features', 'on', 'any', 'of', 'the', 'discs', 'i', 'had', 'to', 'buy', 'these', 'because', 'amazon', 'lost', 'it', 's', 'licensing', 'agreement', 'and', 'i', 'can', 'no', 'longer', 'stream']\n",
            "predicted label: 1\n",
            "real label: 3\n",
            "\n",
            "review: ['one', 'of', 'albert', 'brooks', 's', 'best', 'works', 'and', 'he', 'was', 'a', 'triple', 'threat', 'as', 'writer', 'director', 'and', 'star', 'i', 'highly', 'recommend', 'this', 'film', 'for', 'its', 'originality', 'and', 'execution']\n",
            "predicted label: 5\n",
            "real label: 4\n",
            "\n",
            "review: ['well', 'acted', 'but', 'too', 'depressing', 'for', 'my', 'taste']\n",
            "predicted label: 2\n",
            "real label: 3\n",
            "\n",
            "review: ['i', 'didn', 't', 'get', 'it', 'it', 'seemed', 'that', 'something', 'was', 'missing', 'but', 'i', 'just', 'didn', 't', 'know', 'what', 'it', 'was', 'hopefully', 'other', 'people', 'might', 'get', 'it']\n",
            "predicted label: 3\n",
            "real label: 1\n",
            "\n",
            "review: ['such', 'a', 'great', 'movie', 'and', 'an', 'unforgettable', 'experience', 'that', 'any', 'young', 'family', 'can', 'enjoy', 'the', 'plot', 'is', 'an', 'astounding', 'mix', 'of', 'childhood', 'fantasies', 'and', 's', 'm', 'gretel', 'really', 'made', 'the', 'movie', 'worth', 'watching', 'i', 'love', 'that', 'she', 'had', 'so', 'much', 'character', 'development', 'and', 'was', 'more', 'then', 'just', 'some', 'leather', 'chick', 'thrown', 'into', 'random', 'action', 'scenes', 'every', 'few', 'minutes', 'and', 'the', 'writers', 'did', 'a', 'great', 'job', 'with', 'the', 'plot', ';', 'all', 'five', 'minutes', 'of', 'it', 'an', 'experience', 'no', 'avid', 'movie', 'lover', 'should', 'miss']\n",
            "predicted label: 5\n",
            "real label: 1\n",
            "\n",
            "review: ['kind', 'of', 'artsy', 'twist', 'at', 'end', 'caught', 'me', 'by', 'surprise']\n",
            "predicted label: 3\n",
            "real label: 4\n",
            "\n",
            "review: ['it', 'was', 'just', 'ok']\n",
            "predicted label: 2\n",
            "real label: 3\n",
            "\n",
            "review: ['very', 'good']\n",
            "predicted label: 4\n",
            "real label: 5\n",
            "\n",
            "review: ['a', 'funny', 'comedy']\n",
            "predicted label: 4\n",
            "real label: 3\n",
            "\n",
            "review: ['i', 'think', 'david', 'mamet', 'is', 'brilliant', 'actually', 'just', 'not', 'in', 'film', 'making', 'but', 'in', 'the', 'writing', 'of', 'theatrical', 'plays', 'the', 'problem', 'with', 'this', 'movie', 'is', 'that', 'it', 'looks', 'exactly', 'like', 'a', 'play', 'that', 'has', 'been', 'converted', 'to', 'a', 'movie', 'the', 'dialogue', 'is', 'incredibly', 'artificial', 'nobody', 'talks', 'like', 'that', 'in', 'real', 'life', 'the', 'acting', 'very', 'strange', 'and', 'contrived', 'and', 'the', 'main', 'point', 'of', 'the', 'film', 'turns', 'out', 'to', 'be', 'a', 'red', 'herring', 'i', 'really', 'do', 'like', 'literate', 'films', 'but', 'i', 'guess', 'mamet', 'is', 'an', 'acquired', 'taste', 'unfortunately', 'i', 'found', 'the', 'film', 'just', 'mediocre', 'when', 'all', 'is', 'said', 'and', 'done', 'apologies', 'to', 'all', 'the', 'mamet', 'fans', 'in', 'the', 'world', 'however', 'he', 'has', 'made', 'lots', 'of', 'other', 'good', 'movies', 'this', 'one', 'just', 'didn', 't', 'hit', 'the', 'mark']\n",
            "predicted label: 2\n",
            "real label: 3\n",
            "\n",
            "review: ['meh']\n",
            "predicted label: 2\n",
            "real label: 1\n",
            "\n",
            "review: ['it', 'was', 'unk', 'to', 'learn', 'that', 'these', 'are', 'the', 'stripped', 'down', 'versions', 'as', 'many', 'other', 'people', 'are', 'pointing', 'out', 'also', 'what', 'i', 'would', 'consider', 'a', 'necessary', 'feature', 'is', 'missing', 'from', 'this', 'dvd', 'set', ':', 'play', 'all', 'especially', 'with', 'these', 'chopped', 'up', 'eps', 'do', 'you', 'want', 'to', 'go', 'back', 'and', 'click', 'play', 'every', 'unk', 'minutes', 'any', 'tv', 'show', 'should', 'have', 'a', 'play', 'all', 'feature', 'so', 'that', 'you', 'can', 'just', 'watch', 'all', 'the', 'eps', 'on', 'the', 'dvd', 'straight', 'through', 'without', 'interruption', 'gold', 'stars', 'to', 'the', 'first', 'tv', 'series', 'that', 'only', 'plays', 'the', 'theme', 'song', 'at', 'the', 'beginning', 'of', 'the', 'first', 'ep', 'on', 'each', 'disc', 'during', 'a', 'play', 'all', 'in', 'living', 'color', 'has', 'it', 'and', 'school', 'house', 'rock', 'even', 'has', 'two', 'versions', ':', 'straight', 'through', 'or', 'shuffle', 'the', 'other', 'bonus', 'materials', 'are', 'fun', 'but', 'do', 'not', 'at', 'all', 'compensate', 'for', 'the', 'lacking', 'content', 'and', 'unk', 'feature', ':', 'if', 'you', 'really', 'really', 'must', 'have', 'it', 'then', 'enjoy', 'but', 'if', 'you', 're', 'unsure', 'or', 'devout', 'you', 'll', 'be', 'disappointed', 'and', 'annoyed']\n",
            "predicted label: 3\n",
            "real label: 2\n",
            "\n",
            "review: ['i', 'love', 'history', 'this', 'movie', 'was', 'hard', 'to', 'watch', 'is', 'at', 'least', 'factual', 'about', 'a', 'man', 'who', 'saved', 'his', 'country', 'while', 'brutal', 'at', 'the', 'same', 'time', 'factual']\n",
            "predicted label: 3\n",
            "real label: 5\n",
            "\n",
            "review: ['very', 'long', 'slow', 'movie', 'i', 'did', 'not', 'get', 'the', 'message', 'i', 'was', 'disappointed']\n",
            "predicted label: 2\n",
            "real label: 1\n",
            "\n",
            "review: ['didn', 't', 'care', 'for', 'movie', 'at', 'all']\n",
            "predicted label: 1\n",
            "real label: 2\n",
            "\n",
            "review: ['jodie', 'foster', 's', 'best', 'attempt', 'at', 'acting', 'hopkins', 'was', 'pleasantly', 'fiendish']\n",
            "predicted label: 5\n",
            "real label: 4\n",
            "\n",
            "review: ['no', 'really', 'that', 'exciting']\n",
            "predicted label: 2\n",
            "real label: 3\n",
            "\n",
            "review: ['my', 'wife', 'and', 'daughter', 'enjoyed', 'watching', 'it', 'together', 'very', 'much']\n",
            "predicted label: 5\n",
            "real label: 4\n",
            "\n",
            "review: ['started', 'out', 'interesting', 'enough', 'but', 'then', 'plots', 'dragged', 'on', 'from', 'episode', 'to', 'episode', 'from', 'season', 'to', 'season', 'moving', 'as', 'slowly', 'as', 'a', 'daytime', 'soap', 'opera', 'also', 'annoying', 'was', 'how', 'one', 'episode', 'would', 'leave', 'you', 'hanging', 'with', 'something', 'dramatic', 'only', 'to', 'reverse', 'what', 'one', 'presumed', 'to', 'have', 'happened', 'for', 'example', 'juice', 'hangs', 'himself', 'with', 'a', 'chain', 'at', 'the', 'end', 'of', 'one', 'show', 'and', 'you', 'assume', 'that', 's', 'it', 'for', 'juice', 'then', 'the', 'next', 'episode', 'we', 'find', 'that', 'the', 'chain', 'breaks', 'or', 'comes', 'loose', 'and', 'juice', 'is', 'okay', 'again', 'seriously', 'then', 'clay', 'takes', 'three', 'or', 'four', 'slugs', 'to', 'the', 'chest', 'and', 'we', 'assume', 'that', 's', 'it', 'for', 'clay', 'then', 'in', 'the', 'next', 'episode', 'he', 's', 'sitting', 'up', 'in', 'the', 'hospital', 'on', 'the', 'road', 'to', 'recovery', 'and', 'eventually', 'back', 'in', 'the', 'club', 'after', 'lasting', 'unk', 'seasons', 'waiting', 'for', 'clay', 'to', 'get', 'what', 'he', 'deserved', 'i', 'feel', 'like', 'the', 'writers', 'jumped', 'the', 'shark', 'in', 'bringing', 'him', 'back', 'but', 'they', 'didn', 't', 'bring', 'me', 'back', 'if', 'i', 'want', 'a', 'farce', 'i', 'll', 'watch', 'the', 'marx', 'brothers', 'oh', 'yeah', 'and', 'jax', 'please', 'stop', 'telling', 'your', 'girlfriend', 'to', 'trust', 'me', 'i', 'm', 'not', 'going', 'to', 'let', 'anything', 'happen', 'to', 'you', 'then', 'she', 'gets', 'kidnapped', 'a', 'career', 'ending']\n",
            "predicted label: 2\n",
            "real label: 1\n",
            "\n",
            "review: ['so', 'now', 'the', 'marple', 'series', 'are', 'no', 'longer', 'available', 'through', 'prime', 'this', 'is', 'most', 'disappointing', 'while', 'the', 'marple', 'set', 'is', 'usually', 'quite', 'far', 'off', 'script', 'from', 'the', 'christie', 'books', 'they', 'are', 'entertaining', 'i', 'can', 't', 'believe', 'both', 'these', 'and', 'the', 'poirot', 'series', 'are', 'not', 'part', 'of', 'the', 'prime', 'offerings', 'and', 'with', 'no', 'notice', 'shame', 'on', 'you', 'amazon']\n",
            "predicted label: 1\n",
            "real label: 4\n",
            "\n",
            "review: ['waste', 'of', 'good', 'talent', 'on', 'a', 'poor', 'premise', 'followed', 'up', 'by', 'a', 'poor', 'entire', 'rest', 'of', 'the', 'movie']\n",
            "predicted label: 2\n",
            "real label: 1\n",
            "\n",
            "review: ['where', 'is', 'part', 'unk', 'tears', 'are', 'not', 'enough', 'is', 'a', 'two', 'part', 'episode', 'but', 'amazon', 'seems', 'to', 'be', 'missing', 'the', 'season', 'finale']\n",
            "predicted label: 1\n",
            "real label: 3\n",
            "\n",
            "review: ['i', 'won', 't', 'lie', ':', 'the', 'only', 'reason', 'i', 'purchased', 'sling', 'blade', 'was', 'because', 'i', 'adore', 'dwight', 'yoakam', 'who', 'turns', 'in', 'a', 'delightfully', 'wicked', 'performance', 'as', 'the', 'evil', 'doyle', 'unk', 'i', 'honestly', 'really', 'didn', 't', 'expect', 'much', 'from', 'the', 'film', 'when', 'i', 'first', 'bought', 'it', 'not', 'surprisingly', 'i', 'ultimately', 'got', 'a', 'lot', 'out', 'of', 'sling', 'blade', 'on', 'the', 'surface', 'it', 's', 'dark', 'hard', 'to', 'understand', 'and', 'seemingly', 'pointless', 'at', 'times', 'beneath', 'the', 'surface', 'however', 'it', 's', 'intelligent', 'meaningful', 'and', 'true', 'to', 'human', 'nature', 'sling', 'blade', 'will', 'be', 'sure', 'to', 'make', 'you', 'examine', 'yourself', 'and', 'think', 'about', 'true', 'selfless', 'sacrifice']\n",
            "predicted label: 5\n",
            "real label: 4\n",
            "\n",
            "review: ['it', 's', 'not', 'hallmark', 's', 'best', 'but', 'they', 'are', 'all', 'enjoyable', 'movies', 'and', 'i', 'm', 'glad', 'to', 'have', 'purchased', 'them', 'i', 'was', 'a', 'good', 'buy']\n",
            "predicted label: 4\n",
            "real label: 3\n",
            "\n",
            "review: ['i', 'm', 'not', 'a', 'young', 'woman', 'but', 'i', 'usually', 'catch', 'on', 'pretty', 'quickly', 'this', 'video', 'was', 'too', 'hard', 'for', 'me', 'to', 'follow', 'and', 'i', 'gave', 'up', 'frustrated', 'it', 'would', 'be', 'great', 'for', 'someone', 'who', 'is', 'younger', 'fitter', 'and', 'has', 'some', 'hip', 'hop', 'dance', 'in', 'their', 'blood', 'for', 'me', 'i', 'was', 'never', 'trained', 'in', 'hip', 'hop', 'and', 'never', 'even', 'tried', 'it', 'so', 'it', 'was', 'just', 'beyond', 'me']\n",
            "predicted label: 2\n",
            "real label: 3\n",
            "\n",
            "review: ['i', 'used', 'to', 'love', 'this', 'movie', 'as', 'a', 'kid', 'the', 'movie', 'was', 'exactly', 'as', 'advertised', 'and', 'worked', 'and', 'played', 'perfect']\n",
            "predicted label: 5\n",
            "real label: 4\n",
            "\n",
            "review: ['following', 'the', 'original', 'halloween', 'from', 'director', 'john', 'carpenter', 'in', 'unk', 'this', 'franchise', 'had', 'for', 'all', 'intents', 'and', 'purposes', 'succumbed', 'to', 'the', 'very', 'same', 'unk', 'that', 'have', 'befallen', 'virtually', 'every', 'other', 'horror', 'franchise', 'in', 'existence', 'what', 'this', 'means', 'is', 'that', 'the', 'series', 'that', 'birthed', 'the', 'very', 'sub', 'genre', 'it', 'exists', 'within', 'had', 'become', 'nothing', 'more', 'than', 'another', 'lame', 'slasher', 'franchise', 'cranking', 'out', 'useless', 'sequel', 'after', 'sequel', 'paying', 'little', 'attention', 'to', 'the', 'fact', 'that', 'the', 'stories', 'were', 'fast', 'becoming', 'old', 'and', 'tired', 'in', 'unk', 'after', 'the', 'sixth', 'film', 'in', 'the', 'series', 'massively', 'disappointed', 'audiences', 'the', 'future', 'for', 'the', 'franchise', 'no', 'doubt', 'lay', 'in', 'question', 'not', 'to', 'mention', 'the', 'impending', 'twentieth', 'anniversary', 'of', 'the', 'original', 'halloween', 'loomed', 'on', 'the', 'horizon', 'and', 'it', 'was', 'looking', 'as', 'if', 'the', 'date', 'would', 'be', 'remembered', 'with', 'little', 'to', 'no', 'fanfare', 'however', 'all', 'of', 'that', 'changed', 'in', 'the', 'summer', 'of', 'unk', 'when', 'original', 'star', 'jamie', 'lee', 'curtis', 'unk', 'her', 'role', 'of', 'laurie', 'strode', 'for', 'the', 'seventh', 'installment', 'in', 'the', 'series', 'halloween', 'unk', ':', 'unk', 'years', 'later', 'halloween', 'unk', ':', 'unk', 'years', 'later', 'is', 'essentially', 'summed', 'up', 'by', 'the', 'title', 'basically', 'unk', 'years', 'after', 'the', 'terrible', 'events', 'that', 'victimized', 'laurie', 'strode', 'she', 'continues', 'to', 'live', 'in', 'fear', 'of', 'the']\n",
            "predicted label: 1\n",
            "real label: 4\n",
            "\n",
            "review: ['in', 'this', 'chilling', 'tale', 'based', 'on', 'a', 'story', 'by', 'horror', 'master', 'h', 'p', 'lovecraft', 'an', 'isolated', 'desert', 'town', 'has', 'been', 'ravaged', 'for', 'years', 'by', 'grotesque', 'creatures', 'who', 'dwell', 'in', 'the', 'depths', 'beneath', 'the', 'local', 'cemetery', 'cathryn', 'farrel', 'returns', 'to', 'this', 'miserable', 'place', 'with', 'one', 'goal', 'in', 'mind', ':', 'to', 'avenge', 'the', 'brutal', 'death', 'of', 'her', 'beloved', 'sister', 'by', 'the', 'creatures', 'in', 'the', 'midst', 'of', 'a', 'storm', 'she', 'wires', 'the', 'decaying', 'graveyard', 'with', 'enough', 'explosives', 'to', 'blow', 'the', 'entire', 'undead', 'population', 'back', 'to', 'hell', 'for', 'good', 'young', 'john', 'martens', 'shows', 'up', 'with', 'his', 'own', 'score', 'to', 'settle', 'his', 'mission', 'is', 'to', 'recover', 'a', 'fortune', 'in', 'loot', 'buried', 'somewhere', 'in', 'the', 'cemetery', 'by', 'his', 'now', 'dead', 'father', 'before', 'the', 'night', 'is', 'through', 'these', 'two', 'strangers', 'find', 'themselves', 'unlikely', 'allies', 'in', 'an', 'effort', 'to', 'defend', 'themselves', 'against', 'the', 'hungry', 'undead', 'as', 'well', 'as', 'an', 'equally', 'deadly', 'gang', 'of', 'misfits', 'who', 'aim', 'to', 'beat', 'john', 'to', 'the', 'hidden', 'cache', 'in', 'a', 'terrifying', 'bone', 'chilling', 'clash', 'they', 'battle', 'with', 'ghouls', 'in', 'a', 'blood', 'soaked', 'finale']\n",
            "predicted label: 4\n",
            "real label: 5\n",
            "\n",
            "review: ['claymation', 'fans', 'and', 'parents', 'alike', 'will', 'marvel', 'at', 'the', 'unk', 'of', 'the', 'image', 'quality', 'and', 'the', 'heart', 'felt', 'stories']\n",
            "predicted label: 4\n",
            "real label: 5\n",
            "\n",
            "review: ['this', 'item', 'is', 'not', 'as', 'advertised', 'this', 'states', 'complete', 'television', 'series', 'it', 'does', 'not', 'contain', 'the', 'first', 'four', 'episodes', 'there', 'are', 'a', 'total', 'of', 'unk', 'episodes', 'and', 'disk', 'unk', 'starts', 'with', 'episode', 'unk', 'melt', 'down', 'unk', 'unk', 'man', 'from', 'atlantis', 'unk', 'unk', 'the', 'death', 'scouts', 'unk', 'unk', 'the', 'killer', 'spores', 'and', 'unk', 'unk', 'the', 'disappearances', 'are', 'not', 'included']\n",
            "predicted label: 1\n",
            "real label: 3\n",
            "\n",
            "review: ['when', 'i', 'got', 'the', 'dvd', 'of', 'this', 'movie', 'today', 'i', 'thought', 'well', 'let', 's', 'see', 'how', 'josh', 'hartnett', 'does', 'as', 'a', 'villian', 'i', 'was', 'very', 'surprised', 'at', 'how', 'unlikable', 'and', 'yet', 'sympathetic', 'his', 'hugo', 'was', 'phifer', 'was', 'excellent', 'as', 'odin', 'and', 'stiles', 'was', 'good', 'as', 'always', 'as', 'desi', 'not', 'quite', 'a', 'powerful', 'as', 'oliver', 'parker', 's', 'unk', 'edition', 'but', 'o', 'was', 'certainly', 'more', 'relevant', 'after', 'the', 'columbine', 'shootings', 'the', 'reason', 'this', 'movie', 'sat', 'on', 'the', 'shelf', 'for', 'unk', 'years', 'i', 'really', 'became', 'engrossed', 'with', 'the', 'storyline', 'and', 'found', 'it', 'refreshing', 'to', 'see', 'hartnett', 'play', 'someone', 'not', 'so', 'nice']\n",
            "predicted label: 4\n",
            "real label: 3\n",
            "\n",
            "review: ['giving', 'this', 'film', 'as', 'a', 'gift', 'several', 'times', 'is', 'my', 'way', 'of', 'spreading', 'the', 'word', 'about', 'a', 'film', 'whose', 'story', 'dialog', 'acting', 'and', 'cinematography', 'deserve', 'attention', 'with', 'enjoyment', 'the', 'reward', 'for', 'that', 'attention']\n",
            "predicted label: 5\n",
            "real label: 4\n",
            "\n",
            "review: ['trite']\n",
            "predicted label: 2\n",
            "real label: 1\n",
            "\n",
            "review: ['a', 'few', 'laughs', 'but', 'not', 'as', 'funny', 'as', 'i', 'was', 'expecting', 'just', 'wait', 'watch', 'on', 'movie', 'channel', 'for', 'free']\n",
            "predicted label: 2\n",
            "real label: 1\n",
            "\n",
            "review: ['samuel', 'l', 'jackson', 'christina', 'ricci', 'do', 'a', 'great', 'job', 'even', 'justin', 'unk', 'gives', 'a', 'decent', 'acting', 'performance', 'but', 'the', 'film', 'goes', 'nowhere', 'needed', 'moe', 'of', 'a', 'story', 'worth', 'watching', 'just', 'to', 'see', 'crs', 'twins']\n",
            "predicted label: 3\n",
            "real label: 2\n",
            "\n",
            "review: ['after', 'hearing', 'all', 'the', 'great', 'buzz', 'about', 'ghost', 'world', 'i', 'decided', 'to', 'check', 'it', 'out', 'with', 'some', 'friends', 'one', 'night', 'thank', 'god', 'we', 'rented', 'it', 'instead', 'of', 'buying', 'or', 'shelling', 'out', 'the', 'cash', 'to', 'go', 'see', 'it', 'in', 'the', 'theater', 'steve', 'buscemi', 'gives', 'one', 'of', 'the', 'best', 'performances', 'of', 'his', 'career', 'he', 's', 'the', 'reason', 'for', 'at', 'least', 'unk', 'of', 'the', 'stars', 'for', 'this', 'movie', 'as', 'an', 'aging', 'outcast', 'loner', 'going', 'completely', 'against', 'his', 'usual', 'type', 'of', 'either', 'freaky', 'comedic', 'relief', 'or', 'freaky', 'creep', 'he', 'turns', 'in', 'a', 'very', 'emotionally', 'engaging', 'performance', 'we', 'end', 'up', 'feeling', 'for', 'this', 'guy', 'and', 'really', 'honestly', 'wish', 'that', 'his', 'life', 'could', 'have', 'ended', 'up', 'better', 'aspects', 'of', 'this', 'movie', 'were', 'smartly', 'hilarious', 'in', 'one', 'scene', 'a', 'sunburnt', 'idiot', 'loitering', 'outside', 'of', 'a', 'convenience', 'store', 'ends', 'up', 'in', 'a', 'physical', 'fight', 'with', 'the', 'store', 's', 'owner', ':', 'his', 'unk', 'swung', 'nunchucks', 'against', 'the', 'exasperated', 'shopkeeper', 's', 'ratty', 'old', 'mop', 'while', 'the', 'first', 'half', 'of', 'the', 'movie', 'got', 'the', 'occasional', 'laugh', 'the', 'rest', 'sort', 'of', 'just', 'melted', 'and', 'went', 'nowhere', 'the', 'plot', 'fizzles', 'out', 'by', 'then', 'end', 'leaving', 'the', 'viewer', 'completely', 'unsatisfied', 'with', 'the', 'conclusion', 'the', 'near', 'pedophilia', 'relationship', 'between', 'the', 'aging', 'buscemi', 'and', 'the', 'high']\n",
            "predicted label: 2\n",
            "real label: 3\n",
            "\n",
            "review: ['good', 'movie', 'unfortunately', 'the', 'wide', 'screen', 'version', 'side', 'freezes', ';', 'so', 'i', 'can', 'only', 'view', 'film', 'on', 'the', 'tv', 'box', 'format']\n",
            "predicted label: 4\n",
            "real label: 1\n",
            "\n",
            "review: ['the', 'best', 'of', 'steve', 'martin', 's', 'early', 'comedies', 'dr', 'unk', 'falls', 'for', 'and', 'marries', 'a', 'beautiful', 'patient', 'who', 'happens', 'to', 'be', 'just', 'a', 'bit', 'evil', 'understatement', 'he', 'finds', 'true', 'love', 'with', 'a', 'disembodied', 'brain', 'anne', 'unk', 'voiced', 'by', 'sissy', 'unk', 'not', 'exactly', 'highbrow', 'comedy', 'but', 'plenty', 'of', 'laughs']\n",
            "predicted label: 5\n",
            "real label: 4\n",
            "\n",
            "review: ['its', 'ok', 'nothing', 'great', 'i', 'don', 't', 'think', 'people', 'back', 'then', 'had', 'perfect', 'white', 'teeth', 'and', 'perfect', 'hair', 'all', 'the', 'time', 'lol']\n",
            "predicted label: 3\n",
            "real label: 2\n",
            "\n",
            "review: ['i', 'knew', 'what', 'i', 'was', 'getting', 'when', 'i', 'made', 'this', 'purchased', 'a', 'very', 'chessy', 'scifi', 'movie', 'that', 'it', 'was', 'i', 'liked', 'it', 'not', 'loved', 'it']\n",
            "predicted label: 3\n",
            "real label: 4\n",
            "\n",
            "review: ['yes', 'i', 'really', 'liked', 'this', 'movie', 'i', 'don', 't', 'care', 'about', 'all', 'the', 'criticism', 'it', 'generated', 'when', 'it', 'first', 'came', 'out', 'i', 'liked', 'the', 'personalities', 'and', 'chemistry', 'between', 'melanie', 'griffith', 's', 'and', 'michael', 'douglas', 's', 'characters', 'as', 'well', 'as', 'the', 'suspenseful', 'storyline', 'the', 'costume', 'set', 'and', 'of', 'course', 'the', 'wonderful', 'music', 'in', 'spite', 'of', 'the', 'flaws', 'per', 'the', 'critics', 'of', 'the', 'movie', 'it', 'was', 'the', 'emotional', 'messages', 'of', 'love', 'courage', 'and', 'family', 'bonds', 'that', 'rang', 'clear', 'for', 'me']\n",
            "predicted label: 5\n",
            "real label: 4\n",
            "\n",
            "review: ['then', 'again', 'what', 'did', 'you', 'expect', 'with', 'the', 'unk', 'or', 'werewolf', 'movie', 'ever', 'made', 'originality', 'a', 'plot', 'twists', 'comeon', 'people', 'you', 've', 'seen', 'it', 'all', 'so', 'stop', 'complaining', 'as', 'if', 'you', 'could', 'have', 'done', 'a', 'better', 'movie', 'or', 'that', 'this', 'movie', 'wasn', 't', 'any', 'different', 'of', 'course', 'it', 'wasn', 't', 'just', 'like', 'many', 'vampire', 'mummy', 'movies', 'it', 'was', 'great', 'though', 'in', 'terms', 'of', 'the', 'acting', 'by', 'christina', 'ricci', 'and', 'others', 'special', 'effects', 'were', 'a', 'mix', 'bag', 'some', 'longer', 'and', 'more', 'in', 'depth', 'transformations', 'would', 'have', 'been', 'great', 'but', 'for', 'what', 'we', 'get', 'it', 's', 'good', 'the', 'spooks', 'and', 'thrills', 'were', 'there', 'i', 'give', 'wes', 'and', 'the', 'writers', 'credit', 'for', 'at', 'least', 'giving', 'some', 'good', 'thrills', 'here', 'it', 's', 'not', 'a', 'total', 'flop', 'nor', 'is', 'it', 'a', 'total', 'winner', 'however', 'if', 'you', 're', 'looking', 'for', 'a', 'movie', 'to', 'waste', 'away', 'time', 'with', 'and', 'see', 'some', 'ok', 'werewolf', 'gore', 'and', 'effects', 'cursed', 'is', 'the', 'movie', 'for', 'you']\n",
            "predicted label: 3\n",
            "real label: 2\n",
            "\n",
            "review: ['too', 'much', 'nudity', 'for', 'my', 'tastes', 'reading', 'about', 'it', 'is', 'one', 'thing', 'but', 'a', 'actually', 'seeing', 'it', 'is', 'disturbing', 'to', 'me', 'forgot', 'that', 'it', 'is', 'an', 'hbo', 'series', 'other', 'than', 'the', 'nudity', 'sex', 'i', 'enjoy', 'the', 'story', 'am', 'reading', 'the', 'unk', 'book', 'at', 'this', 'time']\n",
            "predicted label: 4\n",
            "real label: 3\n",
            "\n",
            "review: ['the', 'movie', 'is', 'bad', 'but', 'you', 'must', 'admit', 'the', 'boy', 'flipping', 'and', 'then', 'saying', 'pancakes', 'makes', 'the', 'film', 'its', 'a', 'wonder', 'how', 'bad', 'movies', 'get', 'made', 'but', 'it', 'is', 'pure', 'comedy', 'it', 'is', 'the', 'trapped', 'in', 'the', 'closet', 'of', 'horror', 'films', 'but', 'i', 'm', 'going', 'to', 'target', 'now', 'to', 'buy', 'it', 'consumerism', 'is', 'crazy', 'it', 'sucks', 'but', 'its', 'worth', 'a', 'look', 'it', 'really', 'is', 'bad', 'but', 'the', 'biting', 'boy', 'is', 'what', 'sells', 'me']\n",
            "predicted label: 3\n",
            "real label: 2\n",
            "\n",
            "review: ['how', 'could', 'this', 'fail', 'with', 'such', 'stellar', 'cast']\n",
            "predicted label: 5\n",
            "real label: 4\n",
            "\n",
            "review: ['good', 'family', 'movie', 'about', 'a', 'son', 'and', 'his', 'father', 'the', 'lovely', 'relationship', 'with', 'his', 'grandson', 'the', 'adults', 'all', 'need', 'to', 'find', 'peace', 'in', 'their', 'lives', 'because', 'they', 'have', 'drifted', 'apart']\n",
            "predicted label: 4\n",
            "real label: 2\n",
            "\n",
            "review: ['the', 'original', 'recording', 'that', 'was', 'unk', 'by', 'unk', 'is', 'bettter', 'than', 'this']\n",
            "predicted label: 2\n",
            "real label: 4\n",
            "\n",
            "review: ['oh', 'it', 'is', 'formulaic', 'predictable', 'and', 'i', 'hate', 'the', 'gather', 'everyone', 'together', 'in', 'the', 'end', 'so', 'the', 'brilliance', 'may', 'shine', 'forth', 'moment', 'but', 'the', 'cast', 'is', 'affable', 'the', 'setting', 'is', 'attractive', 'and', 'even', 'the', 'faux', 'culture', 'clash', 'this', 'series', 'promotes', 'gives', 'the', 'plot', 'predictability', 'a', 'gentle', 'twist', 'that', 'makes', 'this', 'okay', 'to', 'watch', 'for', 'those', 'of', 'us', 'desperate', 'enough', 'and', 'who', 'are', 'waiting', 'for', 'another', 'season', 'of', 'inspector', 'lewis', 'or', 'vera', 'or', 'case', 'histories', 'to', 'appear', 'to', 'give', 'anything', 'a', 'shot']\n",
            "predicted label: 2\n",
            "real label: 3\n",
            "\n",
            "review: ['i', 'enjoyed', 'the', 'story', 'and', 'the', 'characters', 'but', 'wanted', 'a', 'better', 'ending']\n",
            "predicted label: 3\n",
            "real label: 4\n",
            "\n",
            "review: ['ok']\n",
            "predicted label: 3\n",
            "real label: 2\n",
            "\n",
            "review: ['ingmar', 'bergman', 's', 'lesser', 'known', 'unk', 'film', 'is', 'on', 'the', 'surface', 'a', 'cleverly', 'conceived', 'battle', 'of', 'wits', 'between', 'a', 'mid', 'nineteenth', 'century', 'traveling', 'magician', 'and', 'a', 'small', 'hamlet', 's', 'minister', 'of', 'health', 'there', 's', 'more', 'than', 'a', 'mere', 'contest', 'of', 'faith', 'and', 'reason', 'within', 'the', 'larger', 'tale', 'of', 'deception', 'and', 'manipulation', 'for', 'bergman', 'there', 's', 'a', 'parallel', 'sub', 'text', 'that', 'was', 'close', 'to', 'his', 'heart', ':', 'the', 'battle', 'between', 'critics', 'and', 'artists', 'max', 'von', 'unk', 'stars', 'as', 'dr', 'unk', 'traveling', 'unk', 'and', 'peddler', 'of', 'potions', 'who', 'comes', 'up', 'against', 'the', 'rational', 'minister', 'of', 'health', 'dr', 'unk', 'gunnar', 'unk', 'beautifully', 'photographed', 'in', 'rich', 'velvety', 'black', 'and', 'white', 'this', 'fable', 'is', 'both', 'funny', 'and', 'frightening', 'from', 'one', 'of', 'the', 'masters', 'of', 'world', 'cinema', 'the', 'criterion', 'blu', 'ray', 'disc', 'features', 'generous', 'extras', 'including', 'rare', 'audio', 'interviews', 'with', 'bergmann', 'from', 'unk', 'this', 'ultimate', 'transfer', 'is', 'a', 'must', 'have', 'for', 'any', 'bergman', 'fan']\n",
            "predicted label: 5\n",
            "real label: 4\n",
            "\n",
            "review: ['maybe', 'it', 'was', 'because', 'of', 'the', 'hype', 'maybe', 'it', 'was', 'because', 'i', 'had', 'high', 'expectations', 'but', 'man', 'this', 'film', 'was', 'disappointing']\n",
            "predicted label: 2\n",
            "real label: 1\n",
            "\n",
            "review: ['not', 'true', 'to', 'the', 'book', 'but', 'it', 'is', 'a', 'guilty', 'pleasure', 'of', 'mine']\n",
            "predicted label: 3\n",
            "real label: 2\n",
            "\n",
            "review: ['the', 'acting', 'is', 'poor', 'the', 'ending', 'is', 'disappointing', 'because', 'it', 'doesn', 't', 'follow', 'the', 'novella', 'at', 'all', 'hollywood', 'doesn', 't', 'like', 'dead', 'babies', 'my', 'students', 'did', 'enjoy', 'this', 'movie', 'and', 'they', 'were', 'let', 'down', 'with', 'the', 'ending', 'lukas', 'haas', 'did', 'a', 'terrible', 'job', 'playing', 'kino']\n",
            "predicted label: 1\n",
            "real label: 2\n",
            "\n",
            "review: ['ok']\n",
            "predicted label: 3\n",
            "real label: 2\n",
            "\n",
            "review: ['this', 'is', 'a', 'great', 'movie', 'the', 'one', 'thing', 'you', 'should', 'be', 'aware', 'of', 'is', 'that', 'it', 'does', 'not', 'come', 'with', 'the', 'unk', 'glasses', 'and', 'you', 'have', 'to', 'have', 'specific', 'glasses', 'for', 'the', 'movie', 'which', 'they', 'do', 'give', 'you', 'the', 'phone', 'number', 'to', 'order', 'them', 'but', 'my', 'son', 'was', 'disappointed', 'when', 'the', 'movie', 'came', 'and', 'then', 'had', 'wait', 'to', 'see', 'it', 'in', 'unk', 'and', 'was', 'a', 'hassell', 'for', 'me', 'as', 'well']\n",
            "predicted label: 4\n",
            "real label: 3\n",
            "\n",
            "review: ['this', 'film', 'is', 'fortunate', 'in', 'that', 'it', 'is', 'built', 'round', 'the', 'very', 'strong', 'central', 'performance', 'of', 'russell', 'crowe', 'otherwise', 'its', 'credibility', 'would', 'have', 'been', 'compromised', 'by', 'a', 'series', 'of', 'blunders', 'inexcusable', 'is', 'such', 'a', 'big', 'budget', 'undertaking', 'from', 'such', 'an', 'experienced', 'director', 'to', 'make', 'a', 'list', 'seems', 'churlish', 'so', 'i', 'will', 'do', 'so', 'unk', 'the', 'sounds', 'of', 'the', 'battle', 'scenes', 'are', 'so', 'obviously', 'dubbed', 'on', 'afterwards', 'the', 'battle', 'scenes', 'are', 'very', 'ambitious', 'full', 'marks', 'to', 'scott', 'for', 'having', 'a', 'go', 'at', 'showing', 'what', 'it', 'is', 'really', 'like', 'in', 'battle', 'but', 'the', 'dubbed', 'soundtrack', 'invasive', 'music', 'and', 'good', 'grief', 'even', 'dialogue', 'out', 'of', 'synch', 'just', 'make', 'this', 'look', 'silly', 'unk', 'the', 'plot', 'is', 'predictable', 'it', 'is', 'obvious', 'the', 'son', 'will', 'kill', 'caesar', 'obvious', 'that', 'gladiator', 'will', 'spurn', 'the', 'new', 'caesar', 'obvious', 'he', 'will', 'escape', 'execution', 'and', 'obvious', 'his', 'family', 'will', 'be', 'killed', 'unk', 'the', 'characters', 'are', 'unk', 'the', 'same', 'few', 'people', 'we', 'have', 'seen', 'in', 'every', 'roman', 'empire', 'film', 'from', 'ben', 'hur', 'to', 'the', 'present', 'day', 'you', 'almost', 'expect', 'unk', 'to', 'pop', 'out', 'and', 'begin', 'the', 'prologue', 'unk', 'the', 'scene', 'where', 'the', 'boy', 'is', 'trampled', 'by', 'horses', 'is', 'predictable', 'and', 'it', 'looks', 'like', 'they', 'are', 'using', 'a', 'dummy', 'unk', 'the', 'opening']\n",
            "predicted label: 2\n",
            "real label: 4\n",
            "\n",
            "review: ['i', 'watch', 'this', 'twice', 'for', 'the', 'price', 'it', 'was', 'good', 'sweet', 'nice', 'non', 'violent', 'entertainment', 'it', 'is', 'so', 'horrible', 'to', 'see', 'what', 'has', 'happened', 'to', 'our', 'movies', 'some', 'unk', 'years', 'later', 'but', 'these', 'ladies', 'did', 'their', 'sex', 'good', 'by', 'being', 'virtuous', 'at', 'least', 'in', 'the', 'movie', 'can', 't', 'say', 'that', 'their', 'privates', 'lives', 'were', 'anything', 'to', 'rave', 'about', 'even', 'back', 'then', 'especially', 'et', 'people', 'will', 'be', 'people', 'left', 'to', 'their', 'own', 'devices', 'and', 'unk', 'recommended']\n",
            "predicted label: 4\n",
            "real label: 5\n",
            "\n",
            "review: ['this', 'is', 'a', 'really', 'funny', 'underrated', 'comedy']\n",
            "predicted label: 5\n",
            "real label: 4\n",
            "\n",
            "review: ['great', 'exploitation', 'movie', 'the', 'melting', 'hobos', 'are', 'great', 'not', 'as', 'bloody', 'as', 'i', 'expected', 'but', 'there', 'is', 'alot', 'of', 'neon', 'colored', 'ooze', 'and', 'puss', 'so', 'its', 'still', 'gross']\n",
            "predicted label: 4\n",
            "real label: 5\n",
            "\n",
            "review: ['more', 'uneven', 'than', 'season', 'one', 'the', 'unk', 'season', 'has', 'some', 'great', 'human', 'moments', 'some', 'hilarious', 'riffs', 'and', 'some', 'tedious', 'scenes', 'we', 'feel', 'jess', 'is', 'overdone', 'making', 'it', 'seem', 'unbelievable', 'than', 'intelligent', 'verbal', 'rory', 'could', 'possible', 'find', 'him', 'appealing']\n",
            "predicted label: 3\n",
            "real label: 4\n",
            "\n",
            "review: ['being', 'a', 'huge', 'trek', 'fan', 'i', 'm', 'glad', 'to', 'see', 'that', 'paramount', 'is', 'releasing', 'all', 'of', 'the', 'classic', 'episodes', 'on', 'dvd', 'and', 'they', 'are', 'all', 'digitally', 'enhanced', 'and', 'remastered', 'from', 'their', 'special', 'edition', 'showing', 'on', 'the', 'sci', 'fi', 'channel', 'which', 'brings', 'up', 'the', 'biggest', 'problem', 'i', 've', 'got', 'with', 'them', 'so', 'far', 'the', 'sci', 'fi', 'channel', 'changed', 'the', 'opening', 'credits', 'on', 'several', 'of', 'the', 'earliest', 'episodes', 'before', 'a', 'massive', 'outcry', 'caused', 'them', 'to', 'restore', 'the', 'credits', 'to', 'the', 'way', 'they', 'should', 'be', 'i', 'figured', 'when', 'the', 'dvds', 'came', 'out', 'paramount', 'would', 'see', 'the', 'error', 'of', 'their', 'ways', 'and', 'restore', 'the', 'original', 'credits', 'not', 'so', 'here', 'charlie', 'x', 'features', 'the', 'new', 'credits', 'sequence', 'as', 'a', 'different', 'version', 'of', 'the', 'classic', 'theme', 'if', 'you', 'listen', 'closely', 'you', 'can', 'tell', 'thankfully', 'this', 'error', 'is', 'corrected', 'on', 'later', 'releases', 'but', 'surely', 'paramount', 'should', 'have', 'known', 'that', 'if', 'anything', 'we', 'trekkers', 'are', 'meticulous', 'about', 'details', 'concerning', 'our', 'favorite', 'show', 'not', 'that', 'this', 'should', 'turn', 'you', 'off', 'of', 'these', 'magnificent', 'dvds', 'the', 'digitally', 'enhancement', 'and', 'super', 'sound', 'more', 'than', 'make', 'up', 'for', 'any', 'minor', 'defects', 'and', 'charlie', 'x', 'and', 'balance', 'of', 'terror', 'are', 'two', 'of', 'the', 'finer', 'early', 'entries', 'from', 'the', 'star', 'trek', 'universe', 'charlie', 'is']\n",
            "predicted label: 5\n",
            "real label: 4\n",
            "\n",
            "review: ['corny', 'at', 'best']\n",
            "predicted label: 2\n",
            "real label: 1\n",
            "\n",
            "review: ['this', 'movie', 'makes', 'me', 'pee', 'my', 'pants', 'every', 'time', 'i', 'watch', 'it', 'just', 'the', 'irony', 'and', 'humor', 'used', 'to', 'make', 'it', 'such', 'a', 'funny', 'movie', 'love', 'it', 'it', 'was', 'shipped', 'quickly', 'and', 'i', 'recieved', 'it', 'in', 'no', 'time']\n",
            "predicted label: 5\n",
            "real label: 4\n",
            "\n",
            "review: ['got', 'ta', 'watch', 'some', 'black', 'comedy', 'on', 'streaming']\n",
            "predicted label: 4\n",
            "real label: 3\n",
            "\n",
            "review: ['being', 'that', 'scary', 'non', 'gore', 'movies', 'are', 'a', 'favorite', 'i', 'was', 'excited', 'to', 'see', 'this', 'movie', 'what', 'a', 'disappointment', 'the', 'story', 'and', 'concepts', 'are', 'current', 'and', 'relevant', ';', 'however', 'the', 'acting', 'was', 'horrid', 'the', 'beginning', 'was', 'a', 'bit', 'freaky', 'and', 'escalated', 'my', 'interest', 'until', 'acting', 'beyond', 'one', 'scene', 'was', 'required', 'there', 'didn', 't', 'seem', 'to', 'be', 'any', 'chemistry', 'between', 'any', 'of', 'the', 'characters', 'it', 'was', 'like', 'watching', 'the', 'actors', 'play', 'their', 'characters', 'individually', 'without', 'any', 'connection', 'to', 'the', 'other', 'actors', 'characters', 'this', 'movie', 'could', 'have', 'been', 'really', 'good', 'i', 'wish', 'i', 'waited', 'for', 'it', 'to', 'hit', 'prime', 'before', 'i', 'watched', 'it', 'i', 'would', 'not', 'recommend', 'paying', 'for', 'this', 'movie']\n",
            "predicted label: 1\n",
            "real label: 2\n",
            "\n",
            "review: ['if', 'you', 'simply', 'want', 'the', 'value', 'of', 'having', 'this', 'title', 'in', 'your', 'collection', 'this', 'version', 'is', 'acceptable', 'for', 'the', 'price', 'but', 'this', 'is', 'by', 'no', 'means', 'the', 'kind', 'of', 'version', 'you', 'expect', 'for', 'a', 'dvd', 'tranfer', 'color', 'is', 'washed', 'out', 'and', 'noticable', 'unk', 'are', 'evidence', 'of', 'an', 'old', 'original', 'film', 'as', 'source', 'the', 'price', 'matches', 'what', 'is', 'delivered', 'but', 'if', 'you', 'want', 'a', 'restored', 'version', 'expect', 'to', 'pay', 'for', 'it']\n",
            "predicted label: 3\n",
            "real label: 2\n",
            "\n",
            "review: ['blah', 'blah', 'blah']\n",
            "predicted label: 1\n",
            "real label: 3\n",
            "\n",
            "review: ['bad', 'acting']\n",
            "predicted label: 1\n",
            "real label: 2\n",
            "\n",
            "review: ['es', 'una', 'buena', 'novela', 'pero', 'lastimosamente', 'no', 'ponen', 'todos', 'los', 'capitulos', 'demasiados', 'cortes', 'yo', 'vi', 'esta', 'novela', 'cuando', 'salio', 'en', 'tv', 'y', 'recuerdo', 'muchas', 'cosas', 'que', 'definitivamente', 'no', 'estan', 'en', 'estaos', 'dvds', 'es', 'una', 'lastima', 'que', 'no', 'la', 'pongan', 'completa']\n",
            "predicted label: 1\n",
            "real label: 3\n",
            "\n",
            "review: ['pretty', 'wild']\n",
            "predicted label: 3\n",
            "real label: 4\n",
            "\n",
            "review: ['personally', 'i', 'enjoyed', 'all', 'stars', 'but', 'kind', 'of', 'got', 'tired', 'of', 'all', 'the', 'tribe', 'swapping', 'anyways', 'this', 'is', 'a', 'good', 'dvd', 'should', 'be', 'much', 'better', 'than', 'the', 'season', 'one', 'dvd', 'they', 'better', 'put', 'others', 'on', 'dvd']\n",
            "predicted label: 3\n",
            "real label: 4\n",
            "\n",
            "review: ['i', 've', 'been', 'told', 'by', 'several', 'of', 'my', 'friends', 'that', 'this', 'is', 'an', 'excellent', 'movie', 'well', 'i', 'saw', 'unk', 'seasons', 'and', 'hated', 'them', 'but', 'i', 'was', 'told', 'that', 'this', 'was', 'different', 'it', 'wasn', 't', 'it', 'was', 'the', 'same', 'old', 'washed', 'up', 'storylines', 'and', 'poor', 'writing', 'sailor', 'moon', 'isn', 't', 'a', 'quality', 'anime', 'it', 'has', 'neither', 'the', 'interesting', 'unk', 'and', 'interactions', 'that', 'have', 'kept', 'inuyasha', 'from', 'falling', 'into', 'the', 'unk', 'or', 'unk', 'star', 'range', 'nor', 'the', 'brilliant', 'writing', 'that', 'make', 'fullmetal', 'alchemist', 'and', 'cowboy', 'bebop', 'some', 'of', 'the', 'best', 'examples', 'of', 'modern', 'anime', 'skip', 'this', 'theres', 'nothing', 'remarkable', 'here']\n",
            "predicted label: 1\n",
            "real label: 2\n",
            "\n",
            "review: ['the', 'cd', 'unk', 'was', 'fine', 'cd', 'unk', 'and', 'unk', 'appear', 'to', 'be', 'damaged', 'they', 'skip', 'and', 'become', 'blurred', 'while', 'playing', 'i', 'thought', 'it', 'was', 'the', 'tv', 'which', 'i', 'purchased', 'in', 'april', 'so', 'i', 'replaced', 'it', 'but', 'the', 'cd', 's', 'still', 'won', 't', 'play', 'thru', 'i', 'know', 'i', 'am', 'beyond', 'the', 'return', 'date', 'but', 'thought', 'you', 'd', 'want', 'to', 'know', 'anne']\n",
            "predicted label: 1\n",
            "real label: 2\n",
            "\n",
            "review: ['the', 'script', 'was', 'terrible', 'and', 'seemed', 'like', 'a', 'made', 'for', 'tv', 'movie', 'it', 'made', 'otherwise', 'decent', 'actors', 'seem', 'completely', 'out', 'of', 'their', 'element', 'not', 'to', 'mention', 'the', 'extremely', 'odd', 'casting', 'choices', 'paring', 'kiefer', 'sutherland', 'with', 'his', 'father', 'donald', 'sutherland', 'might', 'seem', 'like', 'a', 'cool', 'idea', 'you', 'd', 'think', 'they', 'd', 'play', 'well', 'on', 'screen', 'except', 'that', 'they', 'have', 'completely', 'different', 'acting', 'styles', 'which', 'makes', 'every', 'interaction', 'of', 'theirs', 'painful', 'again', 'this', 'is', 'mostly', 'the', 'script', 's', 'fault', 'as', 'it', 'could', 'have', 'been', 'written', 'in', 'a', 'way', 'that', 'bought', 'out', 'both', 'of', 'their', 'strengths', 'on', 'screen', 'a', 'potpourri', 'of', 'western', 'cliches', 'weak', 'characters', 'and', 'a', 'story', 'that', 's', 'been', 'rehashed', 'countless', 'times', 'skip', 'it']\n",
            "predicted label: 1\n",
            "real label: 2\n",
            "\n",
            "review: ['this', 'is', 'one', 'in', 'a', 'series', 'of', 'posted', 'reviews', 'for', 'every', 'alice', 'in', 'wonderland', 'title', 'available', 'on', 'amazon', 'when', 'the', 'tim', 'burton', 'rendition', 'of', 'aiw', 'with', 'johnny', 'depp', 'was', 'due', 'out', 'in', 'unk', 'i', 'thought', 'it', 'might', 'be', 'a', 'good', 'time', 'to', 'go', 'back', 'and', 'watch', 'the', 'benchmark', 'walt', 'disney', 'production', 'from', 'unk', 'which', 'i', 'saw', 'or', 'assumed', 'i', 'saw', 'as', 'a', 'child', 'it', 'was', 'a', 'chance', 'to', 'get', 'reacquainted', 'with', 'the', 'many', 'varied', 'characters', 'from', 'the', 'story', 'as', 'sort', 'of', 'a', 'warm', 'up', 'for', 'the', 'burton', 'film', 'upon', 'viewing', 'the', 'disney', 'classic', 'i', 'was', 'astonished', 'to', 'realize', 'that', 'i', 'had', 'likely', 'never', 'seen', 'more', 'than', 'a', 'few', 'clips', 'at', 'most', 'of', 'that', 'beautifully', 'rendered', 'alice', 'in', 'wonderland', 'so', 'much', 'seemed', 'brand', 'new', 'nor', 'did', 'i', 'have', 'a', 'memory', 'of', 'ever', 'seeing', 'any', 'other', 'alice', 'production', 'then', 'i', 'realized', 'that', 'i', 'had', 'never', 'read', 'the', 'book', 'wait', 'a', 'minute', 'where', 'then', 'did', 'my', 'memory', 'of', 'the', 'alice', 'story', 'come', 'from', 'the', 'curiosity', 'sparked', 'by', 'that', 'question', 'ultimately', 'led', 'me', 'over', 'the', 'next', 'two', 'years', 'to', 'accumulate', 'every', 'version', 'of', 'alice', 'in', 'wonderland', 'still', 'in', 'existence', 'well', 'over', 'unk', 'by', 'the', 'way', 'this', 'general', 'commentary', 'continues', 'as', 'a', 'posted', 'review', 'for']\n",
            "predicted label: 2\n",
            "real label: 4\n",
            "\n",
            "review: ['the', 'tennessee', 'tuxedo', 'cartoons', 'unk', 'unk', 'unk', 'made', 'in', 'all', 'are', 'herewith', 'presented', 'with', 'just', 'one', 'opening', 'segment', 'while', 'the', 'rest', 'just', 'run', 'into', 'each', 'other', 'with', 'no', 'closing', 'segment', 'these', 'eps', 'are', 'all', 'culled', 'from', 'the', 'first', 'season', 'but', 'done', 'and', 'presented', 'in', 'this', 'way', 'they', 'are', 'terribly', 'dry', 'clinical', 'and', 'humourless', 'these', 'cartoons', 'worked', 'best', 'when', 'they', 'ran', 'with', 'other', 'cartoons', 'like', 'underdog', 'and', 'even', 'jay', 'ward', 'segments', 'from', 'rocky', 'and', 'bullwinkle', 'while', 'the', 'cartoons', 'themselves', 'look', 'very', 'good', 'the', 'only', 'extras', 'are', 'some', 'riddles', 'and', 'some', 'audio', 'outtakes', 'from', 'the', 'original', 'recording', 'session', 'so', 'while', 'the', 'mention', 'of', 'tennessee', 'may', 'bring', 'back', 'fond', 'memories', 'of', 'his', 'friends', 'unk', 'prof', 'know', 'it', 'all', 'with', 'his', 'unk', 'blackboard', 'unk', 'yak', 'baldy', 'the', 'eagle', 'etc', ';', 'for', 'all', 'you', 'baby', 'boomers', 'out', 'there', 'i', 'would', 'give', 'this', 'dvd', 'a', 'wide', 'pass', 'it', 'is', 'guaranteed', 'not', 'to', 'bring', 'back', 'any', 'fond', 'memories', 'of', 'the', 'show', 'and', 'in', 'fact', 'you', 'may', 'wonder', 'what', 'you', 'ever', 'liked', 'about', 'it', 'at', 'all', 'thanks', 'sony', 'for', 'nothing']\n",
            "predicted label: 2\n",
            "real label: 1\n",
            "\n",
            "review: ['unk', 'in', 'unk', 'unk', 'unk', 'days', 'guess', 'i', 'am', 'close', 'the', 'warehouse', 'my', 'husband', 'will', 'be', 'thrilled', 'for', 'valentines', 'day', 'he', 'just', 'started', 'watching', 'the', 'series', 'and', 'is', 'addicted', 'i', 'was', 'going', 'to', 'buy', 'the', 'package', 'deal', 'offered', 'for', 'series', 'unk', 'unk', 'but', 'after', 'calculating', 'it', 'was', 'about', 'unk', 'unk', 'dollars', 'cheaper', 'to', 'by', 'them', 'separate', 'and', 'check', 'off', 'ship', 'together', 'got', 'all', 'unk', 'for', 'unk', 'unk', 'that', 'is', 'with', 'shipping', 'the', 'set', 'offered', 'is', 'unk', 'unk', 'with', 'out', 'shipping', 'and', 'is', 'not', 'a', 'boxed', 'collectors', 'set', 'it', 'would', 'be', 'the', 'same', 'exact', 'ones', 'i', 'received', 'really', 'great', 'deal']\n",
            "predicted label: 3\n",
            "real label: 4\n",
            "\n",
            "review: ['i', 'was', 'originally', 'unk', 'about', 'watching', 'this', 'film', 'the', 'main', 'reason', 'being', 'tom', 'cruise', 'i', 'knew', 'that', 'with', 'a', 'larger', 'than', 'life', 'star', 'such', 'as', 'cruise', 'starring', 'in', 'a', 'movie', 'like', 'this', 'the', 'focus', 'would', 'be', 'on', 'him', 'and', 'not', 'on', 'the', 'other', 'characters', 'guess', 'what', 'i', 'was', 'right', 'even', 'if', 'i', 'enjoyed', 'the', 'film', 'immensely', 'i', 'was', 'so', 'disappointed', 'with', 'the', 'treatment', 'of', 'the', 'other', 'samurai', 'warriors', 'apart', 'from', 'unk', 'unk', 'particularly', 'should', 'have', 'been', 'given', 'more', 'screen', 'time', 'ken', 'watanabe', 'and', 'hiroyuki', 'sanada', 'were', 'exceptional', 'actually', 'all', 'the', 'japanese', 'actors', 'did', 'great', 'jobs', 'as', 'actors', 'but', 'tom', 'cruise', 'being', 'the', 'mega', 'superstar', 'that', 'he', 'is', 'naturally', 'became', 'the', 'focus', 'of', 'every', 'single', 'scene', 'he', 'was', 'in', 'a', 'less', 'popular', 'actor', 'than', 'tom', 'cruise', 'would', 'have', 'been', 'so', 'much', 'better', 'for', 'the', 'film', 'since', 'most', 'of', 'the', 'time', 'i', 'had', 'some', 'real', 'difficulty', 'seeing', 'the', 'character', 'capt', 'nathan', 'unk', 'and', 'not', 'the', 'movie', 'star', 'tom', 'cruise', 'i', 'thought', 'the', 'title', 'of', 'the', 'film', 'was', 'the', 'last', 'samurai', 'not', 'the', 'last', 'american', 'civil', 'war', 'veteran', 'who', 'came', 'to', 'japan', 'and', 'pretended', 'to', 'be', 'a', 'samurai']\n",
            "predicted label: 3\n",
            "real label: 4\n",
            "\n",
            "review: ['i', 'have', 'seen', 'april', 'fools', 'day', 'and', 'like', 'it', 'very', 'much', 'but', 'i', 'have', 'not', 'seen', 'my', 'bloody', 'valentine', 'but', 'thats', 'not', 'the', 'reason', 'i', 'write', 'this', 'amazon', 'has', 'this', 'movie', 'priced', 'to', 'high', 'i', 'bought', 'this', 'movie', 'set', 'at', 'walmart', 'in', 'moore', 'oklahoma', 'for', 'unk', 'unk', 'thats', 'quite', 'a', 'bit', 'of', 'price', 'difference', 'especially', 'when', 'you', 'add', 'in', 'shipping']\n",
            "predicted label: 5\n",
            "real label: 3\n",
            "\n",
            "review: ['sub', 'titles']\n",
            "predicted label: 1\n",
            "real label: 2\n",
            "\n",
            "review: ['if', 'you', 'have', 'any', 'comments', 'on', 'my', 'trick', 'or', 'treats', 'of', 'tom', 'and', 'jerry', 'review', 'here', 'are', 'the', 'following', 'directions', ':', 'unk', 'leave', 'a', 'helpful', 'or', 'unhelpful', 'vote', 'unk', 'leave', 'a', 'comment', 'thank', 'you', 'p', 's', 'tom', 'and', 'jerry', 'sucks']\n",
            "predicted label: 5\n",
            "real label: 2\n",
            "\n",
            "review: ['okay', 'this', 'movie', 'stinks', 'i', 'have', 'watched', 'many', 'low', 'budget', 'foreign', 'films', 'and', 'have', 'enjoyed', 'them', 'not', 'this', 'one', 'it', 'is', 'just', 'plain', 'boring', 'scarlet', 'drives', 'around', 'in', 'a', 'van', 'in', 'scotland', 'looking', 'for', 'human', 'males', 'i', 'know', 'some', 'of', 'the', 'art', 'house', 'crowd', 'have', 'been', 'giving', 'this', 'unk', 'star', 's', 'i', 'm', 'sorry', 'this', 'is', 'just', 'crap', 'you', 'have', 'been', 'warned']\n",
            "predicted label: 1\n",
            "real label: 2\n",
            "\n",
            "review: ['i', 'only', 'watched', 'one', 'episode', 'didn', 't', 'care', 'for', 'it']\n",
            "predicted label: 1\n",
            "real label: 2\n",
            "\n",
            "review: ['yul', 'was', 'better', 'on', 'broadway']\n",
            "predicted label: 2\n",
            "real label: 5\n",
            "\n",
            "review: ['this', 'film', 'covers', 'in', 'a', 'limited', 'sense', 'what', 'the', 'celluloid', 'closet', 'covers', 'more', 'professionally', 'and', 'comprehensively', 'the', 'title', 'refers', 'to', 'the', 'reel', 'of', 'gay', 'and', 'homoerotic', 'scenes', 'from', 'hudson', 's', 'studio', 'films', 'that', 'he', 'compiled', 'for', 'showing', 'to', 'his', 'friends', 'at', 'parties', 'there', 'are', 'no', 'candid', 'home', 'movie', 'clips', 'no', 'shots', 'of', 'rock', 'by', 'the', 'pool', 'rock', 'and', 'tab', 'hunter', 'playing', 'croquet', 'or', 'of', 'anyone', 'dressed', 'in', 'women', 's', 'clothes', 'if', 'you', 'can', 'surmount', 'that', 'disappointment', 'it', 'should', 'be', 'noted', 'that', 'the', 'studio', 'clips', 'are', 'mostly', 'of', 'extremely', 'poor', 'quality', 'as', 'if', 'photographed', 'from', 'a', 'tv', 'screen', 'on', 'top', 'of', 'that', 'the', 'film', 'has', 'an', 'amateurish', 'quality', 'a', 'not', 'very', 'similar', 'looking', 'actor', 'plays', 'rock', 'speaking', 'from', 'the', 'world', 'beyond', 'sometimes', 'with', 'his', 'image', 'inserted', 'into', 'the', 'frame', 'with', 'the', 'real', 'rock', 'hudson', 'i', 'm', 'sure', 'for', 'some', 'viewers', 'these', 'qualities', 'will', 'give', 'the', 'film', 'a', 'sort', 'of', 'underground', 'cult', 'classic', 'feeling', 'and', 'add', 'to', 'its', 'appeal', 'i', 'found', 'such', 'effects', 'distracting', 'and', 'annoying', 'on', 'top', 'of', 'this', 'there', 'are', 'no', 'interesting', 'new', 'revelations', 'about', 'hudson', 'or', 'about', 'a', 'hollywood', 'lavender', 'underworld', 'all', 'stones', 'were', 'left', 'unturned', 'even', 'so', 'rock', 'hudson', 's', 'home', 'movies', 'did', 'make', 'me', 'appreciate', 'the', 'sheer']\n",
            "predicted label: 2\n",
            "real label: 3\n",
            "\n",
            "review: ['a', 'great', 'anthology', 'of', 'tyrone', 'power', 's', 'work', 'for', 'those', 'who', 'like', 'the', 'golden', 'era', 'of', 'the', 'silver', 'screen', 'this', 'is', 'an', 'excellent', 'collection']\n",
            "predicted label: 5\n",
            "real label: 3\n",
            "\n",
            "review: ['not', 'a', 'good', 'movie']\n",
            "predicted label: 1\n",
            "real label: 2\n",
            "\n",
            "review: ['this', 'documentary', 'is', 'comprised', 'of', 'a', 'series', 'of', 'interviews', 'with', 'a', 'number', 'of', 'radicals', 'over', 'twenty', 'years', 'after', 'their', 'periods', 'of', 'action', 'subsided', 'we', 'see', 'how', 'that', 'a', 'movement', 'which', 'began', 'legitimately', 'in', 'the', 'pursuit', 'of', 'civil', 'rights', 'and', 'free', 'speech', 'ended', 'with', 'a', 'group', 'of', 'shallow', 'narcissistic', 'and', 'self', 'righteous', 'babyboomers', 'on', 'a', 'crusade', 'to', 'acquire', 'power', 'attention', 'and', 'status', 'by', 'any', 'means', 'necessary', 'the', 'sixties', 'began', 'the', 'slow', 'rise', 'of', 'emotion', 'over', 'reason', 'which', 'has', 'corrupted', 'america', 'and', 'eroded', 'our', 'core', 'american', 'values', 'these', 'students', 'wanted', 'to', 'fight', 'the', 'power', 'but', 'it', 'was', 'not', 'long', 'before', 'they', 'became', 'the', 'power', 'and', 'brought', 'socialism', 'conformity', 'and', 'political', 'correctness', 'with', 'them', 'to', 'our', 'businesses', 'academies', 'and', 'government', 'they', 'railed', 'against', 'the', 'establishment', 'and', 'now', 'they', 'are', 'the', 'establishment', 'how', 'great', 'it', 'would', 'be', 'if', 'today', 's', 'college', 'students', 'would', 'question', 'authority', 'and', 'stand', 'up', 'to', 'the', 'radicals', 'of', 'the', 'sixties', 'who', 'attempt', 'to', 'indoctrinate', 'them', 'in', 'the', 'classrooms', 'of', 'our', 'politicized', 'universities', 'the', 'most', 'hilarious', 'moment', 'in', 'the', 'film', 'was', 'when', 'the', 'students', 'campaigning', 'for', 'free', 'speech', 'destroyed', 'a', 'sign', 'that', 'said', 'that', 'mario', 'savio', 'was', 'a', 'communist', 'they', 'had', 'no', 'sense', 'of', 'irony', 'because', 'what', 'they', 'were', 'advocating', 'was']\n",
            "predicted label: 4\n",
            "real label: 1\n",
            "\n",
            "review: ['it', 's', 'alright', 'but', 'too', 'long']\n",
            "predicted label: 3\n",
            "real label: 1\n",
            "\n",
            "review: ['good', 'hollywood', 'auto', 'chase', 'entertainment']\n",
            "predicted label: 4\n",
            "real label: 3\n",
            "\n",
            "review: ['enjoyed', 'the', 'movie', 'but', 'was', 'not', 'to', 'crazy', 'about', 'the', 'unk']\n",
            "predicted label: 3\n",
            "real label: 4\n",
            "\n",
            "review: ['i', 'have', 'never', 'read', 'dune', 'or', 'any', 'of', 'the', 'accompanying', 'books', 'when', 'i', 'first', 'seen', 'the', 'regular', 'version', 'on', 'the', 'sci', 'fi', 'channel', 'i', 'was', 'a', 'bit', 'confused', 'a', 'few', 'of', 'the', 'scenes', 'didn', 't', 'make', 'much', 'sense', 'and', 'i', 'was', 'left', 'missing', 'the', 'overall', 'moral', 'of', 'the', 'story', 'in', 'itself', 'essentially', 'the', 'story', 'begins', 'with', 'unk', 'family', 'and', 'the', 'numerous', 'political', 'intrigues', 'revolving', 'around', 'the', 'production', 'and', 'gathering', 'of', 'spice', 'an', 'essential', 'element', 'in', 'the', 'universe', 'sort', 'of', 'like', 'oil', 'duke', 'leto', 'unk', 'is', 'sent', 'by', 'royal', 'command', 'of', 'the', 'emperor', 'of', 'the', 'universe', 'to', 'take', 'control', 'of', 'the', 'spice', 'production', 'on', 'the', 'barren', 'planet', 'of', 'unk', 'once', 'the', 'family', 'which', 'includes', 'the', 'duke', 's', 'concubine', 'and', 'his', 'son', 'arrive', 'on', 'the', 'planet', 'a', 'plot', 'to', 'overthrow', 'them', 'is', 'soon', 'hatched', 'by', 'the', 'duke', 's', 'enemy', 'the', 'unk', 'family', 'the', 'plot', 'succeeds', 'and', 'the', 'duke', 'is', 'killed', 'paul', 'unk', 'the', 'duke', 's', 'son', 'and', 'his', 'mother', 'the', 'concubine', 'are', 'sent', 'helpless', 'into', 'the', 'desert', 'they', 'soon', 'find', 'help', 'from', 'the', 'battle', 'harden', 'unk', 'the', 'unk', 'are', 'a', 'tribe', 'of', 'warriors', 'who', 'are', 'awaiting', 'the', 'coming', 'of', 'a', 'messiah', 'to', 'end', 'their', 'long', 'and', 'fruitless', 'struggle', 'against', 'unk', 'and', 'the']\n",
            "predicted label: 3\n",
            "real label: 4\n",
            "\n",
            "review: ['the', 'soundtrack', 'dates', 'the', 'movie', 'in', 'a', 'bad', 'way', 'and', 'some', 'of', 'the', 'scenes', 'should', 'have', 'been', 'shorter', 'editing', 'the', 'story', 'has', 'potential', 'but', 'needs', 'to', 'be', 'flushed', 'out', 'rewrite', 'i', 'will', 'say', 'that', 'the', 'one', 'saving', 'grace', 'in', 'this', 'movie', 'is', 'the', 'acting', 'okay', 'i', 'will', 'never', 'let', 'my', 'sister', 'talk', 'me', 'into', 'another', 'movie']\n",
            "predicted label: 2\n",
            "real label: 1\n",
            "\n",
            "review: ['just', 'ok']\n",
            "predicted label: 2\n",
            "real label: 3\n",
            "\n",
            "review: ['this', 'film', 'is', 'almost', 'exactly', 'like', 'a', 'were', 'wolf', 'film', 'except', 'the', 'people', 'turn', 'into', 'large', 'black', 'cats', 'i', 'think', 'they', 're', 'leopards', 'malcolm', 'mcdowell', 'unk', 'unk', 'kinski', 'to', 'new', 'orleans', 'they', 're', 'siblings', 'who', 've', 'not', 'seen', 'each', 'other', 'for', 'some', 'time', 'on', 'the', 'were', 'wolf', 'theme', 'these', 'people', 'don', 't', 'turn', 'at', 'the', 'coming', 'of', 'the', 'full', 'moon', 'rather', 'when', 'they', 'have', 'sex', 'they', 'become', 'cats', 'malcolm', 'long', 'ago', 'realised', 'that', 'only', 'having', 'sex', 'with', 'his', 'sister', 'will', 'prevent', 'this', 'transformation', 'apparently', 'they', 'd', 'be', 'able', 'to', 'without', 'bother', 'only', 'mating', 'with', 'a', 'human', 'will', 'produce', 'the', 'change', 'anyway', 'although', 'that', 'all', 'sounds', 'rather', 'silly', 'this', 'film', 'is', 'darkly', 'erotic', 'anyway', 'especially', 'when', 'unk', 'runs', 'wild', 'and', 'naked', 'through', 'the', 'dark', 'forest']\n",
            "predicted label: 3\n",
            "real label: 4\n",
            "\n",
            "review: ['i', 'bought', 'my', 'boyfriend', 'a', 'copy', 'of', 'this', 'movie', 'since', 'we', 'both', 'loved', 'watching', 'it', 'as', 'kids', 'it', 's', 'a', 'good', 'price', 'for', 'a', 'good', 'movie', ';', 'couldn', 't', 'be', 'happier']\n",
            "predicted label: 5\n",
            "real label: 4\n",
            "\n",
            "review: ['very', 'sad', 'it', 'was', 'taken', 'off', 'prime', 'one', 'of', 'the', 'main', 'reasons', 'i', 'got', 'prime']\n",
            "predicted label: 2\n",
            "real label: 1\n",
            "\n",
            "review: ['honestly', 'didn', 't', 'make', 'it', 'very', 'far', 'into', 'this', 'before', 'i', 'turned', 'it', 'off', 'jaws', 'is', 'one', 'of', 'my', 'all', 'time', 'favorite', 'movies', 'but', 'the', 'only', 'similarities', 'is', 'that', 'orca', 'had', 'water', 'and', 'a', 'fish', 'too']\n",
            "predicted label: 2\n",
            "real label: 1\n",
            "\n",
            "review: ['good', 'action', 'scenes']\n",
            "predicted label: 3\n",
            "real label: 4\n",
            "\n",
            "review: ['most', 'of', 'the', 'funny', 'scenes', 'were', 'the', 'ones', 'they', 'showed', 'on', 'the', 'trailer', 'after', 'that', 'it', 'was', 'just', 'a', 'lot', 'of', 'fluff', 'cohen', 's', 'borat', 'movie', 'was', 'the', 'best', 'by', 'a', 'mile', 'it', 's', 'hard', 'to', 'come', 'even', 'close', 'to', 'topping', 'that', 'one']\n",
            "predicted label: 3\n",
            "real label: 1\n",
            "\n",
            "review: ['couldn', 't', 'even', 'hold', 'my', 'interest']\n",
            "predicted label: 1\n",
            "real label: 2\n",
            "\n",
            "review: ['i', 'love', 'almost', 'all', 'slayers', 'but', 'this', 'one', 'is', 'the', 'worst', 'i', 've', 'seen', 'the', 'dubbing', 'is', 'completely', 'terrible', 'and', 'adv', 'didn', 't', 'even', 'get', 'ortiz', 'and', 'the', 'change', 'the', 'dragon', 'slave', 'way', 'to', 'much', 'and', 'where', 'did', 'this', 'other', 'sword', 'of', 'light', 'come', 'from', 'what', 'happend', 'to', 'being', 'only', 'one']\n",
            "predicted label: 1\n",
            "real label: 3\n",
            "\n",
            "review: ['good', 'story', 'but', 'far', 'too', 'much', 'gratuitous', 'cursing', 'dropping', 'the', 'f', 'word', 'in', 'every', 'other', 'sentence', 'distracts', 'from', 'rather', 'than', 'adds', 'to', 'the', 'enjoyment']\n",
            "predicted label: 2\n",
            "real label: 3\n",
            "\n",
            "review: ['the', 'ring', 'is', 'best', 'viewed', 'for', 'its', 'subconsciously', 'affecting', 'elements', 'anytime', 'the', 'film', 'strays', 'into', 'an', 'area', 'where', 'logic', 'is', 'required', 'it', 'falters', 'but', 'the', 'chills', 'which', 'it', 'provides', 'are', 'quite', 'intense', 'if', 'you', 'll', 'let', 'them', 'be', 'the', 'film', 's', 'plot', 'which', 'need', 'not', 'be', 'summarized', 'here', 'in', 'great', 'detail', 'since', 'others', 'have', 'done', 'it', 'before', 'and', 'better', 'concerns', 'a', 'videotape', 'which', 'kills', 'its', 'viewers', 'in', 'seven', 'days', 'our', 'heroine', 'is', 'a', 'journalist', 'trying', 'to', 'keep', 'the', 'tape', 'from', 'killing', 'herself', 'and', 'her', 'son', 'now', 'the', 'first', 'truly', 'frightening', 'part', 'of', 'this', 'film', 'is', 'that', 'killer', 'videotape', 'itself', 'using', 'a', 'mixture', 'of', 'elements', 'lifted', 'from', 'freudian', 'psychology', 'and', 'inserted', 'into', 'frightening', 'settings', 'it', 'is', 'quite', 'disturbing', 'in', 'a', 'way', 'that', 'is', 'hard', 'to', 'pin', 'down', 'what', 'exactly', 'is', 'so', 'sinister', 'about', 'a', 'ladder', 'leaning', 'against', 'a', 'blank', 'wall', 'or', 'a', 'woman', 'slowly', 'brushing', 'her', 'hair', 'somehow', 'these', 'mundane', 'elements', 'become', 'subtly', 'chilling', 'unk', 'the', 'video', 'resembles', 'unk', 's', 'un', 'chien', 'unk', 'but', 'uses', 'such', 'a', 'surreal', 'effect', 'to', 'much', 'more', 'disturbing', 'ends', 'whereas', 'unk', 's', 'film', 'was', 'just', 'calculated', 'weirdness', 'the', 'killer', 'videotape', 'might', 'stay', 'with', 'you', 'when', 'you', 'try', 'to', 'fall', 'asleep', 'at', 'night', 'after', 'seeing', 'this', 'film']\n",
            "predicted label: 4\n",
            "real label: 3\n",
            "\n",
            "review: ['i', 'guess', 'you', 'could', 'say', 'i', 'm', 'a', 'lars', 'von', 'trier', 'fan', 'this', 'being', 'the', 'fifth', 'film', 'of', 'his', 'i', 've', 'seen', 'the', 'best', 'by', 'far', 'is', 'breaking', 'the', 'waves', 'but', 'this', 'one', 'was', 'an', 'utter', 'disappointment', 'i', 'was', 'curious', 'to', 'see', 'how', 'he', 'would', 'pull', 'off', 'a', 'comedy', 'but', 'there', 'is', 'only', 'one', 'joke', 'told', 'seventeen', 'different', 'ways', 'i', 'laughed', 'the', 'first', 'time', 'the', 'actors', 'who', 'do', 'their', 'best', 'are', 'wasted', 'the', 'camera', 'roams', 'around', 'looking', 'for', 'something', 'to', 'do', 'in', 'short', 'a', 'good', 'one', 'to', 'skip']\n",
            "predicted label: 1\n",
            "real label: 2\n",
            "\n",
            "review: ['very', 'good', 'movie', 'to', 'watch']\n",
            "predicted label: 4\n",
            "real label: 5\n",
            "\n",
            "review: ['this', 'movie', 'is', 'kind', 'of', 'cheesy', 'but', 'worth', 'watching', 'once', 'what', 'is', 'really', 'cool', 'is', 'the', 'vintage', 'black', 'and', 'white', 'film', 'on', 'youtube', 'of', 'billy', 'mill', 's', 'run', 'in', 'the', 'olympics', 'totally', 'amazing', 'run']\n",
            "predicted label: 4\n",
            "real label: 3\n",
            "\n",
            "review: ['i', 'don', 't', 'want', 'anyone', 'to', 'misunderstand', 'this', 'what', 'is', 'included', 'is', 'great', 'but', 'unfortunately', 'many', 'of', 'the', 'original', 'shows', 'were', 'left', 'out', 'by', 'warner', 'i', 'am', 'sure', 'they', 'have', 'their', 'reasons', 'but', 'for', 'the', 'price', 'of', 'this', 'collection', 'it', 'is', 'very', 'hard', 'to', 'give', 'more', 'than', 'unk', 'stars', 'especially', 'when', 'the', 'shows', 'omitted', 'are', 'some', 'of', 'the', 'best', 'ones', 'if', 'it', 'were', 'half', 'the', 'price', 'i', 'would', 'give', 'it', 'unk', 'stars', 'and', 'if', 'it', 'were', 'complete', 'i', 'would', 'give', 'it', 'unk', 'that', 'said', 'i', 'still', 'think', 'this', 'is', 'worth', 'having', 'if', 'you', 'are', 'a', 'scooby', 'fan', 'my', 'kids', 'love', 'it', 'and', 'it', 'is', 'nice', 'to', 'have', 'longer', 'episodes', ';', 'especially', 'ones', 'without', 'scrappy', 'this', 'is', 'all', 'pre', 'scrappy', 'and', 'it', 'is', 'fun', 'having', 'so', 'many', 'stars', 'thrown', 'in', 'with', 'the', 'gang']\n",
            "predicted label: 4\n",
            "real label: 3\n",
            "\n",
            "review: ['after', 'two', 'pilots', 'columbo', ':', 'prescription', 'for', 'murder', 'aired', 'in', 'february', 'unk', 'and', 'columbo', 'collector', 's', 'edition', ':', 'ransom', 'for', 'a', 'dead', 'man', 'aired', 'in', 'march', 'unk', 'the', 'first', 'episode', 'of', 'columbo', 'murder', 'by', 'the', 'book', 'was', 'finally', 'broadcasted', 'on', 'sept', 'unk', 'unk', 'it', 's', 'also', 'possible', 'to', 'watch', 'this', 'episode', 'in', 'the', 'dvd', 'standard', 'by', 'purchasing', 'columbo', 'the', 'complete', 'first', 'season', 'i', 'was', 'somewhat', 'anxious', 'before', 'watching', 'murder', 'by', 'the', 'book', 'because', 'i', 'feared', 'that', 'the', 'pleasure', 'i', 'had', 'during', 'the', 'seventies', 'to', 'watch', 'columbo', 'on', 'tv', 'was', 'only', 'associated', 'with', 'my', 'teen', 'years', 'and', 'hadn', 't', 'pass', 'the', 'test', 'of', 'time', 'how', 'was', 'i', 'wrong', 'the', 'quality', 'of', 'this', 'episode', 'is', 'undeniable', 'even', 'measured', 'according', 'to', 'our', 'actual', 'standards', 'steven', 'spielberg', 'who', 'directed', 'murder', 'by', 'the', 'book', 'was', 'already', 'yeasty', 'in', 'his', 'direction', 'he', 'managed', 'to', 'create', 'a', 'suspense', 'drama', 'during', 'the', 'first', 'unk', 'minutes', 'of', 'the', 'episode', 'while', 'everybody', 'had', 'already', 'understood', 'since', 'the', 'first', 'unk', 'seconds', 'of', 'murder', 'by', 'the', 'book', 'that', 'jim', 'ferris', 'would', 'be', 'murdered', 'by', 'ken', 'franklin', 'the', 'suspense', 'simply', 'lied', 'in', 'the', 'fact', 'that', 'we', 'didn', 't', 'know', 'how', 'ferris', 'would', 'do', 'it', 'spielberg', 'with', 'a', 'few', 'unk', 'scenes', 'compelled', 'us', 'to']\n",
            "predicted label: 4\n",
            "real label: 5\n",
            "\n",
            "review: ['yet', 'another', 'found', 'footage', 'disaster', 'the', 'idea', 'to', 'attract', 'attention', 'to', 'ecological', 'problems', 'is', 'good', 'and', 'is', 'probably', 'inspired', 'by', 'the', 'oil', 'spill', 'in', 'the', 'gulf', 'but', 'the', 'movie', 'is', 'impossible', 'to', 'watch', 'because', 'it', 'is', 'so', 'amateur', 'camera', 'work', 'and', 'acting', 'both', 'are', 'non', 'professional']\n",
            "predicted label: 2\n",
            "real label: 1\n",
            "\n",
            "review: ['this', 'movie', 'has', 'received', 'universally', 'abysmal', 'reviews', 'so', 'i', 'thought', 'i', 'might', 'like', 'it', 'i', 'was', 'right', 'this', 'is', 'really', 'no', 'more', 'vapid', 'than', 'most', 'action', 'movies', 'i', 'think', 'there', 'has', 'been', 'more', 'than', 'a', 'little', 'female', 'bashing', 'going', 'on', 'in', 'these', 'reviews', 'the', 'public', 'can', 't', 'tolerate', 'a', 'physically', 'strong', 'female', 'lead', 'i', 'found', 'this', 'movie', 'much', 'more', 'fun', 'than', 'watching', 'rambo', 'fire', 'a', 'machine', 'gun', 'for', 'ten', 'minutes', 'straight', 'although', 'the', 'script', 'and', 'plot', 'were', 'only', 'somewhat', 'better', 'than', 'matrix', 'talk', 'about', 'abysmal', 'milla', 'unk', 'her', 'personal', 'trainer', 'and', 'her', 'costume', 'designer', 'really', 'get', 'an', 'a', 'for', 'style', 'and', 'appeal', 'don', 't', 'go', 'to', 'this', 'movie', 'expecting', 'a', 'profound', 'story', 'or', 'character', 'development', 'go', 'for', 'visual', 'entertainment', 'and', 'fast', 'paced', 'action']\n",
            "predicted label: 1\n",
            "real label: 3\n",
            "\n",
            "review: ['i', 'have', 'not', 'seen', 'this', 'dvd', 'not', 'released', 'yet', 'but', 'this', 'is', 'one', 'of', 'my', 'all', 'time', 'favorite', 'films', 'philip', 'kaufman', 'who', 'also', 'directed', 'the', 'right', 'stuff', 'invasion', 'of', 'the', 'body', 'snatchers', 'remake', 'and', 'henry', 'and', 'june', 'combines', 'beautiful', 'and', 'erotic', 'visuals', 'with', 'a', 'compelling', 'story', 'of', 'people', 'caught', 'up', 'in', 'the', 'unk', 'uprising', 'in', 'unk', 'and', 'its', 'aftermath', 'wonderful', 'performances', 'by', 'juliette', 'binoche', 'lena', 'olin', 'and', 'daniel', 'day', 'lewis', 'stands', 'up', 'well', 'to', 'repeated', 'viewings', 'i', 'have', 'seen', 'this', 'in', 'the', 'theatre', 'on', 'laserdisc', 'and', 'on', 'the', 'excellent', 'criterion', 'dvd', 'don', 't', 'watch', 'it', 'full', 'screen', 'unk']\n",
            "predicted label: 5\n",
            "real label: 4\n",
            "\n",
            "review: ['the', 'story', 'focuses', 'on', 'the', 'last', 'days', 'prior', 'to', 'a', 'heavily', 'contested', 'ohio', 'presidential', 'primary', 'we', 're', 'treated', 'to', 'two', 'scandals', 'one', 'an', 'affair', 'between', 'an', 'intern', 'and', 'the', 'candidate', 'george', 'clooney', ';', 'she', 'become', 'pregnant', 'feels', 'isolated', 'thanks', 'to', 'p', 'r', 'man', 'ryan', 'gosling', 'stephen', 'meyers', 'the', 'other', 'involves', 'gosling', 'meeting', 'with', 'the', 'opponent', 's', 'campaign', 'manager', 'over', 'a', 'possible', 'job', 'turns', 'out', 'the', 'job', 'offer', 'was', 'just', 'a', 'ruse', 'to', 'get', 'gosling', 'fired', 'bottom', 'line', ':', 'how', 'can', 'anyone', 'not', 'be', 'sick', 'of', 'politics', 'it', 'dominates', 'the', 'news', 'most', 'of', 'the', 'time', 'adding', 'the', 'ides', 'of', 'march', 'to', 'an', 'already', 'crowded', 'political', 'environment', 'is', 'overkill', 'boring']\n",
            "predicted label: 3\n",
            "real label: 2\n",
            "\n",
            "review: ['the', 'quality', 'of', 'the', 'walking', 'dead', 'was', 'very', 'poor', 'i', 'highly', 'advise', 'anyone', 'interested', 'in', 'this', 'product', 'to', 'order', 'the', 'dvd', 's', 'and', 'ignore', 'the', 'digital', 'dl', 'i', 'had', 'the', 'dl', 'playing', 'at', 'unk', 'and', 'it', 'looked', 'like', 'unk', 'because', 'of', 'this', 'experience', 'i', 'will', 'not', 'waste', 'my', 'money', 'on', 'an', 'amazon', 'digital', 'dl', 'for', 'a', 'few', 'years', 'at', 'least', 'my', 'cable', 'connection', 'is', 'cable', 'unk', 'unk', 'up', 'and', 'unk', 'down', 'with', 'speed', 'burst', 'up', 'to', 'unk', 'down']\n",
            "predicted label: 1\n",
            "real label: 2\n",
            "\n",
            "review: ['just', 'a', 'bad', 'movie']\n",
            "predicted label: 1\n",
            "real label: 2\n",
            "\n",
            "review: ['much', 'slower', 'than', 'i', 'remembered', 'not', 'our', 'favorite']\n",
            "predicted label: 2\n",
            "real label: 3\n",
            "\n",
            "review: ['this', 'poor', 'unk', 'spectacle', 'should', 'be', 'obligatory', 'viewing', 'for', 'teaching', 'how', 'not', 'to', 'write', 'a', 'musical', 'unk', 'for', 'starters', 'larry', 'kramer', 's', 'script', 'progresses', 'for', 'unk', 'minutes', 'of', 'straight', 'action', 'adventure', 'without', 'a', 'song', 'in', 'sight', 'by', 'the', 'time', 'the', 'first', 'song', 'appears', 'as', 'sung', 'and', 'danced', 'by', 'olivia', 'hussey', 'as', 'shangri', 'la', 's', 'dinner', 'entertainer', 'the', 'suspension', 'of', 'belief', 'one', 'needs', 'to', 'accept', 'a', 'reality', 'where', 'people', 'can', 'burst', 'into', 'song', 'and', 'dance', 'is', 'shattered', 'think', 'of', 'how', 'west', 'side', 'story', 'creates', 'an', 'alternate', 'reality', 'of', 'song', 'and', 'dance', 'in', 'the', 'gritty', 'streets', 'of', 'new', 'york', 'from', 'the', 'very', 'beginning', 'unk', 'the', 'songs', 'by', 'burt', 'bacharach', 'and', 'hal', 'david', 'the', 'worst', 'possible', 'composing', 'team', 'for', 'this', 'project', 'are', 'truly', 'bland', 'stupid', 'and', 'ultimately', 'terrible', 'examples', 'of', 'new', 'wave', 'type', 'pop', 'the', 'musical', 'oklahoma', 'by', 'rodgers', 'and', 'hammerstein', 'was', 'notable', 'for', 'showing', 'us', 'that', 'music', 'lyrics', 'song', 'and', 'dance', 'can', 'contribute', 'to', 'plot', 'development', 'while', 'they', 'propel', 'the', 'musical', 'toward', 'its', 'conclusion', 'an', 'even', 'finer', 'example', 'since', 'it', 'also', 'deals', 'with', 'a', 'mythical', 'place', 'would', 'be', 'brigadoon', 'in', 'lost', 'horizon', 'the', 'songs', 'all', 'sit', 'like', 'a', 'lump', 'and', 'do', 'nothing', 'to', 'advance', 'the', 'story', 'in', 'fact', 'they', 'could', 'easily', 'be']\n",
            "predicted label: 1\n",
            "real label: 2\n",
            "\n",
            "review: ['very', 'good']\n",
            "predicted label: 4\n",
            "real label: 5\n",
            "\n",
            "review: ['constantine', 'is', 'yet', 'another', 'movie', 'based', 'on', 'a', 'comic', 'book', 'that', 'even', 'most', 'comic', 'book', 'nerd', 'hadn', 't', 'heard', 'of', 'so', 'they', 'take', 'the', 'story', 'of', 'john', 'constantine', 'on', 'the', 'pursuit', 'of', 'riding', 'the', 'world', 'of', 'demons', 'because', 'of', 'something', 'long', 'ago', 'that', 'bars', 'him', 'from', 'the', 'gates', 'of', 'heaven', 'it', 's', 'extra', 'important', 'to', 'get', 'in', 'now', 'because', 'a', 'large', 'chunk', 'of', 'the', 'residents', 'of', 'hell', 'were', 'put', 'their', 'by', 'him', 'in', 'the', 'role', 'of', 'the', 'title', 'character', 'is', 'keanu', 'reeves', 'who', 'will', 'forever', 'conjure', 'up', 'the', 'thoughts', 'of', 'theodore', 'logan', 'no', 'matter', 'how', 'serious', 'the', 'role', 'needless', 'to', 'say', 'the', 'slacker', 'surfer', 'persona', 'doesn', 't', 'mesh', 'well', 'with', 'the', 'demon', 'hunter', 'on', 'his', 'quest', 'in', 'the', 'movie', 'constantine', 'crosses', 'path', 'with', 'the', 'chick', 'from', 'the', 'mummy', 'movies', 'as', 'a', 'detective', 'trying', 'to', 'prove', 'that', 'her', 'twin', 'didn', 't', 'commit', 'suicide', 'and', 'because', 'ever', 'good', 'comic', 'book', 'character', 'need', 'a', 'sidekick', 'and', 'constantine', 'has', 'a', 'cab', 'driving', 'apprentice', 'played', 'by', 'the', 'dude', 'from', 'one', 'of', 'the', 'disney', 'channel', 'shows', 'that', 'i', 'won', 't', 'admit', 'to', 'watching', 'one', 'of', 'the', 'few', 'entertaining', 'elements', 'of', 'the', 'movie', 'is', 'the', 'unintentional', 'comedy', 'most', 'notable', 'being', 'every', 'moment', 'where', 'reeves', 'tries', 'to', 'act']\n",
            "predicted label: 3\n",
            "real label: 2\n",
            "\n",
            "review: ['plot', ':', 'manic', 'levitt', 'gets', 'sent', 'to', 'a', 'mental', 'health', 'facility', 'after', 'almost', 'killing', 'a', 'fellow', 'student', 'the', 'rest', 'of', 'the', 'movie', 'circles', 'around', 'other', 'youths', 'in', 'the', 'facility', 'and', 'the', 'staff', 'trying', 'to', 'help', 'as', 'best', 'they', 'can', 'i', 'watched', 'this', 'movie', 'for', 'levitt', 'who', 'gives', 'a', 'pretty', 'good', 'performance', 'but', 'the', 'movie', 'often', 'lacked', 'realistic', 'substance', 'the', 'facility', 'in', 'the', 'movie', 'seemed', 'more', 'like', 'a', 'come', 'and', 'go', 'as', 'you', 'please', 'daycare', 'than', 'an', 'actual', 'mental', 'health', 'facility', 'suffering', 'from', 'a', 'disorder', 'myself', 'each', 'character', 'had', 'relatable', 'points', 'unk', 'the', 'movie', 'but', 'something', 'often', 'felt', 'missing', 'the', 'only', 'consistent', 'and', 'sound', 'acting', 'imo', 'was', 'from', 'cheadle', 'mainly', 'because', 'when', 'i', 'was', 'unk', 'many', 'years', 'ago', 'i', 'had', 'a', 'case', 'worker', 'much', 'like', 'him', 'you', 'could', 'just', 'see', 'in', 'his', 'eyes', 'he', 'wanted', 'to', 'say', 'f', 'it', 'and', 'walk', 'away', 'but', 'something', 'always', 'made', 'him', 'stay', 'if', 'you', 're', 'a', 'psych', 'major', 'are', 'interested', 'in', 'a', 'somewhat', 'fair', 'example', 'of', 'mental', 'illness', 'and', 'healthcare', 'or', 'just', 'follow', 'certain', 'actors', 'then', 'watch', 'this', 'i', 'give', 'it', 'a', 'b', 'c']\n",
            "predicted label: 2\n",
            "real label: 4\n",
            "\n",
            "review: ['this', 'movie', 'left', 'me', 'wanting', 'it', 'is', 'quite', 'possibly', 'the', 'worst', 'of', 'the', 'bond', 'movies', 'instead', 'of', 'being', 'able', 'to', 'get', 'out', 'of', 'impossible', 'situations', 'because', 'he', 'has', 'fantastic', 'gadgets', 'this', 'one', 'make', 'a', 'point', 'of', 'not', 'having', 'said', 'gadgets', 'and', 'instead', 'just', 'has', 'him', 'doing', 'impossible', 'stunts', 'it', 'lost', 'all', 'of', 'the', 'charm', 'of', 'the', 'bond', 'character']\n",
            "predicted label: 2\n",
            "real label: 3\n",
            "\n",
            "review: ['save', 'your', 'money', 'they', 'unk', 'out', 'big', 'time', 'on', 'the', 'blu', 'ray', 'version', 'the', 'picture', 'quality', 'is', 'horrible', 'shame', 'on', 'them', 'for', 'ripping', 'off', 'fans', 'like', 'this', 'we', 'pay', 'and', 'then', 'an', 'extra', 'unk', 'bucks', 'on', 'top', 'of', 'that', 'to', 'get', 'the', 'blu', 'ray', 'high', 'quality', 'and', 'what', 'they', 'deliver', 'is', 'a', 'pixelated', 'grainy', 'so', 'called', 'movie', 'that', 's', 'no', 'better', 'than', 'a', 'double', 'episode', 'of', 'the', 'tv', 'series', 'at', 'a', 'price', 'approaching', 'that', 'of', 'an', 'entire', 'season', 'on', 'dvd']\n",
            "predicted label: 1\n",
            "real label: 3\n",
            "\n",
            "review: ['could', 'not', 'watch', 'this', 'movie', 'the', 'sound', 'kept', 'getting', 'out', 'of', 'sync', 'with', 'the', 'video', 'problem', 'with', 'amazon', 'streaming', 'i', 'kept', 'reloading', 'and', 'restarting', 'after', 'about', 'unk', 'seconds', 'audio', 'would', 'be', 'out', 'of', 'sync', 'again', 'very', 'annoying']\n",
            "predicted label: 1\n",
            "real label: 2\n",
            "\n",
            "review: ['the', 'show', 'is', 'great', 'this', 'video', 'is', 'not', 'you', 'can', 'go', 'anywhere', 'and', 'pick', 'up', 'a', 'workout', 'dvd', 'and', 'it', 'will', 'basically', 'be', 'the', 'same']\n",
            "predicted label: 4\n",
            "real label: 2\n",
            "\n",
            "review: ['love', 'robert', 'redford', 'but', 'as', 'a', 'sailor', 'this', 'is', 'a', 'horrible', 'portrayal']\n",
            "predicted label: 1\n",
            "real label: 2\n",
            "\n",
            "review: ['this', 'movie', 'is', 'yet', 'another', 'great', 'movie', 'in', 'the', 'series', 'so', 'get', 'some', 'popcorn', 'and', 'soda', 'and', 'strap', 'in', 'for', 'a', 'wild', 'ride', 'in', 'the', 'wizarding', 'world']\n",
            "predicted label: 5\n",
            "real label: 4\n",
            "\n",
            "review: ['the', 'special', 'effects', 'were', 'really', 'good', 'but', 'the', 'story', 'was', 'not', 'there', 'if', 'i', 'had', 'not', 'known', 'the', 'story', 'i', 'would', 'have', 'been', 'left', 'wondering', 'i', 'liked', 'the', 'witches', 'and', 'medusa', 'creatures', 'but', 'was', 'left', 'cold', 'by', 'zeus', 'the', 'old', 'picture', 'with', 'harry', 'hamlin', 'was', 'short', 'on', 'special', 'effects', 'but', 'the', 'story', 'was', 'great', 'and', 'i', 'had', 'hoped', 'this', 'movie', 'would', 'have', 'the', 'same', 'great', 'story', 'with', 'better', 'visual', 'effects', 'like', 'i', 'said', 'the', 'visuals', 'were', 'great', 'but', 'the', 'story', 'sucked', 'i', 'did', 'like', 'iol', 'getting', 'perseus', 'though']\n",
            "predicted label: 2\n",
            "real label: 3\n",
            "\n",
            "review: ['i', 'think', 'trippy', 'and', 'franny', 'were', 'practicing', 'incest', 'but', 'a', 'good', 'movie']\n",
            "predicted label: 4\n",
            "real label: 5\n",
            "\n"
          ],
          "name": "stdout"
        }
      ]
    }
  ]
}